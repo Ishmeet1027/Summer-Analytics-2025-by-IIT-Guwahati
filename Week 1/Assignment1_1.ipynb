{
  "cells": [
    {
      "cell_type": "markdown",
      "metadata": {
        "id": "7t7O3hPJQQ1h" 
      },
      "source": [
        "**Welcome to your first assignment of Summer Analytics 2023! We hope you are excited to implement and test everything you have learnt up until now.<a href = \"https://drive.google.com/file/d/1U73P58VAc4EXM98Or9feKnVx9I9FOP_L/view?usp=sharing\"> The dataset</a> which you'll use includes information about Movies.**"
      ]
    }, 
    {
      "cell_type": "markdown",
      "metadata": {
        "id": "8yDZv8F_QiqH"
      },
      "source": [
        " We've got an interesting set of questions for you to get a basic understanding of pandas and data visualization libraries. GOOD LUCK!\n",
        " \n",
        "Let's get started with importing numpy, pandas, seaborn and matplotlib! "
      ]
    },
    {
      "cell_type": "markdown",
      "metadata": {
        "id": "p-nMuCNQQxx_"
      },
      "source": [
        "Note - matplotlib should be imported with the command :\n",
        "\n",
        "**import matplotlib.pyplot as plt**"
      ]
    },
    {
      "cell_type": "markdown",
      "metadata": {
        "id": "nz8BTfnCRC8v"
      },
      "source": [
        "Start by importing all important libraries"
      ]
    },
    {
      "cell_type": "code",
      "execution_count": null,
      "metadata": {
        "id": "rKkyeMJiO0up"
      },
      "outputs": [],
      "source": [
        "import pandas as pd\n",
        "import numpy as np\n",
        "import matplotlib.pyplot as plt\n",
        "import seaborn as sns\n"
      ]
    },
    {
      "cell_type": "markdown",
      "metadata": {
        "id": "2N8LabERRONN"
      },
      "source": [
        "Read the csv file and assign it to a variable ."
      ]
    },
    {
      "cell_type": "code",
      "execution_count": null,
      "metadata": {
        "id": "vnjh3IZmRO72",
        "outputId": "37dea90f-eca3-451e-aa03-64b898990fd8"
      },
      "outputs": [
        {
          "data": {
            "text/html": [
              "<div>\n",
              "<style scoped>\n",
              "    .dataframe tbody tr th:only-of-type {\n",
              "        vertical-align: middle;\n",
              "    }\n",
              "\n",
              "    .dataframe tbody tr th {\n",
              "        vertical-align: top;\n",
              "    }\n",
              "\n",
              "    .dataframe thead th {\n",
              "        text-align: right;\n",
              "    }\n",
              "</style>\n",
              "<table border=\"1\" class=\"dataframe\">\n",
              "  <thead>\n",
              "    <tr style=\"text-align: right;\">\n",
              "      <th></th>\n",
              "      <th>Poster_Link</th>\n",
              "      <th>Series_Title</th>\n",
              "      <th>Released_Year</th>\n",
              "      <th>Certificate</th>\n",
              "      <th>Runtime</th>\n",
              "      <th>Genre</th>\n",
              "      <th>IMDB_Rating</th>\n",
              "      <th>Overview</th>\n",
              "      <th>Meta_score</th>\n",
              "      <th>Director</th>\n",
              "      <th>Star1</th>\n",
              "      <th>Star2</th>\n",
              "      <th>Star3</th>\n",
              "      <th>Star4</th>\n",
              "      <th>No_of_Votes</th>\n",
              "      <th>Gross</th>\n",
              "    </tr>\n",
              "  </thead>\n",
              "  <tbody>\n",
              "    <tr>\n",
              "      <th>0</th>\n",
              "      <td>https://m.media-amazon.com/images/M/MV5BMDFkYT...</td>\n",
              "      <td>The Shawshank Redemption</td>\n",
              "      <td>1994</td>\n",
              "      <td>A</td>\n",
              "      <td>142 min</td>\n",
              "      <td>Drama</td>\n",
              "      <td>9.3</td>\n",
              "      <td>Two imprisoned men bond over a number of years...</td>\n",
              "      <td>80.0</td>\n",
              "      <td>Frank Darabont</td>\n",
              "      <td>Tim Robbins</td>\n",
              "      <td>Morgan Freeman</td>\n",
              "      <td>Bob Gunton</td>\n",
              "      <td>William Sadler</td>\n",
              "      <td>2343110</td>\n",
              "      <td>28,341,469</td>\n",
              "    </tr>\n",
              "    <tr>\n",
              "      <th>1</th>\n",
              "      <td>https://m.media-amazon.com/images/M/MV5BM2MyNj...</td>\n",
              "      <td>The Godfather</td>\n",
              "      <td>1972</td>\n",
              "      <td>A</td>\n",
              "      <td>175 min</td>\n",
              "      <td>Crime, Drama</td>\n",
              "      <td>9.2</td>\n",
              "      <td>An organized crime dynasty's aging patriarch t...</td>\n",
              "      <td>100.0</td>\n",
              "      <td>Francis Ford Coppola</td>\n",
              "      <td>Marlon Brando</td>\n",
              "      <td>Al Pacino</td>\n",
              "      <td>James Caan</td>\n",
              "      <td>Diane Keaton</td>\n",
              "      <td>1620367</td>\n",
              "      <td>134,966,411</td>\n",
              "    </tr>\n",
              "    <tr>\n",
              "      <th>2</th>\n",
              "      <td>https://m.media-amazon.com/images/M/MV5BMTMxNT...</td>\n",
              "      <td>The Dark Knight</td>\n",
              "      <td>2008</td>\n",
              "      <td>UA</td>\n",
              "      <td>152 min</td>\n",
              "      <td>Action, Crime, Drama</td>\n",
              "      <td>9.0</td>\n",
              "      <td>When the menace known as the Joker wreaks havo...</td>\n",
              "      <td>84.0</td>\n",
              "      <td>Christopher Nolan</td>\n",
              "      <td>Christian Bale</td>\n",
              "      <td>Heath Ledger</td>\n",
              "      <td>Aaron Eckhart</td>\n",
              "      <td>Michael Caine</td>\n",
              "      <td>2303232</td>\n",
              "      <td>534,858,444</td>\n",
              "    </tr>\n",
              "    <tr>\n",
              "      <th>3</th>\n",
              "      <td>https://m.media-amazon.com/images/M/MV5BMWMwMG...</td>\n",
              "      <td>The Godfather: Part II</td>\n",
              "      <td>1974</td>\n",
              "      <td>A</td>\n",
              "      <td>202 min</td>\n",
              "      <td>Crime, Drama</td>\n",
              "      <td>9.0</td>\n",
              "      <td>The early life and career of Vito Corleone in ...</td>\n",
              "      <td>90.0</td>\n",
              "      <td>Francis Ford Coppola</td>\n",
              "      <td>Al Pacino</td>\n",
              "      <td>Robert De Niro</td>\n",
              "      <td>Robert Duvall</td>\n",
              "      <td>Diane Keaton</td>\n",
              "      <td>1129952</td>\n",
              "      <td>57,300,000</td>\n",
              "    </tr>\n",
              "    <tr>\n",
              "      <th>4</th>\n",
              "      <td>https://m.media-amazon.com/images/M/MV5BMWU4N2...</td>\n",
              "      <td>12 Angry Men</td>\n",
              "      <td>1957</td>\n",
              "      <td>U</td>\n",
              "      <td>96 min</td>\n",
              "      <td>Crime, Drama</td>\n",
              "      <td>9.0</td>\n",
              "      <td>A jury holdout attempts to prevent a miscarria...</td>\n",
              "      <td>96.0</td>\n",
              "      <td>Sidney Lumet</td>\n",
              "      <td>Henry Fonda</td>\n",
              "      <td>Lee J. Cobb</td>\n",
              "      <td>Martin Balsam</td>\n",
              "      <td>John Fiedler</td>\n",
              "      <td>689845</td>\n",
              "      <td>4,360,000</td>\n",
              "    </tr>\n",
              "    <tr>\n",
              "      <th>...</th>\n",
              "      <td>...</td>\n",
              "      <td>...</td>\n",
              "      <td>...</td>\n",
              "      <td>...</td>\n",
              "      <td>...</td>\n",
              "      <td>...</td>\n",
              "      <td>...</td>\n",
              "      <td>...</td>\n",
              "      <td>...</td>\n",
              "      <td>...</td>\n",
              "      <td>...</td>\n",
              "      <td>...</td>\n",
              "      <td>...</td>\n",
              "      <td>...</td>\n",
              "      <td>...</td>\n",
              "      <td>...</td>\n",
              "    </tr>\n",
              "    <tr>\n",
              "      <th>995</th>\n",
              "      <td>https://m.media-amazon.com/images/M/MV5BNGEwMT...</td>\n",
              "      <td>Breakfast at Tiffany's</td>\n",
              "      <td>1961</td>\n",
              "      <td>A</td>\n",
              "      <td>115 min</td>\n",
              "      <td>Comedy, Drama, Romance</td>\n",
              "      <td>7.6</td>\n",
              "      <td>A young New York socialite becomes interested ...</td>\n",
              "      <td>76.0</td>\n",
              "      <td>Blake Edwards</td>\n",
              "      <td>Audrey Hepburn</td>\n",
              "      <td>George Peppard</td>\n",
              "      <td>Patricia Neal</td>\n",
              "      <td>Buddy Ebsen</td>\n",
              "      <td>166544</td>\n",
              "      <td>NaN</td>\n",
              "    </tr>\n",
              "    <tr>\n",
              "      <th>996</th>\n",
              "      <td>https://m.media-amazon.com/images/M/MV5BODk3Yj...</td>\n",
              "      <td>Giant</td>\n",
              "      <td>1956</td>\n",
              "      <td>G</td>\n",
              "      <td>201 min</td>\n",
              "      <td>Drama, Western</td>\n",
              "      <td>7.6</td>\n",
              "      <td>Sprawling epic covering the life of a Texas ca...</td>\n",
              "      <td>84.0</td>\n",
              "      <td>George Stevens</td>\n",
              "      <td>Elizabeth Taylor</td>\n",
              "      <td>Rock Hudson</td>\n",
              "      <td>James Dean</td>\n",
              "      <td>Carroll Baker</td>\n",
              "      <td>34075</td>\n",
              "      <td>NaN</td>\n",
              "    </tr>\n",
              "    <tr>\n",
              "      <th>997</th>\n",
              "      <td>https://m.media-amazon.com/images/M/MV5BM2U3Yz...</td>\n",
              "      <td>From Here to Eternity</td>\n",
              "      <td>1953</td>\n",
              "      <td>Passed</td>\n",
              "      <td>118 min</td>\n",
              "      <td>Drama, Romance, War</td>\n",
              "      <td>7.6</td>\n",
              "      <td>In Hawaii in 1941, a private is cruelly punish...</td>\n",
              "      <td>85.0</td>\n",
              "      <td>Fred Zinnemann</td>\n",
              "      <td>Burt Lancaster</td>\n",
              "      <td>Montgomery Clift</td>\n",
              "      <td>Deborah Kerr</td>\n",
              "      <td>Donna Reed</td>\n",
              "      <td>43374</td>\n",
              "      <td>30,500,000</td>\n",
              "    </tr>\n",
              "    <tr>\n",
              "      <th>998</th>\n",
              "      <td>https://m.media-amazon.com/images/M/MV5BZTBmMj...</td>\n",
              "      <td>Lifeboat</td>\n",
              "      <td>1944</td>\n",
              "      <td>NaN</td>\n",
              "      <td>97 min</td>\n",
              "      <td>Drama, War</td>\n",
              "      <td>7.6</td>\n",
              "      <td>Several survivors of a torpedoed merchant ship...</td>\n",
              "      <td>78.0</td>\n",
              "      <td>Alfred Hitchcock</td>\n",
              "      <td>Tallulah Bankhead</td>\n",
              "      <td>John Hodiak</td>\n",
              "      <td>Walter Slezak</td>\n",
              "      <td>William Bendix</td>\n",
              "      <td>26471</td>\n",
              "      <td>NaN</td>\n",
              "    </tr>\n",
              "    <tr>\n",
              "      <th>999</th>\n",
              "      <td>https://m.media-amazon.com/images/M/MV5BMTY5OD...</td>\n",
              "      <td>The 39 Steps</td>\n",
              "      <td>1935</td>\n",
              "      <td>NaN</td>\n",
              "      <td>86 min</td>\n",
              "      <td>Crime, Mystery, Thriller</td>\n",
              "      <td>7.6</td>\n",
              "      <td>A man in London tries to help a counter-espion...</td>\n",
              "      <td>93.0</td>\n",
              "      <td>Alfred Hitchcock</td>\n",
              "      <td>Robert Donat</td>\n",
              "      <td>Madeleine Carroll</td>\n",
              "      <td>Lucie Mannheim</td>\n",
              "      <td>Godfrey Tearle</td>\n",
              "      <td>51853</td>\n",
              "      <td>NaN</td>\n",
              "    </tr>\n",
              "  </tbody>\n",
              "</table>\n",
              "<p>1000 rows × 16 columns</p>\n",
              "</div>"
            ],
            "text/plain": [
              "                                           Poster_Link  \\\n",
              "0    https://m.media-amazon.com/images/M/MV5BMDFkYT...   \n",
              "1    https://m.media-amazon.com/images/M/MV5BM2MyNj...   \n",
              "2    https://m.media-amazon.com/images/M/MV5BMTMxNT...   \n",
              "3    https://m.media-amazon.com/images/M/MV5BMWMwMG...   \n",
              "4    https://m.media-amazon.com/images/M/MV5BMWU4N2...   \n",
              "..                                                 ...   \n",
              "995  https://m.media-amazon.com/images/M/MV5BNGEwMT...   \n",
              "996  https://m.media-amazon.com/images/M/MV5BODk3Yj...   \n",
              "997  https://m.media-amazon.com/images/M/MV5BM2U3Yz...   \n",
              "998  https://m.media-amazon.com/images/M/MV5BZTBmMj...   \n",
              "999  https://m.media-amazon.com/images/M/MV5BMTY5OD...   \n",
              "\n",
              "                 Series_Title Released_Year Certificate  Runtime  \\\n",
              "0    The Shawshank Redemption          1994           A  142 min   \n",
              "1               The Godfather          1972           A  175 min   \n",
              "2             The Dark Knight          2008          UA  152 min   \n",
              "3      The Godfather: Part II          1974           A  202 min   \n",
              "4                12 Angry Men          1957           U   96 min   \n",
              "..                        ...           ...         ...      ...   \n",
              "995    Breakfast at Tiffany's          1961           A  115 min   \n",
              "996                     Giant          1956           G  201 min   \n",
              "997     From Here to Eternity          1953      Passed  118 min   \n",
              "998                  Lifeboat          1944         NaN   97 min   \n",
              "999              The 39 Steps          1935         NaN   86 min   \n",
              "\n",
              "                        Genre  IMDB_Rating  \\\n",
              "0                       Drama          9.3   \n",
              "1                Crime, Drama          9.2   \n",
              "2        Action, Crime, Drama          9.0   \n",
              "3                Crime, Drama          9.0   \n",
              "4                Crime, Drama          9.0   \n",
              "..                        ...          ...   \n",
              "995    Comedy, Drama, Romance          7.6   \n",
              "996            Drama, Western          7.6   \n",
              "997       Drama, Romance, War          7.6   \n",
              "998                Drama, War          7.6   \n",
              "999  Crime, Mystery, Thriller          7.6   \n",
              "\n",
              "                                              Overview  Meta_score  \\\n",
              "0    Two imprisoned men bond over a number of years...        80.0   \n",
              "1    An organized crime dynasty's aging patriarch t...       100.0   \n",
              "2    When the menace known as the Joker wreaks havo...        84.0   \n",
              "3    The early life and career of Vito Corleone in ...        90.0   \n",
              "4    A jury holdout attempts to prevent a miscarria...        96.0   \n",
              "..                                                 ...         ...   \n",
              "995  A young New York socialite becomes interested ...        76.0   \n",
              "996  Sprawling epic covering the life of a Texas ca...        84.0   \n",
              "997  In Hawaii in 1941, a private is cruelly punish...        85.0   \n",
              "998  Several survivors of a torpedoed merchant ship...        78.0   \n",
              "999  A man in London tries to help a counter-espion...        93.0   \n",
              "\n",
              "                 Director              Star1              Star2  \\\n",
              "0          Frank Darabont        Tim Robbins     Morgan Freeman   \n",
              "1    Francis Ford Coppola      Marlon Brando          Al Pacino   \n",
              "2       Christopher Nolan     Christian Bale       Heath Ledger   \n",
              "3    Francis Ford Coppola          Al Pacino     Robert De Niro   \n",
              "4            Sidney Lumet        Henry Fonda        Lee J. Cobb   \n",
              "..                    ...                ...                ...   \n",
              "995         Blake Edwards     Audrey Hepburn     George Peppard   \n",
              "996        George Stevens   Elizabeth Taylor        Rock Hudson   \n",
              "997        Fred Zinnemann     Burt Lancaster   Montgomery Clift   \n",
              "998      Alfred Hitchcock  Tallulah Bankhead        John Hodiak   \n",
              "999      Alfred Hitchcock       Robert Donat  Madeleine Carroll   \n",
              "\n",
              "              Star3           Star4  No_of_Votes        Gross  \n",
              "0        Bob Gunton  William Sadler      2343110   28,341,469  \n",
              "1        James Caan    Diane Keaton      1620367  134,966,411  \n",
              "2     Aaron Eckhart   Michael Caine      2303232  534,858,444  \n",
              "3     Robert Duvall    Diane Keaton      1129952   57,300,000  \n",
              "4     Martin Balsam    John Fiedler       689845    4,360,000  \n",
              "..              ...             ...          ...          ...  \n",
              "995   Patricia Neal     Buddy Ebsen       166544          NaN  \n",
              "996      James Dean   Carroll Baker        34075          NaN  \n",
              "997    Deborah Kerr      Donna Reed        43374   30,500,000  \n",
              "998   Walter Slezak  William Bendix        26471          NaN  \n",
              "999  Lucie Mannheim  Godfrey Tearle        51853          NaN  \n",
              "\n",
              "[1000 rows x 16 columns]"
            ]
          },
          "execution_count": 156,
          "metadata": {},
          "output_type": "execute_result"
        }
      ],
      "source": [
        "movies=pd.read_csv(\"imdb_top_1000.csv\")\n",
        "movies"
      ]
    },
    {
      "cell_type": "markdown",
      "metadata": {
        "id": "EifdwomBRPxy"
      },
      "source": [
        "Display shape of dataframe"
      ]
    },
    {
      "cell_type": "code",
      "execution_count": null,
      "metadata": {
        "id": "lM8S9INfRSt3",
        "outputId": "f19888de-f65e-4978-a838-2542172ecdba"
      },
      "outputs": [
        {
          "data": {
            "text/plain": [
              "(1000, 16)"
            ]
          },
          "execution_count": 157,
          "metadata": {},
          "output_type": "execute_result"
        }
      ],
      "source": [
        "movies.shape"
      ]
    },
    {
      "cell_type": "markdown",
      "metadata": {
        "id": "Q9xTIt54RVTY"
      },
      "source": [
        "Print all columns of dataframe"
      ]
    },
    {
      "cell_type": "code",
      "execution_count": null,
      "metadata": {
        "id": "kn3VPvn6RV4_",
        "outputId": "be5e1608-e570-41a9-9201-5fa054c17ec2"
      },
      "outputs": [
        {
          "data": {
            "text/plain": [
              "Index(['Poster_Link', 'Series_Title', 'Released_Year', 'Certificate',\n",
              "       'Runtime', 'Genre', 'IMDB_Rating', 'Overview', 'Meta_score', 'Director',\n",
              "       'Star1', 'Star2', 'Star3', 'Star4', 'No_of_Votes', 'Gross'],\n",
              "      dtype='object')"
            ]
          },
          "execution_count": 158,
          "metadata": {},
          "output_type": "execute_result"
        }
      ],
      "source": [
        "movies.columns"
      ]
    },
    {
      "cell_type": "markdown",
      "metadata": {
        "id": "3jtm084KRleN"
      },
      "source": [
        "Remove the column 'Poster_Link' and update the dataframe."
      ]
    },
    {
      "cell_type": "code",
      "execution_count": null,
      "metadata": {
        "id": "zYIz3q0ARnuU"
      },
      "outputs": [],
      "source": [
        "movies= movies.drop('Poster_Link', axis=1)\n"
      ]
    },
    {
      "cell_type": "markdown",
      "metadata": {
        "id": "ss6QYp4YRrfY"
      },
      "source": [
        "Set the 'Series_Title' column as the index of dataframe"
      ]
    },
    {
      "cell_type": "code",
      "execution_count": null,
      "metadata": {
        "id": "iXNaEmTkR3tB",
        "outputId": "87e41050-a1e8-492a-9022-21eb05342ed6"
      },
      "outputs": [
        {
          "data": {
            "text/html": [
              "<div>\n",
              "<style scoped>\n",
              "    .dataframe tbody tr th:only-of-type {\n",
              "        vertical-align: middle;\n",
              "    }\n",
              "\n",
              "    .dataframe tbody tr th {\n",
              "        vertical-align: top;\n",
              "    }\n",
              "\n",
              "    .dataframe thead th {\n",
              "        text-align: right;\n",
              "    }\n",
              "</style>\n",
              "<table border=\"1\" class=\"dataframe\">\n",
              "  <thead>\n",
              "    <tr style=\"text-align: right;\">\n",
              "      <th></th>\n",
              "      <th>Released_Year</th>\n",
              "      <th>Certificate</th>\n",
              "      <th>Runtime</th>\n",
              "      <th>Genre</th>\n",
              "      <th>IMDB_Rating</th>\n",
              "      <th>Overview</th>\n",
              "      <th>Meta_score</th>\n",
              "      <th>Director</th>\n",
              "      <th>Star1</th>\n",
              "      <th>Star2</th>\n",
              "      <th>Star3</th>\n",
              "      <th>Star4</th>\n",
              "      <th>No_of_Votes</th>\n",
              "      <th>Gross</th>\n",
              "    </tr>\n",
              "    <tr>\n",
              "      <th>Series_Title</th>\n",
              "      <th></th>\n",
              "      <th></th>\n",
              "      <th></th>\n",
              "      <th></th>\n",
              "      <th></th>\n",
              "      <th></th>\n",
              "      <th></th>\n",
              "      <th></th>\n",
              "      <th></th>\n",
              "      <th></th>\n",
              "      <th></th>\n",
              "      <th></th>\n",
              "      <th></th>\n",
              "      <th></th>\n",
              "    </tr>\n",
              "  </thead>\n",
              "  <tbody>\n",
              "    <tr>\n",
              "      <th>The Shawshank Redemption</th>\n",
              "      <td>1994</td>\n",
              "      <td>A</td>\n",
              "      <td>142 min</td>\n",
              "      <td>Drama</td>\n",
              "      <td>9.3</td>\n",
              "      <td>Two imprisoned men bond over a number of years...</td>\n",
              "      <td>80.0</td>\n",
              "      <td>Frank Darabont</td>\n",
              "      <td>Tim Robbins</td>\n",
              "      <td>Morgan Freeman</td>\n",
              "      <td>Bob Gunton</td>\n",
              "      <td>William Sadler</td>\n",
              "      <td>2343110</td>\n",
              "      <td>28,341,469</td>\n",
              "    </tr>\n",
              "    <tr>\n",
              "      <th>The Godfather</th>\n",
              "      <td>1972</td>\n",
              "      <td>A</td>\n",
              "      <td>175 min</td>\n",
              "      <td>Crime, Drama</td>\n",
              "      <td>9.2</td>\n",
              "      <td>An organized crime dynasty's aging patriarch t...</td>\n",
              "      <td>100.0</td>\n",
              "      <td>Francis Ford Coppola</td>\n",
              "      <td>Marlon Brando</td>\n",
              "      <td>Al Pacino</td>\n",
              "      <td>James Caan</td>\n",
              "      <td>Diane Keaton</td>\n",
              "      <td>1620367</td>\n",
              "      <td>134,966,411</td>\n",
              "    </tr>\n",
              "    <tr>\n",
              "      <th>The Dark Knight</th>\n",
              "      <td>2008</td>\n",
              "      <td>UA</td>\n",
              "      <td>152 min</td>\n",
              "      <td>Action, Crime, Drama</td>\n",
              "      <td>9.0</td>\n",
              "      <td>When the menace known as the Joker wreaks havo...</td>\n",
              "      <td>84.0</td>\n",
              "      <td>Christopher Nolan</td>\n",
              "      <td>Christian Bale</td>\n",
              "      <td>Heath Ledger</td>\n",
              "      <td>Aaron Eckhart</td>\n",
              "      <td>Michael Caine</td>\n",
              "      <td>2303232</td>\n",
              "      <td>534,858,444</td>\n",
              "    </tr>\n",
              "    <tr>\n",
              "      <th>The Godfather: Part II</th>\n",
              "      <td>1974</td>\n",
              "      <td>A</td>\n",
              "      <td>202 min</td>\n",
              "      <td>Crime, Drama</td>\n",
              "      <td>9.0</td>\n",
              "      <td>The early life and career of Vito Corleone in ...</td>\n",
              "      <td>90.0</td>\n",
              "      <td>Francis Ford Coppola</td>\n",
              "      <td>Al Pacino</td>\n",
              "      <td>Robert De Niro</td>\n",
              "      <td>Robert Duvall</td>\n",
              "      <td>Diane Keaton</td>\n",
              "      <td>1129952</td>\n",
              "      <td>57,300,000</td>\n",
              "    </tr>\n",
              "    <tr>\n",
              "      <th>12 Angry Men</th>\n",
              "      <td>1957</td>\n",
              "      <td>U</td>\n",
              "      <td>96 min</td>\n",
              "      <td>Crime, Drama</td>\n",
              "      <td>9.0</td>\n",
              "      <td>A jury holdout attempts to prevent a miscarria...</td>\n",
              "      <td>96.0</td>\n",
              "      <td>Sidney Lumet</td>\n",
              "      <td>Henry Fonda</td>\n",
              "      <td>Lee J. Cobb</td>\n",
              "      <td>Martin Balsam</td>\n",
              "      <td>John Fiedler</td>\n",
              "      <td>689845</td>\n",
              "      <td>4,360,000</td>\n",
              "    </tr>\n",
              "    <tr>\n",
              "      <th>...</th>\n",
              "      <td>...</td>\n",
              "      <td>...</td>\n",
              "      <td>...</td>\n",
              "      <td>...</td>\n",
              "      <td>...</td>\n",
              "      <td>...</td>\n",
              "      <td>...</td>\n",
              "      <td>...</td>\n",
              "      <td>...</td>\n",
              "      <td>...</td>\n",
              "      <td>...</td>\n",
              "      <td>...</td>\n",
              "      <td>...</td>\n",
              "      <td>...</td>\n",
              "    </tr>\n",
              "    <tr>\n",
              "      <th>Breakfast at Tiffany's</th>\n",
              "      <td>1961</td>\n",
              "      <td>A</td>\n",
              "      <td>115 min</td>\n",
              "      <td>Comedy, Drama, Romance</td>\n",
              "      <td>7.6</td>\n",
              "      <td>A young New York socialite becomes interested ...</td>\n",
              "      <td>76.0</td>\n",
              "      <td>Blake Edwards</td>\n",
              "      <td>Audrey Hepburn</td>\n",
              "      <td>George Peppard</td>\n",
              "      <td>Patricia Neal</td>\n",
              "      <td>Buddy Ebsen</td>\n",
              "      <td>166544</td>\n",
              "      <td>NaN</td>\n",
              "    </tr>\n",
              "    <tr>\n",
              "      <th>Giant</th>\n",
              "      <td>1956</td>\n",
              "      <td>G</td>\n",
              "      <td>201 min</td>\n",
              "      <td>Drama, Western</td>\n",
              "      <td>7.6</td>\n",
              "      <td>Sprawling epic covering the life of a Texas ca...</td>\n",
              "      <td>84.0</td>\n",
              "      <td>George Stevens</td>\n",
              "      <td>Elizabeth Taylor</td>\n",
              "      <td>Rock Hudson</td>\n",
              "      <td>James Dean</td>\n",
              "      <td>Carroll Baker</td>\n",
              "      <td>34075</td>\n",
              "      <td>NaN</td>\n",
              "    </tr>\n",
              "    <tr>\n",
              "      <th>From Here to Eternity</th>\n",
              "      <td>1953</td>\n",
              "      <td>Passed</td>\n",
              "      <td>118 min</td>\n",
              "      <td>Drama, Romance, War</td>\n",
              "      <td>7.6</td>\n",
              "      <td>In Hawaii in 1941, a private is cruelly punish...</td>\n",
              "      <td>85.0</td>\n",
              "      <td>Fred Zinnemann</td>\n",
              "      <td>Burt Lancaster</td>\n",
              "      <td>Montgomery Clift</td>\n",
              "      <td>Deborah Kerr</td>\n",
              "      <td>Donna Reed</td>\n",
              "      <td>43374</td>\n",
              "      <td>30,500,000</td>\n",
              "    </tr>\n",
              "    <tr>\n",
              "      <th>Lifeboat</th>\n",
              "      <td>1944</td>\n",
              "      <td>NaN</td>\n",
              "      <td>97 min</td>\n",
              "      <td>Drama, War</td>\n",
              "      <td>7.6</td>\n",
              "      <td>Several survivors of a torpedoed merchant ship...</td>\n",
              "      <td>78.0</td>\n",
              "      <td>Alfred Hitchcock</td>\n",
              "      <td>Tallulah Bankhead</td>\n",
              "      <td>John Hodiak</td>\n",
              "      <td>Walter Slezak</td>\n",
              "      <td>William Bendix</td>\n",
              "      <td>26471</td>\n",
              "      <td>NaN</td>\n",
              "    </tr>\n",
              "    <tr>\n",
              "      <th>The 39 Steps</th>\n",
              "      <td>1935</td>\n",
              "      <td>NaN</td>\n",
              "      <td>86 min</td>\n",
              "      <td>Crime, Mystery, Thriller</td>\n",
              "      <td>7.6</td>\n",
              "      <td>A man in London tries to help a counter-espion...</td>\n",
              "      <td>93.0</td>\n",
              "      <td>Alfred Hitchcock</td>\n",
              "      <td>Robert Donat</td>\n",
              "      <td>Madeleine Carroll</td>\n",
              "      <td>Lucie Mannheim</td>\n",
              "      <td>Godfrey Tearle</td>\n",
              "      <td>51853</td>\n",
              "      <td>NaN</td>\n",
              "    </tr>\n",
              "  </tbody>\n",
              "</table>\n",
              "<p>1000 rows × 14 columns</p>\n",
              "</div>"
            ],
            "text/plain": [
              "                         Released_Year Certificate  Runtime  \\\n",
              "Series_Title                                                  \n",
              "The Shawshank Redemption          1994           A  142 min   \n",
              "The Godfather                     1972           A  175 min   \n",
              "The Dark Knight                   2008          UA  152 min   \n",
              "The Godfather: Part II            1974           A  202 min   \n",
              "12 Angry Men                      1957           U   96 min   \n",
              "...                                ...         ...      ...   \n",
              "Breakfast at Tiffany's            1961           A  115 min   \n",
              "Giant                             1956           G  201 min   \n",
              "From Here to Eternity             1953      Passed  118 min   \n",
              "Lifeboat                          1944         NaN   97 min   \n",
              "The 39 Steps                      1935         NaN   86 min   \n",
              "\n",
              "                                             Genre  IMDB_Rating  \\\n",
              "Series_Title                                                      \n",
              "The Shawshank Redemption                     Drama          9.3   \n",
              "The Godfather                         Crime, Drama          9.2   \n",
              "The Dark Knight               Action, Crime, Drama          9.0   \n",
              "The Godfather: Part II                Crime, Drama          9.0   \n",
              "12 Angry Men                          Crime, Drama          9.0   \n",
              "...                                            ...          ...   \n",
              "Breakfast at Tiffany's      Comedy, Drama, Romance          7.6   \n",
              "Giant                               Drama, Western          7.6   \n",
              "From Here to Eternity          Drama, Romance, War          7.6   \n",
              "Lifeboat                                Drama, War          7.6   \n",
              "The 39 Steps              Crime, Mystery, Thriller          7.6   \n",
              "\n",
              "                                                                   Overview  \\\n",
              "Series_Title                                                                  \n",
              "The Shawshank Redemption  Two imprisoned men bond over a number of years...   \n",
              "The Godfather             An organized crime dynasty's aging patriarch t...   \n",
              "The Dark Knight           When the menace known as the Joker wreaks havo...   \n",
              "The Godfather: Part II    The early life and career of Vito Corleone in ...   \n",
              "12 Angry Men              A jury holdout attempts to prevent a miscarria...   \n",
              "...                                                                     ...   \n",
              "Breakfast at Tiffany's    A young New York socialite becomes interested ...   \n",
              "Giant                     Sprawling epic covering the life of a Texas ca...   \n",
              "From Here to Eternity     In Hawaii in 1941, a private is cruelly punish...   \n",
              "Lifeboat                  Several survivors of a torpedoed merchant ship...   \n",
              "The 39 Steps              A man in London tries to help a counter-espion...   \n",
              "\n",
              "                          Meta_score              Director              Star1  \\\n",
              "Series_Title                                                                    \n",
              "The Shawshank Redemption        80.0        Frank Darabont        Tim Robbins   \n",
              "The Godfather                  100.0  Francis Ford Coppola      Marlon Brando   \n",
              "The Dark Knight                 84.0     Christopher Nolan     Christian Bale   \n",
              "The Godfather: Part II          90.0  Francis Ford Coppola          Al Pacino   \n",
              "12 Angry Men                    96.0          Sidney Lumet        Henry Fonda   \n",
              "...                              ...                   ...                ...   \n",
              "Breakfast at Tiffany's          76.0         Blake Edwards     Audrey Hepburn   \n",
              "Giant                           84.0        George Stevens   Elizabeth Taylor   \n",
              "From Here to Eternity           85.0        Fred Zinnemann     Burt Lancaster   \n",
              "Lifeboat                        78.0      Alfred Hitchcock  Tallulah Bankhead   \n",
              "The 39 Steps                    93.0      Alfred Hitchcock       Robert Donat   \n",
              "\n",
              "                                      Star2           Star3           Star4  \\\n",
              "Series_Title                                                                  \n",
              "The Shawshank Redemption     Morgan Freeman      Bob Gunton  William Sadler   \n",
              "The Godfather                     Al Pacino      James Caan    Diane Keaton   \n",
              "The Dark Knight                Heath Ledger   Aaron Eckhart   Michael Caine   \n",
              "The Godfather: Part II       Robert De Niro   Robert Duvall    Diane Keaton   \n",
              "12 Angry Men                    Lee J. Cobb   Martin Balsam    John Fiedler   \n",
              "...                                     ...             ...             ...   \n",
              "Breakfast at Tiffany's       George Peppard   Patricia Neal     Buddy Ebsen   \n",
              "Giant                           Rock Hudson      James Dean   Carroll Baker   \n",
              "From Here to Eternity      Montgomery Clift    Deborah Kerr      Donna Reed   \n",
              "Lifeboat                        John Hodiak   Walter Slezak  William Bendix   \n",
              "The 39 Steps              Madeleine Carroll  Lucie Mannheim  Godfrey Tearle   \n",
              "\n",
              "                          No_of_Votes        Gross  \n",
              "Series_Title                                        \n",
              "The Shawshank Redemption      2343110   28,341,469  \n",
              "The Godfather                 1620367  134,966,411  \n",
              "The Dark Knight               2303232  534,858,444  \n",
              "The Godfather: Part II        1129952   57,300,000  \n",
              "12 Angry Men                   689845    4,360,000  \n",
              "...                               ...          ...  \n",
              "Breakfast at Tiffany's         166544          NaN  \n",
              "Giant                           34075          NaN  \n",
              "From Here to Eternity           43374   30,500,000  \n",
              "Lifeboat                        26471          NaN  \n",
              "The 39 Steps                    51853          NaN  \n",
              "\n",
              "[1000 rows x 14 columns]"
            ]
          },
          "execution_count": 160,
          "metadata": {},
          "output_type": "execute_result"
        }
      ],
      "source": [
        "movies= movies.set_index('Series_Title')\n",
        "movies"
      ]
    },
    {
      "cell_type": "markdown",
      "metadata": {
        "id": "f6cj49w0R4PS"
      },
      "source": [
        "Print a list of all the unique Genre"
      ]
    },
    {
      "cell_type": "code",
      "execution_count": null,
      "metadata": {
        "id": "CO4kbBsySVjr",
        "outputId": "f22dfd90-9937-43d8-d15b-ab91bbeea699"
      },
      "outputs": [
        {
          "name": "stdout",
          "output_type": "stream",
          "text": [
            "['Drama' 'Crime' 'Action' 'Adventure' 'Biography' 'History' 'Sci-Fi'\n",
            " 'Romance' 'Western' 'Fantasy' 'Comedy' 'Thriller' 'Animation' 'Family'\n",
            " 'War' 'Mystery' 'Music' 'Horror' 'Musical' 'Film-Noir' 'Sport']\n"
          ]
        }
      ],
      "source": [
        "\n",
        "\n",
        "movies['Genres'] = movies['Genre'].str.split(',')\n",
        "unique_genres = pd.Series(movies['Genres'].sum()).str.strip().unique()\n",
        "\n",
        "print(unique_genres)\n",
        "\n"
      ]
    },
    {
      "cell_type": "markdown",
      "metadata": {
        "id": "Dfj_ZoVBS97W"
      },
      "source": [
        "1. What is the Number of Directors in the given dataset ? "
      ]
    },
    {
      "cell_type": "code",
      "execution_count": null,
      "metadata": {
        "id": "92f8NLciTIU_",
        "outputId": "41959b37-1a13-42ba-c904-94965fc78d99"
      },
      "outputs": [
        {
          "name": "stdout",
          "output_type": "stream",
          "text": [
            "548\n"
          ]
        }
      ],
      "source": [
        "print(movies['Director'].nunique())\n"
      ]
    },
    {
      "cell_type": "markdown",
      "metadata": {
        "id": "5UnvBViyTOc9"
      },
      "source": [
        "2. What is the mean, median and standard deviation of IMDB rating in the dataset ?"
      ]
    },
    {
      "cell_type": "code",
      "execution_count": null,
      "metadata": {
        "id": "sOL7O83LTg30",
        "outputId": "411bf1c9-b24a-4538-a910-6b8088b48feb"
      },
      "outputs": [
        {
          "name": "stdout",
          "output_type": "stream",
          "text": [
            "Mean:  7.95\n",
            "Median:  7.9\n",
            "Standard Deviation:  0.28\n"
          ]
        }
      ],
      "source": [
        "\n",
        "movies['IMDB_Rating'] = pd.to_numeric(movies['IMDB_Rating'])\n",
        "\n",
        "mean_rating = movies['IMDB_Rating'].mean()\n",
        "median_rating = movies['IMDB_Rating'].median()\n",
        "std_rating = movies['IMDB_Rating'].std()\n",
        "\n",
        "print(\"Mean: \", round(mean_rating, 2))\n",
        "print(\"Median: \", round(median_rating, 2))\n",
        "print(\"Standard Deviation: \", round(std_rating,2))\n"
      ]
    },
    {
      "cell_type": "markdown",
      "metadata": {
        "id": "d_k1zoajTxyx"
      },
      "source": [
        "3. Which director has directed the most number of movies?"
      ]
    },
    {
      "cell_type": "code",
      "execution_count": null,
      "metadata": {
        "id": "-gvnNqSsT88L",
        "outputId": "edba7081-bf9a-436f-d2e7-45709f53d4e1"
      },
      "outputs": [
        {
          "name": "stdout",
          "output_type": "stream",
          "text": [
            "Director who has directed the most number of movies: Alfred Hitchcock\n"
          ]
        }
      ],
      "source": [
        "max_occurrence_entry = movies['Director'].value_counts().idxmax()\n",
        "\n",
        "print(\"Director who has directed the most number of movies:\", max_occurrence_entry)"
      ]
    },
    {
      "cell_type": "markdown",
      "metadata": {
        "id": "zGHeeFZnT-yx"
      },
      "source": [
        "4. Name the Movie which has the highest Runtime ?"
      ]
    },
    {
      "cell_type": "code",
      "execution_count": null,
      "metadata": {
        "id": "-1BAOzXoUKL1",
        "outputId": "cde575d9-0ee9-416f-c55f-b6991618f259"
      },
      "outputs": [
        {
          "name": "stdout",
          "output_type": "stream",
          "text": [
            "Movie with the highest runtime: Gangs of Wasseypur\n"
          ]
        }
      ],
      "source": [
        "\n",
        "movies['Runtime'] = movies['Runtime'].str.extract('(\\d+)').astype(float)\n",
        "\n",
        "movie_highest_runtime = movies['Runtime'].idxmax()\n",
        "\n",
        "print(\"Movie with the highest runtime:\", movie_highest_runtime)\n",
        "\n",
        "\n",
        "\n",
        "\n"
      ]
    },
    {
      "cell_type": "markdown",
      "metadata": {
        "id": "ast-zD1gULUS"
      },
      "source": [
        "5. How many movies are released after year 2000 and have IMDB rating > 8.5 ?"
      ]
    },
    {
      "cell_type": "code",
      "execution_count": null,
      "metadata": {
        "id": "2SA7L3G-VLom",
        "outputId": "1557e0a0-19d1-4020-fc2c-f5cb4abeedca"
      },
      "outputs": [
        {
          "data": {
            "text/html": [
              "<div>\n",
              "<style scoped>\n",
              "    .dataframe tbody tr th:only-of-type {\n",
              "        vertical-align: middle;\n",
              "    }\n",
              "\n",
              "    .dataframe tbody tr th {\n",
              "        vertical-align: top;\n",
              "    }\n",
              "\n",
              "    .dataframe thead th {\n",
              "        text-align: right;\n",
              "    }\n",
              "</style>\n",
              "<table border=\"1\" class=\"dataframe\">\n",
              "  <thead>\n",
              "    <tr style=\"text-align: right;\">\n",
              "      <th></th>\n",
              "      <th>Released_Year</th>\n",
              "      <th>Certificate</th>\n",
              "      <th>Runtime</th>\n",
              "      <th>Genre</th>\n",
              "      <th>IMDB_Rating</th>\n",
              "      <th>Overview</th>\n",
              "      <th>Meta_score</th>\n",
              "      <th>Director</th>\n",
              "      <th>Star1</th>\n",
              "      <th>Star2</th>\n",
              "      <th>Star3</th>\n",
              "      <th>Star4</th>\n",
              "      <th>No_of_Votes</th>\n",
              "      <th>Gross</th>\n",
              "    </tr>\n",
              "    <tr>\n",
              "      <th>Series_Title</th>\n",
              "      <th></th>\n",
              "      <th></th>\n",
              "      <th></th>\n",
              "      <th></th>\n",
              "      <th></th>\n",
              "      <th></th>\n",
              "      <th></th>\n",
              "      <th></th>\n",
              "      <th></th>\n",
              "      <th></th>\n",
              "      <th></th>\n",
              "      <th></th>\n",
              "      <th></th>\n",
              "      <th></th>\n",
              "    </tr>\n",
              "  </thead>\n",
              "  <tbody>\n",
              "    <tr>\n",
              "      <th>The Dark Knight</th>\n",
              "      <td>2008.0</td>\n",
              "      <td>UA</td>\n",
              "      <td>152.0</td>\n",
              "      <td>Action, Crime, Drama</td>\n",
              "      <td>9.0</td>\n",
              "      <td>When the menace known as the Joker wreaks havo...</td>\n",
              "      <td>84.0</td>\n",
              "      <td>Christopher Nolan</td>\n",
              "      <td>Christian Bale</td>\n",
              "      <td>Heath Ledger</td>\n",
              "      <td>Aaron Eckhart</td>\n",
              "      <td>Michael Caine</td>\n",
              "      <td>2303232</td>\n",
              "      <td>534,858,444</td>\n",
              "    </tr>\n",
              "    <tr>\n",
              "      <th>The Lord of the Rings: The Return of the King</th>\n",
              "      <td>2003.0</td>\n",
              "      <td>U</td>\n",
              "      <td>201.0</td>\n",
              "      <td>Action, Adventure, Drama</td>\n",
              "      <td>8.9</td>\n",
              "      <td>Gandalf and Aragorn lead the World of Men agai...</td>\n",
              "      <td>94.0</td>\n",
              "      <td>Peter Jackson</td>\n",
              "      <td>Elijah Wood</td>\n",
              "      <td>Viggo Mortensen</td>\n",
              "      <td>Ian McKellen</td>\n",
              "      <td>Orlando Bloom</td>\n",
              "      <td>1642758</td>\n",
              "      <td>377,845,905</td>\n",
              "    </tr>\n",
              "    <tr>\n",
              "      <th>Inception</th>\n",
              "      <td>2010.0</td>\n",
              "      <td>UA</td>\n",
              "      <td>148.0</td>\n",
              "      <td>Action, Adventure, Sci-Fi</td>\n",
              "      <td>8.8</td>\n",
              "      <td>A thief who steals corporate secrets through t...</td>\n",
              "      <td>74.0</td>\n",
              "      <td>Christopher Nolan</td>\n",
              "      <td>Leonardo DiCaprio</td>\n",
              "      <td>Joseph Gordon-Levitt</td>\n",
              "      <td>Elliot Page</td>\n",
              "      <td>Ken Watanabe</td>\n",
              "      <td>2067042</td>\n",
              "      <td>292,576,195</td>\n",
              "    </tr>\n",
              "    <tr>\n",
              "      <th>The Lord of the Rings: The Fellowship of the Ring</th>\n",
              "      <td>2001.0</td>\n",
              "      <td>U</td>\n",
              "      <td>178.0</td>\n",
              "      <td>Action, Adventure, Drama</td>\n",
              "      <td>8.8</td>\n",
              "      <td>A meek Hobbit from the Shire and eight compani...</td>\n",
              "      <td>92.0</td>\n",
              "      <td>Peter Jackson</td>\n",
              "      <td>Elijah Wood</td>\n",
              "      <td>Ian McKellen</td>\n",
              "      <td>Orlando Bloom</td>\n",
              "      <td>Sean Bean</td>\n",
              "      <td>1661481</td>\n",
              "      <td>315,544,750</td>\n",
              "    </tr>\n",
              "    <tr>\n",
              "      <th>The Lord of the Rings: The Two Towers</th>\n",
              "      <td>2002.0</td>\n",
              "      <td>UA</td>\n",
              "      <td>179.0</td>\n",
              "      <td>Action, Adventure, Drama</td>\n",
              "      <td>8.7</td>\n",
              "      <td>While Frodo and Sam edge closer to Mordor with...</td>\n",
              "      <td>87.0</td>\n",
              "      <td>Peter Jackson</td>\n",
              "      <td>Elijah Wood</td>\n",
              "      <td>Ian McKellen</td>\n",
              "      <td>Viggo Mortensen</td>\n",
              "      <td>Orlando Bloom</td>\n",
              "      <td>1485555</td>\n",
              "      <td>342,551,365</td>\n",
              "    </tr>\n",
              "    <tr>\n",
              "      <th>Hamilton</th>\n",
              "      <td>2020.0</td>\n",
              "      <td>PG-13</td>\n",
              "      <td>160.0</td>\n",
              "      <td>Biography, Drama, History</td>\n",
              "      <td>8.6</td>\n",
              "      <td>The real life of one of America's foremost fou...</td>\n",
              "      <td>90.0</td>\n",
              "      <td>Thomas Kail</td>\n",
              "      <td>Lin-Manuel Miranda</td>\n",
              "      <td>Phillipa Soo</td>\n",
              "      <td>Leslie Odom Jr.</td>\n",
              "      <td>Renée Elise Goldsberry</td>\n",
              "      <td>55291</td>\n",
              "      <td>NaN</td>\n",
              "    </tr>\n",
              "    <tr>\n",
              "      <th>Gisaengchung</th>\n",
              "      <td>2019.0</td>\n",
              "      <td>A</td>\n",
              "      <td>132.0</td>\n",
              "      <td>Comedy, Drama, Thriller</td>\n",
              "      <td>8.6</td>\n",
              "      <td>Greed and class discrimination threaten the ne...</td>\n",
              "      <td>96.0</td>\n",
              "      <td>Bong Joon Ho</td>\n",
              "      <td>Kang-ho Song</td>\n",
              "      <td>Lee Sun-kyun</td>\n",
              "      <td>Cho Yeo-jeong</td>\n",
              "      <td>Choi Woo-sik</td>\n",
              "      <td>552778</td>\n",
              "      <td>53,367,844</td>\n",
              "    </tr>\n",
              "    <tr>\n",
              "      <th>Soorarai Pottru</th>\n",
              "      <td>2020.0</td>\n",
              "      <td>U</td>\n",
              "      <td>153.0</td>\n",
              "      <td>Drama</td>\n",
              "      <td>8.6</td>\n",
              "      <td>Nedumaaran Rajangam \"Maara\" sets out to make t...</td>\n",
              "      <td>NaN</td>\n",
              "      <td>Sudha Kongara</td>\n",
              "      <td>Suriya</td>\n",
              "      <td>Madhavan</td>\n",
              "      <td>Paresh Rawal</td>\n",
              "      <td>Aparna Balamurali</td>\n",
              "      <td>54995</td>\n",
              "      <td>NaN</td>\n",
              "    </tr>\n",
              "    <tr>\n",
              "      <th>Interstellar</th>\n",
              "      <td>2014.0</td>\n",
              "      <td>UA</td>\n",
              "      <td>169.0</td>\n",
              "      <td>Adventure, Drama, Sci-Fi</td>\n",
              "      <td>8.6</td>\n",
              "      <td>A team of explorers travel through a wormhole ...</td>\n",
              "      <td>74.0</td>\n",
              "      <td>Christopher Nolan</td>\n",
              "      <td>Matthew McConaughey</td>\n",
              "      <td>Anne Hathaway</td>\n",
              "      <td>Jessica Chastain</td>\n",
              "      <td>Mackenzie Foy</td>\n",
              "      <td>1512360</td>\n",
              "      <td>188,020,017</td>\n",
              "    </tr>\n",
              "    <tr>\n",
              "      <th>Cidade de Deus</th>\n",
              "      <td>2002.0</td>\n",
              "      <td>A</td>\n",
              "      <td>130.0</td>\n",
              "      <td>Crime, Drama</td>\n",
              "      <td>8.6</td>\n",
              "      <td>In the slums of Rio, two kids' paths diverge a...</td>\n",
              "      <td>79.0</td>\n",
              "      <td>Fernando Meirelles</td>\n",
              "      <td>Kátia Lund</td>\n",
              "      <td>Alexandre Rodrigues</td>\n",
              "      <td>Leandro Firmino</td>\n",
              "      <td>Matheus Nachtergaele</td>\n",
              "      <td>699256</td>\n",
              "      <td>7,563,397</td>\n",
              "    </tr>\n",
              "    <tr>\n",
              "      <th>Sen to Chihiro no kamikakushi</th>\n",
              "      <td>2001.0</td>\n",
              "      <td>U</td>\n",
              "      <td>125.0</td>\n",
              "      <td>Animation, Adventure, Family</td>\n",
              "      <td>8.6</td>\n",
              "      <td>During her family's move to the suburbs, a sul...</td>\n",
              "      <td>96.0</td>\n",
              "      <td>Hayao Miyazaki</td>\n",
              "      <td>Daveigh Chase</td>\n",
              "      <td>Suzanne Pleshette</td>\n",
              "      <td>Miyu Irino</td>\n",
              "      <td>Rumi Hiiragi</td>\n",
              "      <td>651376</td>\n",
              "      <td>10,055,859</td>\n",
              "    </tr>\n",
              "  </tbody>\n",
              "</table>\n",
              "</div>"
            ],
            "text/plain": [
              "                                                   Released_Year Certificate  \\\n",
              "Series_Title                                                                   \n",
              "The Dark Knight                                           2008.0          UA   \n",
              "The Lord of the Rings: The Return of the King             2003.0           U   \n",
              "Inception                                                 2010.0          UA   \n",
              "The Lord of the Rings: The Fellowship of the Ring         2001.0           U   \n",
              "The Lord of the Rings: The Two Towers                     2002.0          UA   \n",
              "Hamilton                                                  2020.0       PG-13   \n",
              "Gisaengchung                                              2019.0           A   \n",
              "Soorarai Pottru                                           2020.0           U   \n",
              "Interstellar                                              2014.0          UA   \n",
              "Cidade de Deus                                            2002.0           A   \n",
              "Sen to Chihiro no kamikakushi                             2001.0           U   \n",
              "\n",
              "                                                   Runtime  \\\n",
              "Series_Title                                                 \n",
              "The Dark Knight                                      152.0   \n",
              "The Lord of the Rings: The Return of the King        201.0   \n",
              "Inception                                            148.0   \n",
              "The Lord of the Rings: The Fellowship of the Ring    178.0   \n",
              "The Lord of the Rings: The Two Towers                179.0   \n",
              "Hamilton                                             160.0   \n",
              "Gisaengchung                                         132.0   \n",
              "Soorarai Pottru                                      153.0   \n",
              "Interstellar                                         169.0   \n",
              "Cidade de Deus                                       130.0   \n",
              "Sen to Chihiro no kamikakushi                        125.0   \n",
              "\n",
              "                                                                          Genre  \\\n",
              "Series_Title                                                                      \n",
              "The Dark Knight                                            Action, Crime, Drama   \n",
              "The Lord of the Rings: The Return of the King          Action, Adventure, Drama   \n",
              "Inception                                             Action, Adventure, Sci-Fi   \n",
              "The Lord of the Rings: The Fellowship of the Ring      Action, Adventure, Drama   \n",
              "The Lord of the Rings: The Two Towers                  Action, Adventure, Drama   \n",
              "Hamilton                                              Biography, Drama, History   \n",
              "Gisaengchung                                            Comedy, Drama, Thriller   \n",
              "Soorarai Pottru                                                           Drama   \n",
              "Interstellar                                           Adventure, Drama, Sci-Fi   \n",
              "Cidade de Deus                                                     Crime, Drama   \n",
              "Sen to Chihiro no kamikakushi                      Animation, Adventure, Family   \n",
              "\n",
              "                                                   IMDB_Rating  \\\n",
              "Series_Title                                                     \n",
              "The Dark Knight                                            9.0   \n",
              "The Lord of the Rings: The Return of the King              8.9   \n",
              "Inception                                                  8.8   \n",
              "The Lord of the Rings: The Fellowship of the Ring          8.8   \n",
              "The Lord of the Rings: The Two Towers                      8.7   \n",
              "Hamilton                                                   8.6   \n",
              "Gisaengchung                                               8.6   \n",
              "Soorarai Pottru                                            8.6   \n",
              "Interstellar                                               8.6   \n",
              "Cidade de Deus                                             8.6   \n",
              "Sen to Chihiro no kamikakushi                              8.6   \n",
              "\n",
              "                                                                                            Overview  \\\n",
              "Series_Title                                                                                           \n",
              "The Dark Knight                                    When the menace known as the Joker wreaks havo...   \n",
              "The Lord of the Rings: The Return of the King      Gandalf and Aragorn lead the World of Men agai...   \n",
              "Inception                                          A thief who steals corporate secrets through t...   \n",
              "The Lord of the Rings: The Fellowship of the Ring  A meek Hobbit from the Shire and eight compani...   \n",
              "The Lord of the Rings: The Two Towers              While Frodo and Sam edge closer to Mordor with...   \n",
              "Hamilton                                           The real life of one of America's foremost fou...   \n",
              "Gisaengchung                                       Greed and class discrimination threaten the ne...   \n",
              "Soorarai Pottru                                    Nedumaaran Rajangam \"Maara\" sets out to make t...   \n",
              "Interstellar                                       A team of explorers travel through a wormhole ...   \n",
              "Cidade de Deus                                     In the slums of Rio, two kids' paths diverge a...   \n",
              "Sen to Chihiro no kamikakushi                      During her family's move to the suburbs, a sul...   \n",
              "\n",
              "                                                   Meta_score  \\\n",
              "Series_Title                                                    \n",
              "The Dark Knight                                          84.0   \n",
              "The Lord of the Rings: The Return of the King            94.0   \n",
              "Inception                                                74.0   \n",
              "The Lord of the Rings: The Fellowship of the Ring        92.0   \n",
              "The Lord of the Rings: The Two Towers                    87.0   \n",
              "Hamilton                                                 90.0   \n",
              "Gisaengchung                                             96.0   \n",
              "Soorarai Pottru                                           NaN   \n",
              "Interstellar                                             74.0   \n",
              "Cidade de Deus                                           79.0   \n",
              "Sen to Chihiro no kamikakushi                            96.0   \n",
              "\n",
              "                                                             Director  \\\n",
              "Series_Title                                                            \n",
              "The Dark Knight                                     Christopher Nolan   \n",
              "The Lord of the Rings: The Return of the King           Peter Jackson   \n",
              "Inception                                           Christopher Nolan   \n",
              "The Lord of the Rings: The Fellowship of the Ring       Peter Jackson   \n",
              "The Lord of the Rings: The Two Towers                   Peter Jackson   \n",
              "Hamilton                                                  Thomas Kail   \n",
              "Gisaengchung                                             Bong Joon Ho   \n",
              "Soorarai Pottru                                         Sudha Kongara   \n",
              "Interstellar                                        Christopher Nolan   \n",
              "Cidade de Deus                                     Fernando Meirelles   \n",
              "Sen to Chihiro no kamikakushi                          Hayao Miyazaki   \n",
              "\n",
              "                                                                 Star1  \\\n",
              "Series_Title                                                             \n",
              "The Dark Knight                                         Christian Bale   \n",
              "The Lord of the Rings: The Return of the King              Elijah Wood   \n",
              "Inception                                            Leonardo DiCaprio   \n",
              "The Lord of the Rings: The Fellowship of the Ring          Elijah Wood   \n",
              "The Lord of the Rings: The Two Towers                      Elijah Wood   \n",
              "Hamilton                                            Lin-Manuel Miranda   \n",
              "Gisaengchung                                              Kang-ho Song   \n",
              "Soorarai Pottru                                                 Suriya   \n",
              "Interstellar                                       Matthew McConaughey   \n",
              "Cidade de Deus                                              Kátia Lund   \n",
              "Sen to Chihiro no kamikakushi                            Daveigh Chase   \n",
              "\n",
              "                                                                  Star2  \\\n",
              "Series_Title                                                              \n",
              "The Dark Knight                                            Heath Ledger   \n",
              "The Lord of the Rings: The Return of the King           Viggo Mortensen   \n",
              "Inception                                          Joseph Gordon-Levitt   \n",
              "The Lord of the Rings: The Fellowship of the Ring          Ian McKellen   \n",
              "The Lord of the Rings: The Two Towers                      Ian McKellen   \n",
              "Hamilton                                                   Phillipa Soo   \n",
              "Gisaengchung                                               Lee Sun-kyun   \n",
              "Soorarai Pottru                                                Madhavan   \n",
              "Interstellar                                              Anne Hathaway   \n",
              "Cidade de Deus                                      Alexandre Rodrigues   \n",
              "Sen to Chihiro no kamikakushi                         Suzanne Pleshette   \n",
              "\n",
              "                                                              Star3  \\\n",
              "Series_Title                                                          \n",
              "The Dark Knight                                       Aaron Eckhart   \n",
              "The Lord of the Rings: The Return of the King          Ian McKellen   \n",
              "Inception                                               Elliot Page   \n",
              "The Lord of the Rings: The Fellowship of the Ring     Orlando Bloom   \n",
              "The Lord of the Rings: The Two Towers               Viggo Mortensen   \n",
              "Hamilton                                            Leslie Odom Jr.   \n",
              "Gisaengchung                                          Cho Yeo-jeong   \n",
              "Soorarai Pottru                                        Paresh Rawal   \n",
              "Interstellar                                       Jessica Chastain   \n",
              "Cidade de Deus                                      Leandro Firmino   \n",
              "Sen to Chihiro no kamikakushi                            Miyu Irino   \n",
              "\n",
              "                                                                    Star4  \\\n",
              "Series_Title                                                                \n",
              "The Dark Knight                                             Michael Caine   \n",
              "The Lord of the Rings: The Return of the King               Orlando Bloom   \n",
              "Inception                                                    Ken Watanabe   \n",
              "The Lord of the Rings: The Fellowship of the Ring               Sean Bean   \n",
              "The Lord of the Rings: The Two Towers                       Orlando Bloom   \n",
              "Hamilton                                           Renée Elise Goldsberry   \n",
              "Gisaengchung                                                 Choi Woo-sik   \n",
              "Soorarai Pottru                                         Aparna Balamurali   \n",
              "Interstellar                                                Mackenzie Foy   \n",
              "Cidade de Deus                                       Matheus Nachtergaele   \n",
              "Sen to Chihiro no kamikakushi                                Rumi Hiiragi   \n",
              "\n",
              "                                                   No_of_Votes        Gross  \n",
              "Series_Title                                                                 \n",
              "The Dark Knight                                        2303232  534,858,444  \n",
              "The Lord of the Rings: The Return of the King          1642758  377,845,905  \n",
              "Inception                                              2067042  292,576,195  \n",
              "The Lord of the Rings: The Fellowship of the Ring      1661481  315,544,750  \n",
              "The Lord of the Rings: The Two Towers                  1485555  342,551,365  \n",
              "Hamilton                                                 55291          NaN  \n",
              "Gisaengchung                                            552778   53,367,844  \n",
              "Soorarai Pottru                                          54995          NaN  \n",
              "Interstellar                                           1512360  188,020,017  \n",
              "Cidade de Deus                                          699256    7,563,397  \n",
              "Sen to Chihiro no kamikakushi                           651376   10,055,859  "
            ]
          },
          "execution_count": 166,
          "metadata": {},
          "output_type": "execute_result"
        }
      ],
      "source": [
        "movies['Released_Year'] = pd.to_numeric(movies['Released_Year'], errors='coerce')\n",
        "movies[(movies['Released_Year'] > 2000) & (movies['IMDB_Rating'] > 8.5)]"
      ]
    },
    {
      "cell_type": "code",
      "execution_count": null,
      "metadata": {
        "id": "aBbuK0GhUZtK"
      },
      "outputs": [],
      "source": []
    },
    {
      "cell_type": "markdown",
      "metadata": {
        "id": "jYq9gv3aUl1u"
      },
      "source": [
        "Using seaborn make different types of plots, observe the trend and answer the questions.\n",
        "6. Make a countplot of Movies directed by top 5 directors."
      ]
    },
    {
      "cell_type": "code",
      "execution_count": null,
      "metadata": {
        "id": "WOYH5X29ViUR",
        "outputId": "d4c9a3df-0200-4911-a30e-d9ae1f1b5dfd"
      },
      "outputs": [
        {
          "data": {
            "image/png": "[encoded data removed]",
            "text/plain": [
              "<Figure size 1000x600 with 1 Axes>"
            ]
          },
          "metadata": {},
          "output_type": "display_data"
        }
      ],
      "source": [
        "director_counts = movies['Director'].value_counts().head(5)\n",
        "director_counts_df = pd.DataFrame({'Director': director_counts.index, 'Count': director_counts.values})\n",
        "plt.figure(figsize=(10, 6))\n",
        "sns.set(style=\"darkgrid\")\n",
        "sns.barplot(x='Director', y='Count', data=director_counts_df)\n",
        "plt.title('Movies Directed by Top 5 Directors')\n",
        "plt.xlabel('Director')\n",
        "plt.ylabel('Count')\n",
        "\n",
        "plt.show()\n"
      ]
    },
    {
      "cell_type": "markdown",
      "metadata": {
        "id": "caUYiLeHVjIf"
      },
      "source": [
        "7. Make a plot to analyze distribution of IMDB rating?"
      ]
    },
    {
      "cell_type": "code",
      "execution_count": null,
      "metadata": {
        "id": "c12iHvlLV9PR",
        "outputId": "f196e6d7-fa0b-4ece-f51c-9ff878bc4c1c"
      },
      "outputs": [
        {
          "data": {
            "image/png": "[encoded data removed]",
            "text/plain": [
              "<Figure size 1000x600 with 1 Axes>"
            ]
          },
          "metadata": {},
          "output_type": "display_data"
        }
      ],
      "source": [
        "plt.figure(figsize=(10, 6))\n",
        "sns.set(style=\"darkgrid\")\n",
        "\n",
        "sns.histplot(data=movies, x='IMDB_Rating', bins=20, kde=True)\n",
        "plt.title('Distribution of IMDB Ratings')\n",
        "plt.xlabel('IMDB Rating')\n",
        "plt.ylabel('Count')\n",
        "\n",
        "plt.show()"
      ]
    },
    {
      "cell_type": "markdown",
      "metadata": {
        "id": "dXCoPuYlWISU"
      },
      "source": [
        "8. What type of Genre has the highest IMDB rating?"
      ]
    },
    {
      "cell_type": "code",
      "execution_count": null,
      "metadata": {
        "id": "0r9cKE7fWjBU",
        "outputId": "e6cafc2b-4003-4f60-8327-f3abe5d20f3e"
      },
      "outputs": [
        {
          "name": "stdout",
          "output_type": "stream",
          "text": [
            "Genre with the highest IMDB rating: Animation, Drama, War\n",
            "Average IMDB rating for the highest rating genre: 8.5\n"
          ]
        }
      ],
      "source": [
        "genre_avg_rating = movies.groupby('Genre')['IMDB_Rating'].mean()\n",
        "highest_rating_genre = genre_avg_rating.idxmax()\n",
        "highest_rating = genre_avg_rating.max()\n",
        "\n",
        "print(\"Genre with the highest IMDB rating:\", highest_rating_genre)\n",
        "print(\"Average IMDB rating for the highest rating genre:\", highest_rating)\n"
      ]
    },
    {
      "cell_type": "markdown",
      "metadata": {
        "id": "Ff2urhAhWrHO"
      },
      "source": [
        "9. Name the top 5 movies that have earned highest Meta score. "
      ]
    },
    {
      "cell_type": "code",
      "execution_count": null,
      "metadata": {
        "id": "lta342_iWxLd",
        "outputId": "d3c80531-0af3-4dbe-c6a9-03c9ba967548"
      },
      "outputs": [
        {
          "data": {
            "text/html": [
              "<div>\n",
              "<style scoped>\n",
              "    .dataframe tbody tr th:only-of-type {\n",
              "        vertical-align: middle;\n",
              "    }\n",
              "\n",
              "    .dataframe tbody tr th {\n",
              "        vertical-align: top;\n",
              "    }\n",
              "\n",
              "    .dataframe thead th {\n",
              "        text-align: right;\n",
              "    }\n",
              "</style>\n",
              "<table border=\"1\" class=\"dataframe\">\n",
              "  <thead>\n",
              "    <tr style=\"text-align: right;\">\n",
              "      <th></th>\n",
              "      <th>Series_Title</th>\n",
              "      <th>Meta_score</th>\n",
              "    </tr>\n",
              "  </thead>\n",
              "  <tbody>\n",
              "    <tr>\n",
              "      <th>0</th>\n",
              "      <td>The Godfather</td>\n",
              "      <td>100.0</td>\n",
              "    </tr>\n",
              "    <tr>\n",
              "      <th>1</th>\n",
              "      <td>Casablanca</td>\n",
              "      <td>100.0</td>\n",
              "    </tr>\n",
              "    <tr>\n",
              "      <th>2</th>\n",
              "      <td>Rear Window</td>\n",
              "      <td>100.0</td>\n",
              "    </tr>\n",
              "    <tr>\n",
              "      <th>3</th>\n",
              "      <td>Lawrence of Arabia</td>\n",
              "      <td>100.0</td>\n",
              "    </tr>\n",
              "    <tr>\n",
              "      <th>4</th>\n",
              "      <td>Vertigo</td>\n",
              "      <td>100.0</td>\n",
              "    </tr>\n",
              "  </tbody>\n",
              "</table>\n",
              "</div>"
            ],
            "text/plain": [
              "         Series_Title  Meta_score\n",
              "0       The Godfather       100.0\n",
              "1          Casablanca       100.0\n",
              "2         Rear Window       100.0\n",
              "3  Lawrence of Arabia       100.0\n",
              "4             Vertigo       100.0"
            ]
          },
          "execution_count": 170,
          "metadata": {},
          "output_type": "execute_result"
        }
      ],
      "source": [
        "top_movies_metascore = movies.nlargest(5, 'Meta_score')\n",
        "top_movies_metascore = top_movies_metascore.reset_index(drop=False)\n",
        "\n",
        "top_movies_metascore[['Series_Title', 'Meta_score']]\n",
        "\n"
      ]
    },
    {
      "cell_type": "markdown",
      "metadata": {
        "id": "FPmZIOiwW5Jo"
      },
      "source": [
        "10. Of which Genre movie has the highest Runtime?"
      ]
    },
    {
      "cell_type": "code",
      "execution_count": null,
      "metadata": {
        "id": "R5a1FemoXJuo",
        "outputId": "02bb23e2-b867-4075-9980-a8a6d3779f1e"
      },
      "outputs": [
        {
          "name": "stdout",
          "output_type": "stream",
          "text": [
            "Highest runtime is of movie Gangs of Wasseypur and it's genre is  ['Action', ' Comedy', ' Crime']\n"
          ]
        }
      ],
      "source": [
        "\n",
        "\n",
        "max_runtime_genre = movies.loc[movies['Runtime'].idxmax(), 'Genre']\n",
        "movies['Runtime'].idxmax()\n",
        "print(\"Highest runtime is of movie\",movies['Runtime'].idxmax(),\"and it's genre is \", max_runtime_genre)\n"
      ]
    },
    {
      "cell_type": "markdown",
      "metadata": {
        "id": "B_NatnajpeBE"
      },
      "source": [
        "**Using the knowledge about Plotly that you have  try making plots and analyse the data .Whenever you come across an interesting analysis please show the corresponding plot(using Plotly) and comment down your analysis for the same**"
      ]
    },
    {
      "cell_type": "code",
      "execution_count": null,
      "metadata": {
        "id": "eGoTOAWvpfIu",
        "scrolled": false,
        "outputId": "ec8a34ac-d7ff-40ba-917e-0ed7c49059a8"
      },
      "outputs": [
        {
          "data": {
            "application/vnd.plotly.v1+json": {
              "config": {
                "plotlyServerURL": "https://plot.ly"
              },
              "data": [
                {
                  "hovertemplate": "IMDB_Rating=%{x}<br>Meta_score=%{y}<extra></extra>",
                  "legendgroup": "",
                  "marker": {
                    "color": "#636efa",
                    "size": 8,
                    "symbol": "circle"
                  },
                  "mode": "markers",
                  "name": "",
                  "orientation": "v",
                  "showlegend": false,
                  "type": "scatter",
                  "x": [
                    9.3,
                    9.2,
                    9,
                    9,
                    9,
                    8.9,
                    8.9,
                    8.9,
                    8.8,
                    8.8,
                    8.8,
                    8.8,
                    8.8,
                    8.7,
                    8.7,
                    8.7,
                    8.7,
                    8.7,
                    8.6,
                    8.6,
                    8.6,
                    8.6,
                    8.6,
                    8.6,
                    8.6,
                    8.6,
                    8.6,
                    8.6,
                    8.6,
                    8.6,
                    8.6,
                    8.6,
                    8.6,
                    8.5,
                    8.5,
                    8.5,
                    8.5,
                    8.5,
                    8.5,
                    8.5,
                    8.5,
                    8.5,
                    8.5,
                    8.5,
                    8.5,
                    8.5,
                    8.5,
                    8.5,
                    8.5,
                    8.5,
                    8.5,
                    8.5,
                    8.5,
                    8.4,
                    8.4,
                    8.4,
                    8.4,
                    8.4,
                    8.4,
                    8.4,
                    8.4,
                    8.4,
                    8.4,
                    8.4,
                    8.4,
                    8.4,
                    8.4,
                    8.4,
                    8.4,
                    8.4,
                    8.4,
                    8.4,
                    8.4,
                    8.4,
                    8.4,
                    8.4,
                    8.4,
                    8.4,
                    8.4,
                    8.4,
                    8.4,
                    8.4,
                    8.4,
                    8.4,
                    8.3,
                    8.3,
                    8.3,
                    8.3,
                    8.3,
                    8.3,
                    8.3,
                    8.3,
                    8.3,
                    8.3,
                    8.3,
                    8.3,
                    8.3,
                    8.3,
                    8.3,
                    8.3,
                    8.3,
                    8.3,
                    8.3,
                    8.3,
                    8.3,
                    8.3,
                    8.3,
                    8.3,
                    8.3,
                    8.3,
                    8.3,
                    8.3,
                    8.3,
                    8.3,
                    8.3,
                    8.3,
                    8.3,
                    8.3,
                    8.3,
                    8.3,
                    8.3,
                    8.3,
                    8.3,
                    8.3,
                    8.3,
                    8.3,
                    8.3,
                    8.3,
                    8.2,
                    8.2,
                    8.2,
                    8.2,
                    8.2,
                    8.2,
                    8.2,
                    8.2,
                    8.2,
                    8.2,
                    8.2,
                    8.2,
                    8.2,
                    8.2,
                    8.2,
                    8.2,
                    8.2,
                    8.2,
                    8.2,
                    8.2,
                    8.2,
                    8.2,
                    8.2,
                    8.2,
                    8.2,
                    8.2,
                    8.2,
                    8.2,
                    8.2,
                    8.2,
                    8.2,
                    8.2,
                    8.2,
                    8.2,
                    8.2,
                    8.2,
                    8.2,
                    8.2,
                    8.2,
                    8.2,
                    8.2,
                    8.2,
                    8.2,
                    8.2,
                    8.2,
                    8.2,
                    8.2,
                    8.2,
                    8.2,
                    8.2,
                    8.2,
                    8.2,
                    8.2,
                    8.2,
                    8.2,
                    8.2,
                    8.2,
                    8.2,
                    8.2,
                    8.2,
                    8.2,
                    8.2,
                    8.2,
                    8.2,
                    8.2,
                    8.2,
                    8.2,
                    8.1,
                    8.1,
                    8.1,
                    8.1,
                    8.1,
                    8.1,
                    8.1,
                    8.1,
                    8.1,
                    8.1,
                    8.1,
                    8.1,
                    8.1,
                    8.1,
                    8.1,
                    8.1,
                    8.1,
                    8.1,
                    8.1,
                    8.1,
                    8.1,
                    8.1,
                    8.1,
                    8.1,
                    8.1,
                    8.1,
                    8.1,
                    8.1,
                    8.1,
                    8.1,
                    8.1,
                    8.1,
                    8.1,
                    8.1,
                    8.1,
                    8.1,
                    8.1,
                    8.1,
                    8.1,
                    8.1,
                    8.1,
                    8.1,
                    8.1,
                    8.1,
                    8.1,
                    8.1,
                    8.1,
                    8.1,
                    8.1,
                    8.1,
                    8.1,
                    8.1,
                    8.1,
                    8.1,
                    8.1,
                    8.1,
                    8.1,
                    8.1,
                    8.1,
                    8.1,
                    8.1,
                    8.1,
                    8.1,
                    8.1,
                    8.1,
                    8.1,
                    8.1,
                    8.1,
                    8.1,
                    8.1,
                    8.1,
                    8.1,
                    8.1,
                    8.1,
                    8.1,
                    8.1,
                    8.1,
                    8.1,
                    8.1,
                    8.1,
                    8.1,
                    8.1,
                    8.1,
                    8.1,
                    8.1,
                    8.1,
                    8.1,
                    8.1,
                    8.1,
                    8.1,
                    8.1,
                    8.1,
                    8.1,
                    8.1,
                    8.1,
                    8.1,
                    8.1,
                    8.1,
                    8.1,
                    8.1,
                    8.1,
                    8.1,
                    8.1,
                    8.1,
                    8.1,
                    8.1,
                    8.1,
                    8.1,
                    8.1,
                    8.1,
                    8.1,
                    8.1,
                    8.1,
                    8.1,
                    8.1,
                    8.1,
                    8.1,
                    8.1,
                    8.1,
                    8.1,
                    8.1,
                    8.1,
                    8.1,
                    8.1,
                    8.1,
                    8.1,
                    8.1,
                    8,
                    8,
                    8,
                    8,
                    8,
                    8,
                    8,
                    8,
                    8,
                    8,
                    8,
                    8,
                    8,
                    8,
                    8,
                    8,
                    8,
                    8,
                    8,
                    8,
                    8,
                    8,
                    8,
                    8,
                    8,
                    8,
                    8,
                    8,
                    8,
                    8,
                    8,
                    8,
                    8,
                    8,
                    8,
                    8,
                    8,
                    8,
                    8,
                    8,
                    8,
                    8,
                    8,
                    8,
                    8,
                    8,
                    8,
                    8,
                    8,
                    8,
                    8,
                    8,
                    8,
                    8,
                    8,
                    8,
                    8,
                    8,
                    8,
                    8,
                    8,
                    8,
                    8,
                    8,
                    8,
                    8,
                    8,
                    8,
                    8,
                    8,
                    8,
                    8,
                    8,
                    8,
                    8,
                    8,
                    8,
                    8,
                    8,
                    8,
                    8,
                    8,
                    8,
                    8,
                    8,
                    8,
                    8,
                    8,
                    8,
                    8,
                    8,
                    8,
                    8,
                    8,
                    8,
                    8,
                    8,
                    8,
                    8,
                    8,
                    8,
                    8,
                    8,
                    8,
                    8,
                    8,
                    8,
                    8,
                    8,
                    8,
                    8,
                    8,
                    8,
                    8,
                    8,
                    8,
                    8,
                    8,
                    8,
                    8,
                    8,
                    8,
                    8,
                    8,
                    8,
                    8,
                    8,
                    8,
                    8,
                    8,
                    8,
                    8,
                    8,
                    8,
                    8,
                    8,
                    8,
                    8,
                    8,
                    8,
                    8,
                    7.9,
                    7.9,
                    7.9,
                    7.9,
                    7.9,
                    7.9,
                    7.9,
                    7.9,
                    7.9,
                    7.9,
                    7.9,
                    7.9,
                    7.9,
                    7.9,
                    7.9,
                    7.9,
                    7.9,
                    7.9,
                    7.9,
                    7.9,
                    7.9,
                    7.9,
                    7.9,
                    7.9,
                    7.9,
                    7.9,
                    7.9,
                    7.9,
                    7.9,
                    7.9,
                    7.9,
                    7.9,
                    7.9,
                    7.9,
                    7.9,
                    7.9,
                    7.9,
                    7.9,
                    7.9,
                    7.9,
                    7.9,
                    7.9,
                    7.9,
                    7.9,
                    7.9,
                    7.9,
                    7.9,
                    7.9,
                    7.9,
                    7.9,
                    7.9,
                    7.9,
                    7.9,
                    7.9,
                    7.9,
                    7.9,
                    7.9,
                    7.9,
                    7.9,
                    7.9,
                    7.9,
                    7.9,
                    7.9,
                    7.9,
                    7.9,
                    7.9,
                    7.9,
                    7.9,
                    7.9,
                    7.9,
                    7.9,
                    7.9,
                    7.9,
                    7.9,
                    7.9,
                    7.9,
                    7.9,
                    7.9,
                    7.9,
                    7.9,
                    7.9,
                    7.9,
                    7.9,
                    7.9,
                    7.9,
                    7.9,
                    7.9,
                    7.9,
                    7.9,
                    7.9,
                    7.9,
                    7.9,
                    7.9,
                    7.9,
                    7.9,
                    7.9,
                    7.9,
                    7.9,
                    7.9,
                    7.9,
                    7.9,
                    7.9,
                    7.9,
                    7.9,
                    7.9,
                    7.9,
                    7.8,
                    7.8,
                    7.8,
                    7.8,
                    7.8,
                    7.8,
                    7.8,
                    7.8,
                    7.8,
                    7.8,
                    7.8,
                    7.8,
                    7.8,
                    7.8,
                    7.8,
                    7.8,
                    7.8,
                    7.8,
                    7.8,
                    7.8,
                    7.8,
                    7.8,
                    7.8,
                    7.8,
                    7.8,
                    7.8,
                    7.8,
                    7.8,
                    7.8,
                    7.8,
                    7.8,
                    7.8,
                    7.8,
                    7.8,
                    7.8,
                    7.8,
                    7.8,
                    7.8,
                    7.8,
                    7.8,
                    7.8,
                    7.8,
                    7.8,
                    7.8,
                    7.8,
                    7.8,
                    7.8,
                    7.8,
                    7.8,
                    7.8,
                    7.8,
                    7.8,
                    7.8,
                    7.8,
                    7.8,
                    7.8,
                    7.8,
                    7.8,
                    7.8,
                    7.8,
                    7.8,
                    7.8,
                    7.8,
                    7.8,
                    7.8,
                    7.8,
                    7.8,
                    7.8,
                    7.8,
                    7.8,
                    7.8,
                    7.8,
                    7.8,
                    7.8,
                    7.8,
                    7.8,
                    7.8,
                    7.8,
                    7.8,
                    7.8,
                    7.8,
                    7.8,
                    7.8,
                    7.8,
                    7.8,
                    7.8,
                    7.8,
                    7.8,
                    7.8,
                    7.8,
                    7.8,
                    7.8,
                    7.8,
                    7.8,
                    7.8,
                    7.8,
                    7.8,
                    7.8,
                    7.8,
                    7.8,
                    7.8,
                    7.8,
                    7.8,
                    7.8,
                    7.8,
                    7.8,
                    7.8,
                    7.8,
                    7.8,
                    7.8,
                    7.8,
                    7.8,
                    7.8,
                    7.8,
                    7.8,
                    7.8,
                    7.8,
                    7.8,
                    7.8,
                    7.8,
                    7.8,
                    7.8,
                    7.8,
                    7.8,
                    7.8,
                    7.8,
                    7.8,
                    7.8,
                    7.8,
                    7.8,
                    7.8,
                    7.8,
                    7.8,
                    7.8,
                    7.8,
                    7.8,
                    7.8,
                    7.8,
                    7.8,
                    7.8,
                    7.8,
                    7.8,
                    7.8,
                    7.8,
                    7.8,
                    7.8,
                    7.8,
                    7.8,
                    7.8,
                    7.8,
                    7.8,
                    7.7,
                    7.7,
                    7.7,
                    7.7,
                    7.7,
                    7.7,
                    7.7,
                    7.7,
                    7.7,
                    7.7,
                    7.7,
                    7.7,
                    7.7,
                    7.7,
                    7.7,
                    7.7,
                    7.7,
                    7.7,
                    7.7,
                    7.7,
                    7.7,
                    7.7,
                    7.7,
                    7.7,
                    7.7,
                    7.7,
                    7.7,
                    7.7,
                    7.7,
                    7.7,
                    7.7,
                    7.7,
                    7.7,
                    7.7,
                    7.7,
                    7.7,
                    7.7,
                    7.7,
                    7.7,
                    7.7,
                    7.7,
                    7.7,
                    7.7,
                    7.7,
                    7.7,
                    7.7,
                    7.7,
                    7.7,
                    7.7,
                    7.7,
                    7.7,
                    7.7,
                    7.7,
                    7.7,
                    7.7,
                    7.7,
                    7.7,
                    7.7,
                    7.7,
                    7.7,
                    7.7,
                    7.7,
                    7.7,
                    7.7,
                    7.7,
                    7.7,
                    7.7,
                    7.7,
                    7.7,
                    7.7,
                    7.7,
                    7.7,
                    7.7,
                    7.7,
                    7.7,
                    7.7,
                    7.7,
                    7.7,
                    7.7,
                    7.7,
                    7.7,
                    7.7,
                    7.7,
                    7.7,
                    7.7,
                    7.7,
                    7.7,
                    7.7,
                    7.7,
                    7.7,
                    7.7,
                    7.7,
                    7.7,
                    7.7,
                    7.7,
                    7.7,
                    7.7,
                    7.7,
                    7.7,
                    7.7,
                    7.7,
                    7.7,
                    7.7,
                    7.7,
                    7.7,
                    7.7,
                    7.7,
                    7.7,
                    7.7,
                    7.7,
                    7.7,
                    7.7,
                    7.7,
                    7.7,
                    7.7,
                    7.7,
                    7.7,
                    7.7,
                    7.7,
                    7.7,
                    7.7,
                    7.7,
                    7.7,
                    7.7,
                    7.7,
                    7.7,
                    7.7,
                    7.7,
                    7.7,
                    7.7,
                    7.7,
                    7.7,
                    7.7,
                    7.7,
                    7.7,
                    7.7,
                    7.7,
                    7.7,
                    7.7,
                    7.7,
                    7.7,
                    7.7,
                    7.7,
                    7.7,
                    7.7,
                    7.7,
                    7.7,
                    7.7,
                    7.7,
                    7.7,
                    7.7,
                    7.7,
                    7.7,
                    7.7,
                    7.7,
                    7.7,
                    7.7,
                    7.6,
                    7.6,
                    7.6,
                    7.6,
                    7.6,
                    7.6,
                    7.6,
                    7.6,
                    7.6,
                    7.6,
                    7.6,
                    7.6,
                    7.6,
                    7.6,
                    7.6,
                    7.6,
                    7.6,
                    7.6,
                    7.6,
                    7.6,
                    7.6,
                    7.6,
                    7.6,
                    7.6,
                    7.6,
                    7.6,
                    7.6,
                    7.6,
                    7.6,
                    7.6,
                    7.6,
                    7.6,
                    7.6,
                    7.6,
                    7.6,
                    7.6,
                    7.6,
                    7.6,
                    7.6,
                    7.6,
                    7.6,
                    7.6,
                    7.6,
                    7.6,
                    7.6,
                    7.6,
                    7.6,
                    7.6,
                    7.6,
                    7.6,
                    7.6,
                    7.6,
                    7.6,
                    7.6,
                    7.6,
                    7.6,
                    7.6,
                    7.6,
                    7.6,
                    7.6,
                    7.6,
                    7.6,
                    7.6,
                    7.6,
                    7.6,
                    7.6,
                    7.6,
                    7.6,
                    7.6,
                    7.6,
                    7.6,
                    7.6,
                    7.6,
                    7.6,
                    7.6,
                    7.6,
                    7.6,
                    7.6,
                    7.6,
                    7.6,
                    7.6,
                    7.6,
                    7.6,
                    7.6,
                    7.6,
                    7.6,
                    7.6,
                    7.6,
                    7.6,
                    7.6,
                    7.6,
                    7.6,
                    7.6,
                    7.6,
                    7.6,
                    7.6,
                    7.6,
                    7.6,
                    7.6,
                    7.6,
                    7.6,
                    7.6,
                    7.6,
                    7.6,
                    7.6,
                    7.6,
                    7.6,
                    7.6,
                    7.6,
                    7.6,
                    7.6,
                    7.6,
                    7.6,
                    7.6,
                    7.6,
                    7.6,
                    7.6,
                    7.6,
                    7.6,
                    7.6,
                    7.6,
                    7.6,
                    7.6
                  ],
                  "xaxis": "x",
                  "y": [
                    80,
                    100,
                    84,
                    90,
                    96,
                    94,
                    94,
                    94,
                    74,
                    66,
                    92,
                    82,
                    90,
                    87,
                    73,
                    90,
                    82,
                    83,
                    90,
                    96,
                    null,
                    74,
                    79,
                    96,
                    91,
                    61,
                    59,
                    65,
                    85,
                    90,
                    85,
                    98,
                    89,
                    59,
                    88,
                    57,
                    66,
                    85,
                    85,
                    67,
                    62,
                    77,
                    64,
                    88,
                    75,
                    80,
                    94,
                    87,
                    80,
                    97,
                    100,
                    96,
                    99,
                    75,
                    null,
                    null,
                    79,
                    null,
                    87,
                    78,
                    68,
                    81,
                    81,
                    78,
                    67,
                    null,
                    95,
                    89,
                    77,
                    80,
                    76,
                    null,
                    85,
                    66,
                    94,
                    89,
                    null,
                    null,
                    97,
                    null,
                    90,
                    100,
                    null,
                    null,
                    78,
                    null,
                    null,
                    null,
                    77,
                    95,
                    80,
                    null,
                    null,
                    69,
                    89,
                    69,
                    55,
                    68,
                    84,
                    70,
                    77,
                    95,
                    68,
                    79,
                    76,
                    null,
                    84,
                    88,
                    65,
                    58,
                    86,
                    94,
                    83,
                    77,
                    84,
                    74,
                    100,
                    94,
                    98,
                    100,
                    99,
                    null,
                    null,
                    95,
                    100,
                    null,
                    98,
                    null,
                    null,
                    null,
                    null,
                    69,
                    88,
                    null,
                    null,
                    65,
                    null,
                    null,
                    73,
                    null,
                    89,
                    null,
                    null,
                    80,
                    71,
                    63,
                    88,
                    75,
                    68,
                    93,
                    98,
                    92,
                    62,
                    null,
                    null,
                    70,
                    null,
                    82,
                    80,
                    72,
                    null,
                    66,
                    90,
                    null,
                    76,
                    73,
                    null,
                    85,
                    65,
                    null,
                    86,
                    72,
                    96,
                    89,
                    null,
                    null,
                    null,
                    null,
                    91,
                    86,
                    88,
                    null,
                    60,
                    98,
                    88,
                    88,
                    97,
                    75,
                    null,
                    98,
                    98,
                    98,
                    86,
                    null,
                    null,
                    95,
                    null,
                    78,
                    null,
                    84,
                    74,
                    null,
                    77,
                    86,
                    77,
                    83,
                    88,
                    null,
                    null,
                    88,
                    79,
                    71,
                    71,
                    94,
                    null,
                    96,
                    74,
                    81,
                    93,
                    85,
                    null,
                    null,
                    70,
                    90,
                    null,
                    72,
                    85,
                    68,
                    null,
                    null,
                    75,
                    73,
                    91,
                    null,
                    86,
                    79,
                    64,
                    90,
                    null,
                    82,
                    null,
                    69,
                    90,
                    75,
                    83,
                    79,
                    null,
                    84,
                    64,
                    58,
                    90,
                    73,
                    71,
                    85,
                    83,
                    85,
                    null,
                    null,
                    null,
                    77,
                    100,
                    77,
                    68,
                    84,
                    null,
                    null,
                    79,
                    75,
                    92,
                    78,
                    86,
                    57,
                    47,
                    null,
                    100,
                    84,
                    78,
                    77,
                    86,
                    70,
                    83,
                    89,
                    null,
                    92,
                    77,
                    null,
                    90,
                    null,
                    92,
                    86,
                    null,
                    96,
                    null,
                    75,
                    null,
                    94,
                    null,
                    null,
                    75,
                    null,
                    90,
                    null,
                    null,
                    null,
                    87,
                    91,
                    85,
                    72,
                    null,
                    97,
                    null,
                    96,
                    86,
                    73,
                    97,
                    null,
                    87,
                    null,
                    90,
                    null,
                    null,
                    null,
                    null,
                    69,
                    null,
                    null,
                    null,
                    94,
                    69,
                    80,
                    78,
                    null,
                    89,
                    66,
                    65,
                    null,
                    82,
                    71,
                    73,
                    76,
                    81,
                    90,
                    49,
                    76,
                    67,
                    71,
                    88,
                    62,
                    65,
                    87,
                    null,
                    59,
                    50,
                    null,
                    84,
                    79,
                    33,
                    69,
                    90,
                    80,
                    64,
                    64,
                    85,
                    72,
                    74,
                    92,
                    null,
                    96,
                    80,
                    83,
                    82,
                    85,
                    74,
                    69,
                    54,
                    75,
                    63,
                    58,
                    90,
                    null,
                    60,
                    null,
                    88,
                    77,
                    61,
                    86,
                    null,
                    82,
                    80,
                    85,
                    null,
                    84,
                    91,
                    74,
                    76,
                    82,
                    72,
                    47,
                    59,
                    86,
                    72,
                    95,
                    72,
                    93,
                    65,
                    null,
                    77,
                    79,
                    88,
                    78,
                    84,
                    79,
                    84,
                    83,
                    92,
                    87,
                    86,
                    80,
                    58,
                    81,
                    null,
                    93,
                    67,
                    100,
                    66,
                    96,
                    79,
                    83,
                    75,
                    63,
                    69,
                    65,
                    91,
                    null,
                    90,
                    95,
                    93,
                    95,
                    99,
                    84,
                    100,
                    91,
                    99,
                    null,
                    null,
                    84,
                    78,
                    97,
                    null,
                    null,
                    73,
                    null,
                    92,
                    null,
                    93,
                    null,
                    96,
                    96,
                    92,
                    null,
                    86,
                    91,
                    97,
                    82,
                    null,
                    93,
                    94,
                    93,
                    78,
                    82,
                    81,
                    72,
                    79,
                    74,
                    76,
                    58,
                    81,
                    80,
                    94,
                    75,
                    82,
                    89,
                    71,
                    94,
                    94,
                    90,
                    67,
                    82,
                    81,
                    80,
                    null,
                    100,
                    97,
                    82,
                    67,
                    null,
                    89,
                    64,
                    79,
                    83,
                    81,
                    56,
                    79,
                    76,
                    78,
                    84,
                    82,
                    85,
                    86,
                    84,
                    61,
                    68,
                    80,
                    84,
                    90,
                    85,
                    88,
                    85,
                    75,
                    77,
                    59,
                    85,
                    null,
                    65,
                    74,
                    97,
                    77,
                    79,
                    90,
                    84,
                    92,
                    77,
                    60,
                    83,
                    72,
                    71,
                    84,
                    76,
                    null,
                    93,
                    null,
                    62,
                    91,
                    97,
                    89,
                    null,
                    75,
                    83,
                    94,
                    87,
                    null,
                    null,
                    null,
                    94,
                    72,
                    89,
                    88,
                    null,
                    88,
                    100,
                    null,
                    null,
                    96,
                    null,
                    97,
                    null,
                    90,
                    80,
                    null,
                    51,
                    null,
                    81,
                    85,
                    94,
                    null,
                    74,
                    88,
                    null,
                    84,
                    null,
                    96,
                    75,
                    65,
                    75,
                    68,
                    91,
                    62,
                    79,
                    85,
                    86,
                    76,
                    null,
                    74,
                    55,
                    null,
                    83,
                    84,
                    49,
                    84,
                    76,
                    81,
                    null,
                    67,
                    71,
                    82,
                    null,
                    72,
                    79,
                    64,
                    66,
                    82,
                    76,
                    77,
                    81,
                    79,
                    51,
                    55,
                    88,
                    58,
                    85,
                    85,
                    78,
                    76,
                    83,
                    63,
                    68,
                    80,
                    81,
                    70,
                    67,
                    51,
                    82,
                    68,
                    73,
                    74,
                    72,
                    61,
                    53,
                    75,
                    82,
                    91,
                    58,
                    61,
                    83,
                    48,
                    94,
                    87,
                    73,
                    44,
                    84,
                    71,
                    84,
                    75,
                    null,
                    64,
                    61,
                    76,
                    70,
                    73,
                    50,
                    55,
                    84,
                    84,
                    87,
                    80,
                    null,
                    null,
                    68,
                    86,
                    76,
                    75,
                    74,
                    83,
                    78,
                    82,
                    57,
                    65,
                    45,
                    72,
                    61,
                    75,
                    62,
                    78,
                    66,
                    76,
                    71,
                    91,
                    73,
                    91,
                    77,
                    93,
                    69,
                    91,
                    85,
                    73,
                    80,
                    93,
                    80,
                    67,
                    79,
                    81,
                    63,
                    86,
                    95,
                    88,
                    75,
                    97,
                    88,
                    null,
                    null,
                    null,
                    null,
                    94,
                    93,
                    98,
                    91,
                    95,
                    93,
                    87,
                    91,
                    96,
                    85,
                    66,
                    73,
                    85,
                    86,
                    70,
                    76,
                    72,
                    72,
                    60,
                    69,
                    74,
                    87,
                    89,
                    40,
                    70,
                    70,
                    null,
                    87,
                    72,
                    70,
                    52,
                    81,
                    83,
                    96,
                    72,
                    79,
                    95,
                    65,
                    73,
                    81,
                    81,
                    86,
                    76,
                    65,
                    86,
                    80,
                    81,
                    63,
                    45,
                    null,
                    null,
                    86,
                    78,
                    78,
                    74,
                    78,
                    53,
                    70,
                    78,
                    71,
                    71,
                    87,
                    76,
                    66,
                    78,
                    73,
                    61,
                    73,
                    89,
                    81,
                    47,
                    80,
                    55,
                    83,
                    68,
                    76,
                    28,
                    83,
                    74,
                    72,
                    60,
                    74,
                    85,
                    74,
                    62,
                    69,
                    null,
                    73,
                    68,
                    81,
                    69,
                    86,
                    null,
                    90,
                    67,
                    52,
                    73,
                    76,
                    87,
                    47,
                    null,
                    83,
                    71,
                    81,
                    70,
                    79,
                    66,
                    64,
                    73,
                    76,
                    83,
                    82,
                    62,
                    64,
                    69,
                    66,
                    83,
                    null,
                    84,
                    76,
                    62,
                    54,
                    76,
                    75,
                    90,
                    null,
                    77,
                    67,
                    61,
                    86,
                    78,
                    71,
                    87,
                    71,
                    89,
                    68,
                    73,
                    87,
                    83,
                    80,
                    94,
                    90,
                    63,
                    86,
                    73,
                    null,
                    72,
                    91,
                    77,
                    87,
                    90,
                    76,
                    null,
                    74,
                    90,
                    92,
                    89,
                    91,
                    72,
                    null,
                    null,
                    91,
                    null,
                    96,
                    87,
                    73,
                    71,
                    83,
                    86,
                    92,
                    68,
                    60,
                    70,
                    77,
                    83,
                    67,
                    86,
                    72,
                    81,
                    80,
                    81,
                    82,
                    82,
                    92,
                    88,
                    77,
                    79,
                    null,
                    73,
                    68,
                    80,
                    88,
                    80,
                    65,
                    72,
                    72,
                    66,
                    null,
                    87,
                    70,
                    73,
                    null,
                    57,
                    53,
                    79,
                    36,
                    82,
                    66,
                    81,
                    76,
                    72,
                    66,
                    70,
                    68,
                    52,
                    78,
                    52,
                    72,
                    56,
                    62,
                    46,
                    67,
                    73,
                    45,
                    76,
                    81,
                    70,
                    56,
                    67,
                    68,
                    30,
                    73,
                    81,
                    76,
                    88,
                    64,
                    74,
                    52,
                    53,
                    80,
                    74,
                    64,
                    77,
                    78,
                    71,
                    41,
                    69,
                    66,
                    49,
                    52,
                    84,
                    58,
                    62,
                    69,
                    77,
                    88,
                    56,
                    78,
                    68,
                    90,
                    66,
                    63,
                    60,
                    76,
                    88,
                    76,
                    72,
                    68,
                    82,
                    68,
                    77,
                    65,
                    74,
                    76,
                    64,
                    59,
                    90,
                    87,
                    77,
                    50,
                    65,
                    82,
                    96,
                    76,
                    84,
                    85,
                    78,
                    93
                  ],
                  "yaxis": "y"
                }
              ],
              "layout": {
                "legend": {
                  "tracegroupgap": 0
                },
                "template": {
                  "data": {
                    "bar": [
                      {
                        "error_x": {
                          "color": "#2a3f5f"
                        },
                        "error_y": {
                          "color": "#2a3f5f"
                        },
                        "marker": {
                          "line": {
                            "color": "#E5ECF6",
                            "width": 0.5
                          },
                          "pattern": {
                            "fillmode": "overlay",
                            "size": 10,
                            "solidity": 0.2
                          }
                        },
                        "type": "bar"
                      }
                    ],
                    "barpolar": [
                      {
                        "marker": {
                          "line": {
                            "color": "#E5ECF6",
                            "width": 0.5
                          },
                          "pattern": {
                            "fillmode": "overlay",
                            "size": 10,
                            "solidity": 0.2
                          }
                        },
                        "type": "barpolar"
                      }
                    ],
                    "carpet": [
                      {
                        "aaxis": {
                          "endlinecolor": "#2a3f5f",
                          "gridcolor": "white",
                          "linecolor": "white",
                          "minorgridcolor": "white",
                          "startlinecolor": "#2a3f5f"
                        },
                        "baxis": {
                          "endlinecolor": "#2a3f5f",
                          "gridcolor": "white",
                          "linecolor": "white",
                          "minorgridcolor": "white",
                          "startlinecolor": "#2a3f5f"
                        },
                        "type": "carpet"
                      }
                    ],
                    "choropleth": [
                      {
                        "colorbar": {
                          "outlinewidth": 0,
                          "ticks": ""
                        },
                        "type": "choropleth"
                      }
                    ],
                    "contour": [
                      {
                        "colorbar": {
                          "outlinewidth": 0,
                          "ticks": ""
                        },
                        "colorscale": [
                          [
                            0,
                            "#0d0887"
                          ],
                          [
                            0.1111111111111111,
                            "#46039f"
                          ],
                          [
                            0.2222222222222222,
                            "#7201a8"
                          ],
                          [
                            0.3333333333333333,
                            "#9c179e"
                          ],
                          [
                            0.4444444444444444,
                            "#bd3786"
                          ],
                          [
                            0.5555555555555556,
                            "#d8576b"
                          ],
                          [
                            0.6666666666666666,
                            "#ed7953"
                          ],
                          [
                            0.7777777777777778,
                            "#fb9f3a"
                          ],
                          [
                            0.8888888888888888,
                            "#fdca26"
                          ],
                          [
                            1,
                            "#f0f921"
                          ]
                        ],
                        "type": "contour"
                      }
                    ],
                    "contourcarpet": [
                      {
                        "colorbar": {
                          "outlinewidth": 0,
                          "ticks": ""
                        },
                        "type": "contourcarpet"
                      }
                    ],
                    "heatmap": [
                      {
                        "colorbar": {
                          "outlinewidth": 0,
                          "ticks": ""
                        },
                        "colorscale": [
                          [
                            0,
                            "#0d0887"
                          ],
                          [
                            0.1111111111111111,
                            "#46039f"
                          ],
                          [
                            0.2222222222222222,
                            "#7201a8"
                          ],
                          [
                            0.3333333333333333,
                            "#9c179e"
                          ],
                          [
                            0.4444444444444444,
                            "#bd3786"
                          ],
                          [
                            0.5555555555555556,
                            "#d8576b"
                          ],
                          [
                            0.6666666666666666,
                            "#ed7953"
                          ],
                          [
                            0.7777777777777778,
                            "#fb9f3a"
                          ],
                          [
                            0.8888888888888888,
                            "#fdca26"
                          ],
                          [
                            1,
                            "#f0f921"
                          ]
                        ],
                        "type": "heatmap"
                      }
                    ],
                    "heatmapgl": [
                      {
                        "colorbar": {
                          "outlinewidth": 0,
                          "ticks": ""
                        },
                        "colorscale": [
                          [
                            0,
                            "#0d0887"
                          ],
                          [
                            0.1111111111111111,
                            "#46039f"
                          ],
                          [
                            0.2222222222222222,
                            "#7201a8"
                          ],
                          [
                            0.3333333333333333,
                            "#9c179e"
                          ],
                          [
                            0.4444444444444444,
                            "#bd3786"
                          ],
                          [
                            0.5555555555555556,
                            "#d8576b"
                          ],
                          [
                            0.6666666666666666,
                            "#ed7953"
                          ],
                          [
                            0.7777777777777778,
                            "#fb9f3a"
                          ],
                          [
                            0.8888888888888888,
                            "#fdca26"
                          ],
                          [
                            1,
                            "#f0f921"
                          ]
                        ],
                        "type": "heatmapgl"
                      }
                    ],
                    "histogram": [
                      {
                        "marker": {
                          "pattern": {
                            "fillmode": "overlay",
                            "size": 10,
                            "solidity": 0.2
                          }
                        },
                        "type": "histogram"
                      }
                    ],
                    "histogram2d": [
                      {
                        "colorbar": {
                          "outlinewidth": 0,
                          "ticks": ""
                        },
                        "colorscale": [
                          [
                            0,
                            "#0d0887"
                          ],
                          [
                            0.1111111111111111,
                            "#46039f"
                          ],
                          [
                            0.2222222222222222,
                            "#7201a8"
                          ],
                          [
                            0.3333333333333333,
                            "#9c179e"
                          ],
                          [
                            0.4444444444444444,
                            "#bd3786"
                          ],
                          [
                            0.5555555555555556,
                            "#d8576b"
                          ],
                          [
                            0.6666666666666666,
                            "#ed7953"
                          ],
                          [
                            0.7777777777777778,
                            "#fb9f3a"
                          ],
                          [
                            0.8888888888888888,
                            "#fdca26"
                          ],
                          [
                            1,
                            "#f0f921"
                          ]
                        ],
                        "type": "histogram2d"
                      }
                    ],
                    "histogram2dcontour": [
                      {
                        "colorbar": {
                          "outlinewidth": 0,
                          "ticks": ""
                        },
                        "colorscale": [
                          [
                            0,
                            "#0d0887"
                          ],
                          [
                            0.1111111111111111,
                            "#46039f"
                          ],
                          [
                            0.2222222222222222,
                            "#7201a8"
                          ],
                          [
                            0.3333333333333333,
                            "#9c179e"
                          ],
                          [
                            0.4444444444444444,
                            "#bd3786"
                          ],
                          [
                            0.5555555555555556,
                            "#d8576b"
                          ],
                          [
                            0.6666666666666666,
                            "#ed7953"
                          ],
                          [
                            0.7777777777777778,
                            "#fb9f3a"
                          ],
                          [
                            0.8888888888888888,
                            "#fdca26"
                          ],
                          [
                            1,
                            "#f0f921"
                          ]
                        ],
                        "type": "histogram2dcontour"
                      }
                    ],
                    "mesh3d": [
                      {
                        "colorbar": {
                          "outlinewidth": 0,
                          "ticks": ""
                        },
                        "type": "mesh3d"
                      }
                    ],
                    "parcoords": [
                      {
                        "line": {
                          "colorbar": {
                            "outlinewidth": 0,
                            "ticks": ""
                          }
                        },
                        "type": "parcoords"
                      }
                    ],
                    "pie": [
                      {
                        "automargin": true,
                        "type": "pie"
                      }
                    ],
                    "scatter": [
                      {
                        "fillpattern": {
                          "fillmode": "overlay",
                          "size": 10,
                          "solidity": 0.2
                        },
                        "type": "scatter"
                      }
                    ],
                    "scatter3d": [
                      {
                        "line": {
                          "colorbar": {
                            "outlinewidth": 0,
                            "ticks": ""
                          }
                        },
                        "marker": {
                          "colorbar": {
                            "outlinewidth": 0,
                            "ticks": ""
                          }
                        },
                        "type": "scatter3d"
                      }
                    ],
                    "scattercarpet": [
                      {
                        "marker": {
                          "colorbar": {
                            "outlinewidth": 0,
                            "ticks": ""
                          }
                        },
                        "type": "scattercarpet"
                      }
                    ],
                    "scattergeo": [
                      {
                        "marker": {
                          "colorbar": {
                            "outlinewidth": 0,
                            "ticks": ""
                          }
                        },
                        "type": "scattergeo"
                      }
                    ],
                    "scattergl": [
                      {
                        "marker": {
                          "colorbar": {
                            "outlinewidth": 0,
                            "ticks": ""
                          }
                        },
                        "type": "scattergl"
                      }
                    ],
                    "scattermapbox": [
                      {
                        "marker": {
                          "colorbar": {
                            "outlinewidth": 0,
                            "ticks": ""
                          }
                        },
                        "type": "scattermapbox"
                      }
                    ],
                    "scatterpolar": [
                      {
                        "marker": {
                          "colorbar": {
                            "outlinewidth": 0,
                            "ticks": ""
                          }
                        },
                        "type": "scatterpolar"
                      }
                    ],
                    "scatterpolargl": [
                      {
                        "marker": {
                          "colorbar": {
                            "outlinewidth": 0,
                            "ticks": ""
                          }
                        },
                        "type": "scatterpolargl"
                      }
                    ],
                    "scatterternary": [
                      {
                        "marker": {
                          "colorbar": {
                            "outlinewidth": 0,
                            "ticks": ""
                          }
                        },
                        "type": "scatterternary"
                      }
                    ],
                    "surface": [
                      {
                        "colorbar": {
                          "outlinewidth": 0,
                          "ticks": ""
                        },
                        "colorscale": [
                          [
                            0,
                            "#0d0887"
                          ],
                          [
                            0.1111111111111111,
                            "#46039f"
                          ],
                          [
                            0.2222222222222222,
                            "#7201a8"
                          ],
                          [
                            0.3333333333333333,
                            "#9c179e"
                          ],
                          [
                            0.4444444444444444,
                            "#bd3786"
                          ],
                          [
                            0.5555555555555556,
                            "#d8576b"
                          ],
                          [
                            0.6666666666666666,
                            "#ed7953"
                          ],
                          [
                            0.7777777777777778,
                            "#fb9f3a"
                          ],
                          [
                            0.8888888888888888,
                            "#fdca26"
                          ],
                          [
                            1,
                            "#f0f921"
                          ]
                        ],
                        "type": "surface"
                      }
                    ],
                    "table": [
                      {
                        "cells": {
                          "fill": {
                            "color": "#EBF0F8"
                          },
                          "line": {
                            "color": "white"
                          }
                        },
                        "header": {
                          "fill": {
                            "color": "#C8D4E3"
                          },
                          "line": {
                            "color": "white"
                          }
                        },
                        "type": "table"
                      }
                    ]
                  },
                  "layout": {
                    "annotationdefaults": {
                      "arrowcolor": "#2a3f5f",
                      "arrowhead": 0,
                      "arrowwidth": 1
                    },
                    "autotypenumbers": "strict",
                    "coloraxis": {
                      "colorbar": {
                        "outlinewidth": 0,
                        "ticks": ""
                      }
                    },
                    "colorscale": {
                      "diverging": [
                        [
                          0,
                          "#8e0152"
                        ],
                        [
                          0.1,
                          "#c51b7d"
                        ],
                        [
                          0.2,
                          "#de77ae"
                        ],
                        [
                          0.3,
                          "#f1b6da"
                        ],
                        [
                          0.4,
                          "#fde0ef"
                        ],
                        [
                          0.5,
                          "#f7f7f7"
                        ],
                        [
                          0.6,
                          "#e6f5d0"
                        ],
                        [
                          0.7,
                          "#b8e186"
                        ],
                        [
                          0.8,
                          "#7fbc41"
                        ],
                        [
                          0.9,
                          "#4d9221"
                        ],
                        [
                          1,
                          "#276419"
                        ]
                      ],
                      "sequential": [
                        [
                          0,
                          "#0d0887"
                        ],
                        [
                          0.1111111111111111,
                          "#46039f"
                        ],
                        [
                          0.2222222222222222,
                          "#7201a8"
                        ],
                        [
                          0.3333333333333333,
                          "#9c179e"
                        ],
                        [
                          0.4444444444444444,
                          "#bd3786"
                        ],
                        [
                          0.5555555555555556,
                          "#d8576b"
                        ],
                        [
                          0.6666666666666666,
                          "#ed7953"
                        ],
                        [
                          0.7777777777777778,
                          "#fb9f3a"
                        ],
                        [
                          0.8888888888888888,
                          "#fdca26"
                        ],
                        [
                          1,
                          "#f0f921"
                        ]
                      ],
                      "sequentialminus": [
                        [
                          0,
                          "#0d0887"
                        ],
                        [
                          0.1111111111111111,
                          "#46039f"
                        ],
                        [
                          0.2222222222222222,
                          "#7201a8"
                        ],
                        [
                          0.3333333333333333,
                          "#9c179e"
                        ],
                        [
                          0.4444444444444444,
                          "#bd3786"
                        ],
                        [
                          0.5555555555555556,
                          "#d8576b"
                        ],
                        [
                          0.6666666666666666,
                          "#ed7953"
                        ],
                        [
                          0.7777777777777778,
                          "#fb9f3a"
                        ],
                        [
                          0.8888888888888888,
                          "#fdca26"
                        ],
                        [
                          1,
                          "#f0f921"
                        ]
                      ]
                    },
                    "colorway": [
                      "#636efa",
                      "#EF553B",
                      "#00cc96",
                      "#ab63fa",
                      "#FFA15A",
                      "#19d3f3",
                      "#FF6692",
                      "#B6E880",
                      "#FF97FF",
                      "#FECB52"
                    ],
                    "font": {
                      "color": "#2a3f5f"
                    },
                    "geo": {
                      "bgcolor": "white",
                      "lakecolor": "white",
                      "landcolor": "#E5ECF6",
                      "showlakes": true,
                      "showland": true,
                      "subunitcolor": "white"
                    },
                    "hoverlabel": {
                      "align": "left"
                    },
                    "hovermode": "closest",
                    "mapbox": {
                      "style": "light"
                    },
                    "paper_bgcolor": "white",
                    "plot_bgcolor": "#E5ECF6",
                    "polar": {
                      "angularaxis": {
                        "gridcolor": "white",
                        "linecolor": "white",
                        "ticks": ""
                      },
                      "bgcolor": "#E5ECF6",
                      "radialaxis": {
                        "gridcolor": "white",
                        "linecolor": "white",
                        "ticks": ""
                      }
                    },
                    "scene": {
                      "xaxis": {
                        "backgroundcolor": "#E5ECF6",
                        "gridcolor": "white",
                        "gridwidth": 2,
                        "linecolor": "white",
                        "showbackground": true,
                        "ticks": "",
                        "zerolinecolor": "white"
                      },
                      "yaxis": {
                        "backgroundcolor": "#E5ECF6",
                        "gridcolor": "white",
                        "gridwidth": 2,
                        "linecolor": "white",
                        "showbackground": true,
                        "ticks": "",
                        "zerolinecolor": "white"
                      },
                      "zaxis": {
                        "backgroundcolor": "#E5ECF6",
                        "gridcolor": "white",
                        "gridwidth": 2,
                        "linecolor": "white",
                        "showbackground": true,
                        "ticks": "",
                        "zerolinecolor": "white"
                      }
                    },
                    "shapedefaults": {
                      "line": {
                        "color": "#2a3f5f"
                      }
                    },
                    "ternary": {
                      "aaxis": {
                        "gridcolor": "white",
                        "linecolor": "white",
                        "ticks": ""
                      },
                      "baxis": {
                        "gridcolor": "white",
                        "linecolor": "white",
                        "ticks": ""
                      },
                      "bgcolor": "#E5ECF6",
                      "caxis": {
                        "gridcolor": "white",
                        "linecolor": "white",
                        "ticks": ""
                      }
                    },
                    "title": {
                      "x": 0.05
                    },
                    "xaxis": {
                      "automargin": true,
                      "gridcolor": "white",
                      "linecolor": "white",
                      "ticks": "",
                      "title": {
                        "standoff": 15
                      },
                      "zerolinecolor": "white",
                      "zerolinewidth": 2
                    },
                    "yaxis": {
                      "automargin": true,
                      "gridcolor": "white",
                      "linecolor": "white",
                      "ticks": "",
                      "title": {
                        "standoff": 15
                      },
                      "zerolinecolor": "white",
                      "zerolinewidth": 2
                    }
                  }
                },
                "title": {
                  "text": "IMDB Rating vs Metascore"
                },
                "xaxis": {
                  "anchor": "y",
                  "domain": [
                    0,
                    1
                  ],
                  "title": {
                    "text": "IMDB Rating"
                  }
                },
                "yaxis": {
                  "anchor": "x",
                  "domain": [
                    0,
                    1
                  ],
                  "title": {
                    "text": "Metascore"
                  }
                }
              }
            },
            "text/html": [
              "<div>                            <div id=\"eaa5bd52-2b76-4c4f-83ea-0c9c45e9b372\" class=\"plotly-graph-div\" style=\"height:525px; width:100%;\"></div>            <script type=\"text/javascript\">                require([\"plotly\"], function(Plotly) {                    window.PLOTLYENV=window.PLOTLYENV || {};                                    if (document.getElementById(\"eaa5bd52-2b76-4c4f-83ea-0c9c45e9b372\")) {                    Plotly.newPlot(                        \"eaa5bd52-2b76-4c4f-83ea-0c9c45e9b372\",                        [{\"hovertemplate\":\"IMDB_Rating=%{x}<br>Meta_score=%{y}<extra></extra>\",\"legendgroup\":\"\",\"marker\":{\"color\":\"#636efa\",\"symbol\":\"circle\",\"size\":8},\"mode\":\"markers\",\"name\":\"\",\"orientation\":\"v\",\"showlegend\":false,\"x\":[9.3,9.2,9.0,9.0,9.0,8.9,8.9,8.9,8.8,8.8,8.8,8.8,8.8,8.7,8.7,8.7,8.7,8.7,8.6,8.6,8.6,8.6,8.6,8.6,8.6,8.6,8.6,8.6,8.6,8.6,8.6,8.6,8.6,8.5,8.5,8.5,8.5,8.5,8.5,8.5,8.5,8.5,8.5,8.5,8.5,8.5,8.5,8.5,8.5,8.5,8.5,8.5,8.5,8.4,8.4,8.4,8.4,8.4,8.4,8.4,8.4,8.4,8.4,8.4,8.4,8.4,8.4,8.4,8.4,8.4,8.4,8.4,8.4,8.4,8.4,8.4,8.4,8.4,8.4,8.4,8.4,8.4,8.4,8.4,8.3,8.3,8.3,8.3,8.3,8.3,8.3,8.3,8.3,8.3,8.3,8.3,8.3,8.3,8.3,8.3,8.3,8.3,8.3,8.3,8.3,8.3,8.3,8.3,8.3,8.3,8.3,8.3,8.3,8.3,8.3,8.3,8.3,8.3,8.3,8.3,8.3,8.3,8.3,8.3,8.3,8.3,8.3,8.3,8.2,8.2,8.2,8.2,8.2,8.2,8.2,8.2,8.2,8.2,8.2,8.2,8.2,8.2,8.2,8.2,8.2,8.2,8.2,8.2,8.2,8.2,8.2,8.2,8.2,8.2,8.2,8.2,8.2,8.2,8.2,8.2,8.2,8.2,8.2,8.2,8.2,8.2,8.2,8.2,8.2,8.2,8.2,8.2,8.2,8.2,8.2,8.2,8.2,8.2,8.2,8.2,8.2,8.2,8.2,8.2,8.2,8.2,8.2,8.2,8.2,8.2,8.2,8.2,8.2,8.2,8.2,8.1,8.1,8.1,8.1,8.1,8.1,8.1,8.1,8.1,8.1,8.1,8.1,8.1,8.1,8.1,8.1,8.1,8.1,8.1,8.1,8.1,8.1,8.1,8.1,8.1,8.1,8.1,8.1,8.1,8.1,8.1,8.1,8.1,8.1,8.1,8.1,8.1,8.1,8.1,8.1,8.1,8.1,8.1,8.1,8.1,8.1,8.1,8.1,8.1,8.1,8.1,8.1,8.1,8.1,8.1,8.1,8.1,8.1,8.1,8.1,8.1,8.1,8.1,8.1,8.1,8.1,8.1,8.1,8.1,8.1,8.1,8.1,8.1,8.1,8.1,8.1,8.1,8.1,8.1,8.1,8.1,8.1,8.1,8.1,8.1,8.1,8.1,8.1,8.1,8.1,8.1,8.1,8.1,8.1,8.1,8.1,8.1,8.1,8.1,8.1,8.1,8.1,8.1,8.1,8.1,8.1,8.1,8.1,8.1,8.1,8.1,8.1,8.1,8.1,8.1,8.1,8.1,8.1,8.1,8.1,8.1,8.1,8.1,8.1,8.1,8.1,8.1,8.0,8.0,8.0,8.0,8.0,8.0,8.0,8.0,8.0,8.0,8.0,8.0,8.0,8.0,8.0,8.0,8.0,8.0,8.0,8.0,8.0,8.0,8.0,8.0,8.0,8.0,8.0,8.0,8.0,8.0,8.0,8.0,8.0,8.0,8.0,8.0,8.0,8.0,8.0,8.0,8.0,8.0,8.0,8.0,8.0,8.0,8.0,8.0,8.0,8.0,8.0,8.0,8.0,8.0,8.0,8.0,8.0,8.0,8.0,8.0,8.0,8.0,8.0,8.0,8.0,8.0,8.0,8.0,8.0,8.0,8.0,8.0,8.0,8.0,8.0,8.0,8.0,8.0,8.0,8.0,8.0,8.0,8.0,8.0,8.0,8.0,8.0,8.0,8.0,8.0,8.0,8.0,8.0,8.0,8.0,8.0,8.0,8.0,8.0,8.0,8.0,8.0,8.0,8.0,8.0,8.0,8.0,8.0,8.0,8.0,8.0,8.0,8.0,8.0,8.0,8.0,8.0,8.0,8.0,8.0,8.0,8.0,8.0,8.0,8.0,8.0,8.0,8.0,8.0,8.0,8.0,8.0,8.0,8.0,8.0,8.0,8.0,8.0,8.0,8.0,8.0,7.9,7.9,7.9,7.9,7.9,7.9,7.9,7.9,7.9,7.9,7.9,7.9,7.9,7.9,7.9,7.9,7.9,7.9,7.9,7.9,7.9,7.9,7.9,7.9,7.9,7.9,7.9,7.9,7.9,7.9,7.9,7.9,7.9,7.9,7.9,7.9,7.9,7.9,7.9,7.9,7.9,7.9,7.9,7.9,7.9,7.9,7.9,7.9,7.9,7.9,7.9,7.9,7.9,7.9,7.9,7.9,7.9,7.9,7.9,7.9,7.9,7.9,7.9,7.9,7.9,7.9,7.9,7.9,7.9,7.9,7.9,7.9,7.9,7.9,7.9,7.9,7.9,7.9,7.9,7.9,7.9,7.9,7.9,7.9,7.9,7.9,7.9,7.9,7.9,7.9,7.9,7.9,7.9,7.9,7.9,7.9,7.9,7.9,7.9,7.9,7.9,7.9,7.9,7.9,7.9,7.9,7.8,7.8,7.8,7.8,7.8,7.8,7.8,7.8,7.8,7.8,7.8,7.8,7.8,7.8,7.8,7.8,7.8,7.8,7.8,7.8,7.8,7.8,7.8,7.8,7.8,7.8,7.8,7.8,7.8,7.8,7.8,7.8,7.8,7.8,7.8,7.8,7.8,7.8,7.8,7.8,7.8,7.8,7.8,7.8,7.8,7.8,7.8,7.8,7.8,7.8,7.8,7.8,7.8,7.8,7.8,7.8,7.8,7.8,7.8,7.8,7.8,7.8,7.8,7.8,7.8,7.8,7.8,7.8,7.8,7.8,7.8,7.8,7.8,7.8,7.8,7.8,7.8,7.8,7.8,7.8,7.8,7.8,7.8,7.8,7.8,7.8,7.8,7.8,7.8,7.8,7.8,7.8,7.8,7.8,7.8,7.8,7.8,7.8,7.8,7.8,7.8,7.8,7.8,7.8,7.8,7.8,7.8,7.8,7.8,7.8,7.8,7.8,7.8,7.8,7.8,7.8,7.8,7.8,7.8,7.8,7.8,7.8,7.8,7.8,7.8,7.8,7.8,7.8,7.8,7.8,7.8,7.8,7.8,7.8,7.8,7.8,7.8,7.8,7.8,7.8,7.8,7.8,7.8,7.8,7.8,7.8,7.8,7.8,7.8,7.8,7.8,7.7,7.7,7.7,7.7,7.7,7.7,7.7,7.7,7.7,7.7,7.7,7.7,7.7,7.7,7.7,7.7,7.7,7.7,7.7,7.7,7.7,7.7,7.7,7.7,7.7,7.7,7.7,7.7,7.7,7.7,7.7,7.7,7.7,7.7,7.7,7.7,7.7,7.7,7.7,7.7,7.7,7.7,7.7,7.7,7.7,7.7,7.7,7.7,7.7,7.7,7.7,7.7,7.7,7.7,7.7,7.7,7.7,7.7,7.7,7.7,7.7,7.7,7.7,7.7,7.7,7.7,7.7,7.7,7.7,7.7,7.7,7.7,7.7,7.7,7.7,7.7,7.7,7.7,7.7,7.7,7.7,7.7,7.7,7.7,7.7,7.7,7.7,7.7,7.7,7.7,7.7,7.7,7.7,7.7,7.7,7.7,7.7,7.7,7.7,7.7,7.7,7.7,7.7,7.7,7.7,7.7,7.7,7.7,7.7,7.7,7.7,7.7,7.7,7.7,7.7,7.7,7.7,7.7,7.7,7.7,7.7,7.7,7.7,7.7,7.7,7.7,7.7,7.7,7.7,7.7,7.7,7.7,7.7,7.7,7.7,7.7,7.7,7.7,7.7,7.7,7.7,7.7,7.7,7.7,7.7,7.7,7.7,7.7,7.7,7.7,7.7,7.7,7.7,7.7,7.7,7.7,7.7,7.6,7.6,7.6,7.6,7.6,7.6,7.6,7.6,7.6,7.6,7.6,7.6,7.6,7.6,7.6,7.6,7.6,7.6,7.6,7.6,7.6,7.6,7.6,7.6,7.6,7.6,7.6,7.6,7.6,7.6,7.6,7.6,7.6,7.6,7.6,7.6,7.6,7.6,7.6,7.6,7.6,7.6,7.6,7.6,7.6,7.6,7.6,7.6,7.6,7.6,7.6,7.6,7.6,7.6,7.6,7.6,7.6,7.6,7.6,7.6,7.6,7.6,7.6,7.6,7.6,7.6,7.6,7.6,7.6,7.6,7.6,7.6,7.6,7.6,7.6,7.6,7.6,7.6,7.6,7.6,7.6,7.6,7.6,7.6,7.6,7.6,7.6,7.6,7.6,7.6,7.6,7.6,7.6,7.6,7.6,7.6,7.6,7.6,7.6,7.6,7.6,7.6,7.6,7.6,7.6,7.6,7.6,7.6,7.6,7.6,7.6,7.6,7.6,7.6,7.6,7.6,7.6,7.6,7.6,7.6,7.6,7.6,7.6],\"xaxis\":\"x\",\"y\":[80.0,100.0,84.0,90.0,96.0,94.0,94.0,94.0,74.0,66.0,92.0,82.0,90.0,87.0,73.0,90.0,82.0,83.0,90.0,96.0,null,74.0,79.0,96.0,91.0,61.0,59.0,65.0,85.0,90.0,85.0,98.0,89.0,59.0,88.0,57.0,66.0,85.0,85.0,67.0,62.0,77.0,64.0,88.0,75.0,80.0,94.0,87.0,80.0,97.0,100.0,96.0,99.0,75.0,null,null,79.0,null,87.0,78.0,68.0,81.0,81.0,78.0,67.0,null,95.0,89.0,77.0,80.0,76.0,null,85.0,66.0,94.0,89.0,null,null,97.0,null,90.0,100.0,null,null,78.0,null,null,null,77.0,95.0,80.0,null,null,69.0,89.0,69.0,55.0,68.0,84.0,70.0,77.0,95.0,68.0,79.0,76.0,null,84.0,88.0,65.0,58.0,86.0,94.0,83.0,77.0,84.0,74.0,100.0,94.0,98.0,100.0,99.0,null,null,95.0,100.0,null,98.0,null,null,null,null,69.0,88.0,null,null,65.0,null,null,73.0,null,89.0,null,null,80.0,71.0,63.0,88.0,75.0,68.0,93.0,98.0,92.0,62.0,null,null,70.0,null,82.0,80.0,72.0,null,66.0,90.0,null,76.0,73.0,null,85.0,65.0,null,86.0,72.0,96.0,89.0,null,null,null,null,91.0,86.0,88.0,null,60.0,98.0,88.0,88.0,97.0,75.0,null,98.0,98.0,98.0,86.0,null,null,95.0,null,78.0,null,84.0,74.0,null,77.0,86.0,77.0,83.0,88.0,null,null,88.0,79.0,71.0,71.0,94.0,null,96.0,74.0,81.0,93.0,85.0,null,null,70.0,90.0,null,72.0,85.0,68.0,null,null,75.0,73.0,91.0,null,86.0,79.0,64.0,90.0,null,82.0,null,69.0,90.0,75.0,83.0,79.0,null,84.0,64.0,58.0,90.0,73.0,71.0,85.0,83.0,85.0,null,null,null,77.0,100.0,77.0,68.0,84.0,null,null,79.0,75.0,92.0,78.0,86.0,57.0,47.0,null,100.0,84.0,78.0,77.0,86.0,70.0,83.0,89.0,null,92.0,77.0,null,90.0,null,92.0,86.0,null,96.0,null,75.0,null,94.0,null,null,75.0,null,90.0,null,null,null,87.0,91.0,85.0,72.0,null,97.0,null,96.0,86.0,73.0,97.0,null,87.0,null,90.0,null,null,null,null,69.0,null,null,null,94.0,69.0,80.0,78.0,null,89.0,66.0,65.0,null,82.0,71.0,73.0,76.0,81.0,90.0,49.0,76.0,67.0,71.0,88.0,62.0,65.0,87.0,null,59.0,50.0,null,84.0,79.0,33.0,69.0,90.0,80.0,64.0,64.0,85.0,72.0,74.0,92.0,null,96.0,80.0,83.0,82.0,85.0,74.0,69.0,54.0,75.0,63.0,58.0,90.0,null,60.0,null,88.0,77.0,61.0,86.0,null,82.0,80.0,85.0,null,84.0,91.0,74.0,76.0,82.0,72.0,47.0,59.0,86.0,72.0,95.0,72.0,93.0,65.0,null,77.0,79.0,88.0,78.0,84.0,79.0,84.0,83.0,92.0,87.0,86.0,80.0,58.0,81.0,null,93.0,67.0,100.0,66.0,96.0,79.0,83.0,75.0,63.0,69.0,65.0,91.0,null,90.0,95.0,93.0,95.0,99.0,84.0,100.0,91.0,99.0,null,null,84.0,78.0,97.0,null,null,73.0,null,92.0,null,93.0,null,96.0,96.0,92.0,null,86.0,91.0,97.0,82.0,null,93.0,94.0,93.0,78.0,82.0,81.0,72.0,79.0,74.0,76.0,58.0,81.0,80.0,94.0,75.0,82.0,89.0,71.0,94.0,94.0,90.0,67.0,82.0,81.0,80.0,null,100.0,97.0,82.0,67.0,null,89.0,64.0,79.0,83.0,81.0,56.0,79.0,76.0,78.0,84.0,82.0,85.0,86.0,84.0,61.0,68.0,80.0,84.0,90.0,85.0,88.0,85.0,75.0,77.0,59.0,85.0,null,65.0,74.0,97.0,77.0,79.0,90.0,84.0,92.0,77.0,60.0,83.0,72.0,71.0,84.0,76.0,null,93.0,null,62.0,91.0,97.0,89.0,null,75.0,83.0,94.0,87.0,null,null,null,94.0,72.0,89.0,88.0,null,88.0,100.0,null,null,96.0,null,97.0,null,90.0,80.0,null,51.0,null,81.0,85.0,94.0,null,74.0,88.0,null,84.0,null,96.0,75.0,65.0,75.0,68.0,91.0,62.0,79.0,85.0,86.0,76.0,null,74.0,55.0,null,83.0,84.0,49.0,84.0,76.0,81.0,null,67.0,71.0,82.0,null,72.0,79.0,64.0,66.0,82.0,76.0,77.0,81.0,79.0,51.0,55.0,88.0,58.0,85.0,85.0,78.0,76.0,83.0,63.0,68.0,80.0,81.0,70.0,67.0,51.0,82.0,68.0,73.0,74.0,72.0,61.0,53.0,75.0,82.0,91.0,58.0,61.0,83.0,48.0,94.0,87.0,73.0,44.0,84.0,71.0,84.0,75.0,null,64.0,61.0,76.0,70.0,73.0,50.0,55.0,84.0,84.0,87.0,80.0,null,null,68.0,86.0,76.0,75.0,74.0,83.0,78.0,82.0,57.0,65.0,45.0,72.0,61.0,75.0,62.0,78.0,66.0,76.0,71.0,91.0,73.0,91.0,77.0,93.0,69.0,91.0,85.0,73.0,80.0,93.0,80.0,67.0,79.0,81.0,63.0,86.0,95.0,88.0,75.0,97.0,88.0,null,null,null,null,94.0,93.0,98.0,91.0,95.0,93.0,87.0,91.0,96.0,85.0,66.0,73.0,85.0,86.0,70.0,76.0,72.0,72.0,60.0,69.0,74.0,87.0,89.0,40.0,70.0,70.0,null,87.0,72.0,70.0,52.0,81.0,83.0,96.0,72.0,79.0,95.0,65.0,73.0,81.0,81.0,86.0,76.0,65.0,86.0,80.0,81.0,63.0,45.0,null,null,86.0,78.0,78.0,74.0,78.0,53.0,70.0,78.0,71.0,71.0,87.0,76.0,66.0,78.0,73.0,61.0,73.0,89.0,81.0,47.0,80.0,55.0,83.0,68.0,76.0,28.0,83.0,74.0,72.0,60.0,74.0,85.0,74.0,62.0,69.0,null,73.0,68.0,81.0,69.0,86.0,null,90.0,67.0,52.0,73.0,76.0,87.0,47.0,null,83.0,71.0,81.0,70.0,79.0,66.0,64.0,73.0,76.0,83.0,82.0,62.0,64.0,69.0,66.0,83.0,null,84.0,76.0,62.0,54.0,76.0,75.0,90.0,null,77.0,67.0,61.0,86.0,78.0,71.0,87.0,71.0,89.0,68.0,73.0,87.0,83.0,80.0,94.0,90.0,63.0,86.0,73.0,null,72.0,91.0,77.0,87.0,90.0,76.0,null,74.0,90.0,92.0,89.0,91.0,72.0,null,null,91.0,null,96.0,87.0,73.0,71.0,83.0,86.0,92.0,68.0,60.0,70.0,77.0,83.0,67.0,86.0,72.0,81.0,80.0,81.0,82.0,82.0,92.0,88.0,77.0,79.0,null,73.0,68.0,80.0,88.0,80.0,65.0,72.0,72.0,66.0,null,87.0,70.0,73.0,null,57.0,53.0,79.0,36.0,82.0,66.0,81.0,76.0,72.0,66.0,70.0,68.0,52.0,78.0,52.0,72.0,56.0,62.0,46.0,67.0,73.0,45.0,76.0,81.0,70.0,56.0,67.0,68.0,30.0,73.0,81.0,76.0,88.0,64.0,74.0,52.0,53.0,80.0,74.0,64.0,77.0,78.0,71.0,41.0,69.0,66.0,49.0,52.0,84.0,58.0,62.0,69.0,77.0,88.0,56.0,78.0,68.0,90.0,66.0,63.0,60.0,76.0,88.0,76.0,72.0,68.0,82.0,68.0,77.0,65.0,74.0,76.0,64.0,59.0,90.0,87.0,77.0,50.0,65.0,82.0,96.0,76.0,84.0,85.0,78.0,93.0],\"yaxis\":\"y\",\"type\":\"scatter\"}],                        {\"template\":{\"data\":{\"histogram2dcontour\":[{\"type\":\"histogram2dcontour\",\"colorbar\":{\"outlinewidth\":0,\"ticks\":\"\"},\"colorscale\":[[0.0,\"#0d0887\"],[0.1111111111111111,\"#46039f\"],[0.2222222222222222,\"#7201a8\"],[0.3333333333333333,\"#9c179e\"],[0.4444444444444444,\"#bd3786\"],[0.5555555555555556,\"#d8576b\"],[0.6666666666666666,\"#ed7953\"],[0.7777777777777778,\"#fb9f3a\"],[0.8888888888888888,\"#fdca26\"],[1.0,\"#f0f921\"]]}],\"choropleth\":[{\"type\":\"choropleth\",\"colorbar\":{\"outlinewidth\":0,\"ticks\":\"\"}}],\"histogram2d\":[{\"type\":\"histogram2d\",\"colorbar\":{\"outlinewidth\":0,\"ticks\":\"\"},\"colorscale\":[[0.0,\"#0d0887\"],[0.1111111111111111,\"#46039f\"],[0.2222222222222222,\"#7201a8\"],[0.3333333333333333,\"#9c179e\"],[0.4444444444444444,\"#bd3786\"],[0.5555555555555556,\"#d8576b\"],[0.6666666666666666,\"#ed7953\"],[0.7777777777777778,\"#fb9f3a\"],[0.8888888888888888,\"#fdca26\"],[1.0,\"#f0f921\"]]}],\"heatmap\":[{\"type\":\"heatmap\",\"colorbar\":{\"outlinewidth\":0,\"ticks\":\"\"},\"colorscale\":[[0.0,\"#0d0887\"],[0.1111111111111111,\"#46039f\"],[0.2222222222222222,\"#7201a8\"],[0.3333333333333333,\"#9c179e\"],[0.4444444444444444,\"#bd3786\"],[0.5555555555555556,\"#d8576b\"],[0.6666666666666666,\"#ed7953\"],[0.7777777777777778,\"#fb9f3a\"],[0.8888888888888888,\"#fdca26\"],[1.0,\"#f0f921\"]]}],\"heatmapgl\":[{\"type\":\"heatmapgl\",\"colorbar\":{\"outlinewidth\":0,\"ticks\":\"\"},\"colorscale\":[[0.0,\"#0d0887\"],[0.1111111111111111,\"#46039f\"],[0.2222222222222222,\"#7201a8\"],[0.3333333333333333,\"#9c179e\"],[0.4444444444444444,\"#bd3786\"],[0.5555555555555556,\"#d8576b\"],[0.6666666666666666,\"#ed7953\"],[0.7777777777777778,\"#fb9f3a\"],[0.8888888888888888,\"#fdca26\"],[1.0,\"#f0f921\"]]}],\"contourcarpet\":[{\"type\":\"contourcarpet\",\"colorbar\":{\"outlinewidth\":0,\"ticks\":\"\"}}],\"contour\":[{\"type\":\"contour\",\"colorbar\":{\"outlinewidth\":0,\"ticks\":\"\"},\"colorscale\":[[0.0,\"#0d0887\"],[0.1111111111111111,\"#46039f\"],[0.2222222222222222,\"#7201a8\"],[0.3333333333333333,\"#9c179e\"],[0.4444444444444444,\"#bd3786\"],[0.5555555555555556,\"#d8576b\"],[0.6666666666666666,\"#ed7953\"],[0.7777777777777778,\"#fb9f3a\"],[0.8888888888888888,\"#fdca26\"],[1.0,\"#f0f921\"]]}],\"surface\":[{\"type\":\"surface\",\"colorbar\":{\"outlinewidth\":0,\"ticks\":\"\"},\"colorscale\":[[0.0,\"#0d0887\"],[0.1111111111111111,\"#46039f\"],[0.2222222222222222,\"#7201a8\"],[0.3333333333333333,\"#9c179e\"],[0.4444444444444444,\"#bd3786\"],[0.5555555555555556,\"#d8576b\"],[0.6666666666666666,\"#ed7953\"],[0.7777777777777778,\"#fb9f3a\"],[0.8888888888888888,\"#fdca26\"],[1.0,\"#f0f921\"]]}],\"mesh3d\":[{\"type\":\"mesh3d\",\"colorbar\":{\"outlinewidth\":0,\"ticks\":\"\"}}],\"scatter\":[{\"fillpattern\":{\"fillmode\":\"overlay\",\"size\":10,\"solidity\":0.2},\"type\":\"scatter\"}],\"parcoords\":[{\"type\":\"parcoords\",\"line\":{\"colorbar\":{\"outlinewidth\":0,\"ticks\":\"\"}}}],\"scatterpolargl\":[{\"type\":\"scatterpolargl\",\"marker\":{\"colorbar\":{\"outlinewidth\":0,\"ticks\":\"\"}}}],\"bar\":[{\"error_x\":{\"color\":\"#2a3f5f\"},\"error_y\":{\"color\":\"#2a3f5f\"},\"marker\":{\"line\":{\"color\":\"#E5ECF6\",\"width\":0.5},\"pattern\":{\"fillmode\":\"overlay\",\"size\":10,\"solidity\":0.2}},\"type\":\"bar\"}],\"scattergeo\":[{\"type\":\"scattergeo\",\"marker\":{\"colorbar\":{\"outlinewidth\":0,\"ticks\":\"\"}}}],\"scatterpolar\":[{\"type\":\"scatterpolar\",\"marker\":{\"colorbar\":{\"outlinewidth\":0,\"ticks\":\"\"}}}],\"histogram\":[{\"marker\":{\"pattern\":{\"fillmode\":\"overlay\",\"size\":10,\"solidity\":0.2}},\"type\":\"histogram\"}],\"scattergl\":[{\"type\":\"scattergl\",\"marker\":{\"colorbar\":{\"outlinewidth\":0,\"ticks\":\"\"}}}],\"scatter3d\":[{\"type\":\"scatter3d\",\"line\":{\"colorbar\":{\"outlinewidth\":0,\"ticks\":\"\"}},\"marker\":{\"colorbar\":{\"outlinewidth\":0,\"ticks\":\"\"}}}],\"scattermapbox\":[{\"type\":\"scattermapbox\",\"marker\":{\"colorbar\":{\"outlinewidth\":0,\"ticks\":\"\"}}}],\"scatterternary\":[{\"type\":\"scatterternary\",\"marker\":{\"colorbar\":{\"outlinewidth\":0,\"ticks\":\"\"}}}],\"scattercarpet\":[{\"type\":\"scattercarpet\",\"marker\":{\"colorbar\":{\"outlinewidth\":0,\"ticks\":\"\"}}}],\"carpet\":[{\"aaxis\":{\"endlinecolor\":\"#2a3f5f\",\"gridcolor\":\"white\",\"linecolor\":\"white\",\"minorgridcolor\":\"white\",\"startlinecolor\":\"#2a3f5f\"},\"baxis\":{\"endlinecolor\":\"#2a3f5f\",\"gridcolor\":\"white\",\"linecolor\":\"white\",\"minorgridcolor\":\"white\",\"startlinecolor\":\"#2a3f5f\"},\"type\":\"carpet\"}],\"table\":[{\"cells\":{\"fill\":{\"color\":\"#EBF0F8\"},\"line\":{\"color\":\"white\"}},\"header\":{\"fill\":{\"color\":\"#C8D4E3\"},\"line\":{\"color\":\"white\"}},\"type\":\"table\"}],\"barpolar\":[{\"marker\":{\"line\":{\"color\":\"#E5ECF6\",\"width\":0.5},\"pattern\":{\"fillmode\":\"overlay\",\"size\":10,\"solidity\":0.2}},\"type\":\"barpolar\"}],\"pie\":[{\"automargin\":true,\"type\":\"pie\"}]},\"layout\":{\"autotypenumbers\":\"strict\",\"colorway\":[\"#636efa\",\"#EF553B\",\"#00cc96\",\"#ab63fa\",\"#FFA15A\",\"#19d3f3\",\"#FF6692\",\"#B6E880\",\"#FF97FF\",\"#FECB52\"],\"font\":{\"color\":\"#2a3f5f\"},\"hovermode\":\"closest\",\"hoverlabel\":{\"align\":\"left\"},\"paper_bgcolor\":\"white\",\"plot_bgcolor\":\"#E5ECF6\",\"polar\":{\"bgcolor\":\"#E5ECF6\",\"angularaxis\":{\"gridcolor\":\"white\",\"linecolor\":\"white\",\"ticks\":\"\"},\"radialaxis\":{\"gridcolor\":\"white\",\"linecolor\":\"white\",\"ticks\":\"\"}},\"ternary\":{\"bgcolor\":\"#E5ECF6\",\"aaxis\":{\"gridcolor\":\"white\",\"linecolor\":\"white\",\"ticks\":\"\"},\"baxis\":{\"gridcolor\":\"white\",\"linecolor\":\"white\",\"ticks\":\"\"},\"caxis\":{\"gridcolor\":\"white\",\"linecolor\":\"white\",\"ticks\":\"\"}},\"coloraxis\":{\"colorbar\":{\"outlinewidth\":0,\"ticks\":\"\"}},\"colorscale\":{\"sequential\":[[0.0,\"#0d0887\"],[0.1111111111111111,\"#46039f\"],[0.2222222222222222,\"#7201a8\"],[0.3333333333333333,\"#9c179e\"],[0.4444444444444444,\"#bd3786\"],[0.5555555555555556,\"#d8576b\"],[0.6666666666666666,\"#ed7953\"],[0.7777777777777778,\"#fb9f3a\"],[0.8888888888888888,\"#fdca26\"],[1.0,\"#f0f921\"]],\"sequentialminus\":[[0.0,\"#0d0887\"],[0.1111111111111111,\"#46039f\"],[0.2222222222222222,\"#7201a8\"],[0.3333333333333333,\"#9c179e\"],[0.4444444444444444,\"#bd3786\"],[0.5555555555555556,\"#d8576b\"],[0.6666666666666666,\"#ed7953\"],[0.7777777777777778,\"#fb9f3a\"],[0.8888888888888888,\"#fdca26\"],[1.0,\"#f0f921\"]],\"diverging\":[[0,\"#8e0152\"],[0.1,\"#c51b7d\"],[0.2,\"#de77ae\"],[0.3,\"#f1b6da\"],[0.4,\"#fde0ef\"],[0.5,\"#f7f7f7\"],[0.6,\"#e6f5d0\"],[0.7,\"#b8e186\"],[0.8,\"#7fbc41\"],[0.9,\"#4d9221\"],[1,\"#276419\"]]},\"xaxis\":{\"gridcolor\":\"white\",\"linecolor\":\"white\",\"ticks\":\"\",\"title\":{\"standoff\":15},\"zerolinecolor\":\"white\",\"automargin\":true,\"zerolinewidth\":2},\"yaxis\":{\"gridcolor\":\"white\",\"linecolor\":\"white\",\"ticks\":\"\",\"title\":{\"standoff\":15},\"zerolinecolor\":\"white\",\"automargin\":true,\"zerolinewidth\":2},\"scene\":{\"xaxis\":{\"backgroundcolor\":\"#E5ECF6\",\"gridcolor\":\"white\",\"linecolor\":\"white\",\"showbackground\":true,\"ticks\":\"\",\"zerolinecolor\":\"white\",\"gridwidth\":2},\"yaxis\":{\"backgroundcolor\":\"#E5ECF6\",\"gridcolor\":\"white\",\"linecolor\":\"white\",\"showbackground\":true,\"ticks\":\"\",\"zerolinecolor\":\"white\",\"gridwidth\":2},\"zaxis\":{\"backgroundcolor\":\"#E5ECF6\",\"gridcolor\":\"white\",\"linecolor\":\"white\",\"showbackground\":true,\"ticks\":\"\",\"zerolinecolor\":\"white\",\"gridwidth\":2}},\"shapedefaults\":{\"line\":{\"color\":\"#2a3f5f\"}},\"annotationdefaults\":{\"arrowcolor\":\"#2a3f5f\",\"arrowhead\":0,\"arrowwidth\":1},\"geo\":{\"bgcolor\":\"white\",\"landcolor\":\"#E5ECF6\",\"subunitcolor\":\"white\",\"showland\":true,\"showlakes\":true,\"lakecolor\":\"white\"},\"title\":{\"x\":0.05},\"mapbox\":{\"style\":\"light\"}}},\"xaxis\":{\"anchor\":\"y\",\"domain\":[0.0,1.0],\"title\":{\"text\":\"IMDB Rating\"}},\"yaxis\":{\"anchor\":\"x\",\"domain\":[0.0,1.0],\"title\":{\"text\":\"Metascore\"}},\"legend\":{\"tracegroupgap\":0},\"title\":{\"text\":\"IMDB Rating vs Metascore\"}},                        {\"responsive\": true}                    ).then(function(){\n",
              "                            \n",
              "var gd = document.getElementById('eaa5bd52-2b76-4c4f-83ea-0c9c45e9b372');\n",
              "var x = new MutationObserver(function (mutations, observer) {{\n",
              "        var display = window.getComputedStyle(gd).display;\n",
              "        if (!display || display === 'none') {{\n",
              "            console.log([gd, 'removed!']);\n",
              "            Plotly.purge(gd);\n",
              "            observer.disconnect();\n",
              "        }}\n",
              "}});\n",
              "\n",
              "// Listen for the removal of the full notebook cells\n",
              "var notebookContainer = gd.closest('#notebook-container');\n",
              "if (notebookContainer) {{\n",
              "    x.observe(notebookContainer, {childList: true});\n",
              "}}\n",
              "\n",
              "// Listen for the clearing of the current output cell\n",
              "var outputEl = gd.closest('.output');\n",
              "if (outputEl) {{\n",
              "    x.observe(outputEl, {childList: true});\n",
              "}}\n",
              "\n",
              "                        })                };                });            </script>        </div>"
            ]
          },
          "metadata": {},
          "output_type": "display_data"
        }
      ],
      "source": [
        "import plotly.express as px\n",
        "fig = px.scatter(movies, x='IMDB_Rating', y='Meta_score', title='IMDB Rating vs Metascore')\n",
        "fig.update_traces(marker=dict(size=8))\n",
        "fig.update_layout(\n",
        "    xaxis_title='IMDB Rating',\n",
        "    yaxis_title='Metascore',\n",
        ")\n",
        "fig.show()\n",
        "#scatter plot of IMDB rating vs Metascore"
      ]
    },
    {
      "cell_type": "code",
      "execution_count": null,
      "metadata": {
        "scrolled": true,
        "id": "OuMZcL__TEDK",
        "outputId": "e08bce48-4028-4988-f8ec-8e9618db1199"
      },
      "outputs": [
        {
          "data": {
            "application/vnd.plotly.v1+json": {
              "config": {
                "plotlyServerURL": "https://plot.ly"
              },
              "data": [
                {
                  "name": "IMDB Rating",
                  "type": "scatter",
                  "x": [
                    2343110,
                    1620367,
                    2303232,
                    1129952,
                    689845,
                    1642758,
                    1826188,
                    1213505,
                    2067042,
                    1854740,
                    1661481,
                    1809221,
                    688390,
                    1485555,
                    1676426,
                    1020727,
                    1159315,
                    918088,
                    55291,
                    552778,
                    54995,
                    1512360,
                    699256,
                    651376,
                    1235804,
                    1147794,
                    623629,
                    1445096,
                    1270197,
                    1231473,
                    42004,
                    315744,
                    405801,
                    939252,
                    717585,
                    760360,
                    1190259,
                    1189773,
                    729603,
                    1341460,
                    1034705,
                    991208,
                    1035236,
                    942045,
                    995506,
                    230763,
                    235231,
                    1058081,
                    302844,
                    604211,
                    522093,
                    217881,
                    167839,
                    62635,
                    34112,
                    28401,
                    194838,
                    156479,
                    375110,
                    809955,
                    834477,
                    384171,
                    1357682,
                    1516346,
                    344445,
                    168895,
                    999790,
                    358685,
                    515451,
                    1125712,
                    343171,
                    311365,
                    884112,
                    898237,
                    606398,
                    787806,
                    30273,
                    34357,
                    450474,
                    108862,
                    178092,
                    444074,
                    201632,
                    203150,
                    425844,
                    27793,
                    71875,
                    30722,
                    281623,
                    220002,
                    150023,
                    33935,
                    78925,
                    1267869,
                    911664,
                    703810,
                    782001,
                    766870,
                    1069738,
                    861606,
                    65341,
                    887429,
                    959181,
                    918562,
                    675146,
                    59056,
                    652719,
                    369007,
                    740911,
                    950470,
                    231855,
                    724636,
                    241513,
                    757904,
                    603517,
                    232772,
                    268085,
                    164363,
                    299198,
                    364368,
                    218957,
                    68463,
                    146427,
                    143525,
                    403351,
                    143434,
                    159992,
                    113314,
                    33893,
                    43444,
                    36680,
                    377884,
                    432610,
                    31142,
                    75348,
                    104761,
                    70367,
                    60701,
                    40382,
                    61137,
                    82365,
                    42341,
                    33237,
                    193217,
                    435950,
                    1129894,
                    935507,
                    1187498,
                    74129,
                    517359,
                    618623,
                    757032,
                    1032749,
                    111937,
                    33354,
                    1308302,
                    83005,
                    331308,
                    333915,
                    848920,
                    57057,
                    535216,
                    531967,
                    64118,
                    577113,
                    466276,
                    49300,
                    375935,
                    692366,
                    26402,
                    291180,
                    793164,
                    112505,
                    321860,
                    116945,
                    26875,
                    43885,
                    51284,
                    500875,
                    224730,
                    293811,
                    111244,
                    69458,
                    243943,
                    96381,
                    164939,
                    28810,
                    158335,
                    53153,
                    152572,
                    120539,
                    114304,
                    29915,
                    101053,
                    41985,
                    63134,
                    39216,
                    47708,
                    141516,
                    113649,
                    50700,
                    50445,
                    647884,
                    371538,
                    177059,
                    159171,
                    46547,
                    163061,
                    51739,
                    707630,
                    859695,
                    38803,
                    435928,
                    616228,
                    75721,
                    640533,
                    432811,
                    291289,
                    420316,
                    51679,
                    57806,
                    67927,
                    601149,
                    882316,
                    73891,
                    720450,
                    764493,
                    48582,
                    253575,
                    164462,
                    666773,
                    572921,
                    856916,
                    43137,
                    635975,
                    334320,
                    37820,
                    236311,
                    73992,
                    139558,
                    66803,
                    1000639,
                    949565,
                    832846,
                    223741,
                    815505,
                    38847,
                    105036,
                    911573,
                    59020,
                    939631,
                    50862,
                    732620,
                    124383,
                    634716,
                    617444,
                    55220,
                    150345,
                    63516,
                    272291,
                    90729,
                    63122,
                    867615,
                    156842,
                    25088,
                    29662,
                    425457,
                    363401,
                    381222,
                    91188,
                    150924,
                    371271,
                    76081,
                    31595,
                    57784,
                    693827,
                    220078,
                    367250,
                    311361,
                    518546,
                    144911,
                    149843,
                    40081,
                    294230,
                    42285,
                    30206,
                    81021,
                    45434,
                    161984,
                    103191,
                    46947,
                    53089,
                    29682,
                    50058,
                    33044,
                    68827,
                    31728,
                    26697,
                    27254,
                    105291,
                    219466,
                    34797,
                    42940,
                    46678,
                    203463,
                    142107,
                    54588,
                    31568,
                    29807,
                    158731,
                    30935,
                    28450,
                    123942,
                    107017,
                    290074,
                    33829,
                    94016,
                    47676,
                    30205,
                    46865,
                    81156,
                    57428,
                    27978,
                    37556,
                    52897,
                    72245,
                    52848,
                    505918,
                    213970,
                    760094,
                    434143,
                    102972,
                    38746,
                    141923,
                    31886,
                    51069,
                    81770,
                    114316,
                    685201,
                    1043455,
                    461823,
                    540772,
                    450349,
                    705589,
                    462252,
                    79200,
                    639603,
                    428521,
                    902669,
                    45803,
                    28749,
                    211427,
                    98575,
                    31838,
                    798882,
                    699673,
                    98097,
                    1260806,
                    88656,
                    441614,
                    448930,
                    499439,
                    604694,
                    50610,
                    738512,
                    103284,
                    56960,
                    641645,
                    582239,
                    683900,
                    42399,
                    77520,
                    77554,
                    176151,
                    63460,
                    117857,
                    1015122,
                    415218,
                    657047,
                    45403,
                    137963,
                    33592,
                    740086,
                    289742,
                    102285,
                    82002,
                    58192,
                    78341,
                    36419,
                    172083,
                    27721,
                    86838,
                    37564,
                    578443,
                    129231,
                    300208,
                    577991,
                    28825,
                    263918,
                    373845,
                    142110,
                    417178,
                    240266,
                    89429,
                    473064,
                    164918,
                    393899,
                    64722,
                    31163,
                    150140,
                    799795,
                    217664,
                    32195,
                    65625,
                    251823,
                    543388,
                    235652,
                    143359,
                    121627,
                    362393,
                    44748,
                    42456,
                    39491,
                    27067,
                    201888,
                    193674,
                    165167,
                    253676,
                    68926,
                    205425,
                    69903,
                    198219,
                    108844,
                    28057,
                    75067,
                    66621,
                    56305,
                    59847,
                    98431,
                    45062,
                    28137,
                    81702,
                    81980,
                    58314,
                    61503,
                    51046,
                    127256,
                    99182,
                    26784,
                    34485,
                    129783,
                    32784,
                    35601,
                    42725,
                    57259,
                    65101,
                    148928,
                    85559,
                    371379,
                    26725,
                    26642,
                    57318,
                    53054,
                    454203,
                    111478,
                    62754,
                    246644,
                    212651,
                    53818,
                    139114,
                    111483,
                    189400,
                    85109,
                    587775,
                    466134,
                    297918,
                    594181,
                    860823,
                    141457,
                    659763,
                    41995,
                    230624,
                    600004,
                    93090,
                    324720,
                    93560,
                    335152,
                    205609,
                    638202,
                    289415,
                    47720,
                    335533,
                    56625,
                    577336,
                    390334,
                    174125,
                    154011,
                    107290,
                    580708,
                    199696,
                    31476,
                    57430,
                    939644,
                    512249,
                    51325,
                    419420,
                    552493,
                    173999,
                    104691,
                    44618,
                    42897,
                    508771,
                    49721,
                    465113,
                    252586,
                    322031,
                    527512,
                    239473,
                    51943,
                    31590,
                    206918,
                    89836,
                    34529,
                    201000,
                    447368,
                    68076,
                    54670,
                    281842,
                    67176,
                    187567,
                    128812,
                    132947,
                    183182,
                    131436,
                    28223,
                    111512,
                    103031,
                    37183,
                    39897,
                    38737,
                    52397,
                    70826,
                    93741,
                    77401,
                    116557,
                    29003,
                    67804,
                    68689,
                    71122,
                    124339,
                    26542,
                    28421,
                    63560,
                    80316,
                    40313,
                    97222,
                    123341,
                    52573,
                    41625,
                    92306,
                    78796,
                    33549,
                    63550,
                    53667,
                    47175,
                    30580,
                    78991,
                    42117,
                    88794,
                    237392,
                    25344,
                    27187,
                    51240,
                    555092,
                    57168,
                    200876,
                    61594,
                    27175,
                    118035,
                    40416,
                    246963,
                    35539,
                    556608,
                    663649,
                    517059,
                    143250,
                    50778,
                    51841,
                    45002,
                    81125,
                    50523,
                    39710,
                    410983,
                    303032,
                    33618,
                    73690,
                    203177,
                    108399,
                    318789,
                    305611,
                    362942,
                    35713,
                    111252,
                    423010,
                    421244,
                    62848,
                    179264,
                    52758,
                    58468,
                    601408,
                    68715,
                    208994,
                    89896,
                    33931,
                    340584,
                    564791,
                    190748,
                    110656,
                    757377,
                    30827,
                    251370,
                    571571,
                    392449,
                    1118998,
                    216421,
                    291018,
                    439856,
                    463466,
                    589160,
                    49050,
                    45717,
                    258924,
                    51980,
                    31658,
                    283310,
                    234207,
                    35682,
                    520284,
                    96703,
                    42673,
                    50622,
                    26518,
                    129022,
                    60684,
                    198089,
                    253228,
                    89058,
                    524235,
                    227143,
                    159886,
                    82855,
                    613941,
                    1046089,
                    27712,
                    280845,
                    345096,
                    62428,
                    164937,
                    215034,
                    126871,
                    78963,
                    66065,
                    34635,
                    267684,
                    128171,
                    43690,
                    46700,
                    55362,
                    42376,
                    126082,
                    184740,
                    125276,
                    124193,
                    122779,
                    45624,
                    481918,
                    88214,
                    371387,
                    148359,
                    321382,
                    47834,
                    244430,
                    78321,
                    357026,
                    51585,
                    355413,
                    56235,
                    88511,
                    372490,
                    133351,
                    52852,
                    65659,
                    44917,
                    98611,
                    25229,
                    37445,
                    66009,
                    48334,
                    178731,
                    101124,
                    27733,
                    39642,
                    102415,
                    86525,
                    158029,
                    52141,
                    37605,
                    27007,
                    73251,
                    28167,
                    36995,
                    31053,
                    59556,
                    43621,
                    47400,
                    55163,
                    43542,
                    55581,
                    25312,
                    65341,
                    140375,
                    25198,
                    478586,
                    205444,
                    492851,
                    291257,
                    47444,
                    157498,
                    32798,
                    404182,
                    590440,
                    344312,
                    123210,
                    580291,
                    138741,
                    32628,
                    39379,
                    736182,
                    39501,
                    112298,
                    380195,
                    56720,
                    77071,
                    388089,
                    323982,
                    769145,
                    463188,
                    73964,
                    624982,
                    645512,
                    717559,
                    630614,
                    661871,
                    572581,
                    472242,
                    479120,
                    125317,
                    103330,
                    71379,
                    239203,
                    81446,
                    60368,
                    28630,
                    115576,
                    474141,
                    32001,
                    175355,
                    466080,
                    299524,
                    28003,
                    61609,
                    405922,
                    72643,
                    323103,
                    288797,
                    419483,
                    127250,
                    434841,
                    358432,
                    138356,
                    415074,
                    548619,
                    329592,
                    197761,
                    400049,
                    25938,
                    137981,
                    40403,
                    142863,
                    178565,
                    364254,
                    246840,
                    90842,
                    126770,
                    31957,
                    516372,
                    29210,
                    286742,
                    29999,
                    192112,
                    241575,
                    66408,
                    390247,
                    169229,
                    64082,
                    312542,
                    275755,
                    434125,
                    37424,
                    279318,
                    51350,
                    189716,
                    35991,
                    32236,
                    26429,
                    33600,
                    211450,
                    42275,
                    224169,
                    50298,
                    85819,
                    150409,
                    77798,
                    95826,
                    235388,
                    66941,
                    113240,
                    125822,
                    182009,
                    33982,
                    40396,
                    94326,
                    115677,
                    102031,
                    181285,
                    47102,
                    59635,
                    39881,
                    36096,
                    112704,
                    226541,
                    47099,
                    214882,
                    27014,
                    233106,
                    39889,
                    36037,
                    26729,
                    125993,
                    109941,
                    96561,
                    98740,
                    110075,
                    143292,
                    51913,
                    31572,
                    67183,
                    40274,
                    31222,
                    48883,
                    35999,
                    174119,
                    171739,
                    26457,
                    31354,
                    87719,
                    27620,
                    44839,
                    83363,
                    26464,
                    59415,
                    34677,
                    76315,
                    71481,
                    27991,
                    88662,
                    30683,
                    60408,
                    140840,
                    551309,
                    29765,
                    95181,
                    46739,
                    99643,
                    66346,
                    52903,
                    35785,
                    569974,
                    439406,
                    58371,
                    287659,
                    250057,
                    272784,
                    371291,
                    247666,
                    49397,
                    204175,
                    94212,
                    411599,
                    57549,
                    190531,
                    228132,
                    80939,
                    334312,
                    311822,
                    38491,
                    500851,
                    315426,
                    524081,
                    63882,
                    369529,
                    138959,
                    520041,
                    102742,
                    583158,
                    293266,
                    41544,
                    286770,
                    227760,
                    255036,
                    31779,
                    339757,
                    250590,
                    82781,
                    72863,
                    354728,
                    49728,
                    474827,
                    732876,
                    206294,
                    500799,
                    294140,
                    379020,
                    83158,
                    65939,
                    67360,
                    70925,
                    67370,
                    224545,
                    62659,
                    198677,
                    169708,
                    451479,
                    376853,
                    169091,
                    266842,
                    115827,
                    658185,
                    337651,
                    240714,
                    243729,
                    508417,
                    91557,
                    490062,
                    188317,
                    172710,
                    256906,
                    259753,
                    65058,
                    187927,
                    186734,
                    131101,
                    102598,
                    364420,
                    90442,
                    73172,
                    269197,
                    64390,
                    171640,
                    165465,
                    107325,
                    27071,
                    80487,
                    488817,
                    359809,
                    195663,
                    237696,
                    152871,
                    124773,
                    236894,
                    87745,
                    27650,
                    166588,
                    93878,
                    32802,
                    121731,
                    33656,
                    73662,
                    184966,
                    26337,
                    30144,
                    45338,
                    166409,
                    56513,
                    40351,
                    166544,
                    34075,
                    43374,
                    26471,
                    51853
                  ],
                  "y": [
                    9.3,
                    9.2,
                    9,
                    9,
                    9,
                    8.9,
                    8.9,
                    8.9,
                    8.8,
                    8.8,
                    8.8,
                    8.8,
                    8.8,
                    8.7,
                    8.7,
                    8.7,
                    8.7,
                    8.7,
                    8.6,
                    8.6,
                    8.6,
                    8.6,
                    8.6,
                    8.6,
                    8.6,
                    8.6,
                    8.6,
                    8.6,
                    8.6,
                    8.6,
                    8.6,
                    8.6,
                    8.6,
                    8.5,
                    8.5,
                    8.5,
                    8.5,
                    8.5,
                    8.5,
                    8.5,
                    8.5,
                    8.5,
                    8.5,
                    8.5,
                    8.5,
                    8.5,
                    8.5,
                    8.5,
                    8.5,
                    8.5,
                    8.5,
                    8.5,
                    8.5,
                    8.4,
                    8.4,
                    8.4,
                    8.4,
                    8.4,
                    8.4,
                    8.4,
                    8.4,
                    8.4,
                    8.4,
                    8.4,
                    8.4,
                    8.4,
                    8.4,
                    8.4,
                    8.4,
                    8.4,
                    8.4,
                    8.4,
                    8.4,
                    8.4,
                    8.4,
                    8.4,
                    8.4,
                    8.4,
                    8.4,
                    8.4,
                    8.4,
                    8.4,
                    8.4,
                    8.4,
                    8.3,
                    8.3,
                    8.3,
                    8.3,
                    8.3,
                    8.3,
                    8.3,
                    8.3,
                    8.3,
                    8.3,
                    8.3,
                    8.3,
                    8.3,
                    8.3,
                    8.3,
                    8.3,
                    8.3,
                    8.3,
                    8.3,
                    8.3,
                    8.3,
                    8.3,
                    8.3,
                    8.3,
                    8.3,
                    8.3,
                    8.3,
                    8.3,
                    8.3,
                    8.3,
                    8.3,
                    8.3,
                    8.3,
                    8.3,
                    8.3,
                    8.3,
                    8.3,
                    8.3,
                    8.3,
                    8.3,
                    8.3,
                    8.3,
                    8.3,
                    8.3,
                    8.2,
                    8.2,
                    8.2,
                    8.2,
                    8.2,
                    8.2,
                    8.2,
                    8.2,
                    8.2,
                    8.2,
                    8.2,
                    8.2,
                    8.2,
                    8.2,
                    8.2,
                    8.2,
                    8.2,
                    8.2,
                    8.2,
                    8.2,
                    8.2,
                    8.2,
                    8.2,
                    8.2,
                    8.2,
                    8.2,
                    8.2,
                    8.2,
                    8.2,
                    8.2,
                    8.2,
                    8.2,
                    8.2,
                    8.2,
                    8.2,
                    8.2,
                    8.2,
                    8.2,
                    8.2,
                    8.2,
                    8.2,
                    8.2,
                    8.2,
                    8.2,
                    8.2,
                    8.2,
                    8.2,
                    8.2,
                    8.2,
                    8.2,
                    8.2,
                    8.2,
                    8.2,
                    8.2,
                    8.2,
                    8.2,
                    8.2,
                    8.2,
                    8.2,
                    8.2,
                    8.2,
                    8.2,
                    8.2,
                    8.2,
                    8.2,
                    8.2,
                    8.2,
                    8.1,
                    8.1,
                    8.1,
                    8.1,
                    8.1,
                    8.1,
                    8.1,
                    8.1,
                    8.1,
                    8.1,
                    8.1,
                    8.1,
                    8.1,
                    8.1,
                    8.1,
                    8.1,
                    8.1,
                    8.1,
                    8.1,
                    8.1,
                    8.1,
                    8.1,
                    8.1,
                    8.1,
                    8.1,
                    8.1,
                    8.1,
                    8.1,
                    8.1,
                    8.1,
                    8.1,
                    8.1,
                    8.1,
                    8.1,
                    8.1,
                    8.1,
                    8.1,
                    8.1,
                    8.1,
                    8.1,
                    8.1,
                    8.1,
                    8.1,
                    8.1,
                    8.1,
                    8.1,
                    8.1,
                    8.1,
                    8.1,
                    8.1,
                    8.1,
                    8.1,
                    8.1,
                    8.1,
                    8.1,
                    8.1,
                    8.1,
                    8.1,
                    8.1,
                    8.1,
                    8.1,
                    8.1,
                    8.1,
                    8.1,
                    8.1,
                    8.1,
                    8.1,
                    8.1,
                    8.1,
                    8.1,
                    8.1,
                    8.1,
                    8.1,
                    8.1,
                    8.1,
                    8.1,
                    8.1,
                    8.1,
                    8.1,
                    8.1,
                    8.1,
                    8.1,
                    8.1,
                    8.1,
                    8.1,
                    8.1,
                    8.1,
                    8.1,
                    8.1,
                    8.1,
                    8.1,
                    8.1,
                    8.1,
                    8.1,
                    8.1,
                    8.1,
                    8.1,
                    8.1,
                    8.1,
                    8.1,
                    8.1,
                    8.1,
                    8.1,
                    8.1,
                    8.1,
                    8.1,
                    8.1,
                    8.1,
                    8.1,
                    8.1,
                    8.1,
                    8.1,
                    8.1,
                    8.1,
                    8.1,
                    8.1,
                    8.1,
                    8.1,
                    8.1,
                    8.1,
                    8.1,
                    8.1,
                    8.1,
                    8.1,
                    8.1,
                    8.1,
                    8.1,
                    8,
                    8,
                    8,
                    8,
                    8,
                    8,
                    8,
                    8,
                    8,
                    8,
                    8,
                    8,
                    8,
                    8,
                    8,
                    8,
                    8,
                    8,
                    8,
                    8,
                    8,
                    8,
                    8,
                    8,
                    8,
                    8,
                    8,
                    8,
                    8,
                    8,
                    8,
                    8,
                    8,
                    8,
                    8,
                    8,
                    8,
                    8,
                    8,
                    8,
                    8,
                    8,
                    8,
                    8,
                    8,
                    8,
                    8,
                    8,
                    8,
                    8,
                    8,
                    8,
                    8,
                    8,
                    8,
                    8,
                    8,
                    8,
                    8,
                    8,
                    8,
                    8,
                    8,
                    8,
                    8,
                    8,
                    8,
                    8,
                    8,
                    8,
                    8,
                    8,
                    8,
                    8,
                    8,
                    8,
                    8,
                    8,
                    8,
                    8,
                    8,
                    8,
                    8,
                    8,
                    8,
                    8,
                    8,
                    8,
                    8,
                    8,
                    8,
                    8,
                    8,
                    8,
                    8,
                    8,
                    8,
                    8,
                    8,
                    8,
                    8,
                    8,
                    8,
                    8,
                    8,
                    8,
                    8,
                    8,
                    8,
                    8,
                    8,
                    8,
                    8,
                    8,
                    8,
                    8,
                    8,
                    8,
                    8,
                    8,
                    8,
                    8,
                    8,
                    8,
                    8,
                    8,
                    8,
                    8,
                    8,
                    8,
                    8,
                    8,
                    8,
                    8,
                    8,
                    8,
                    8,
                    8,
                    8,
                    8,
                    8,
                    7.9,
                    7.9,
                    7.9,
                    7.9,
                    7.9,
                    7.9,
                    7.9,
                    7.9,
                    7.9,
                    7.9,
                    7.9,
                    7.9,
                    7.9,
                    7.9,
                    7.9,
                    7.9,
                    7.9,
                    7.9,
                    7.9,
                    7.9,
                    7.9,
                    7.9,
                    7.9,
                    7.9,
                    7.9,
                    7.9,
                    7.9,
                    7.9,
                    7.9,
                    7.9,
                    7.9,
                    7.9,
                    7.9,
                    7.9,
                    7.9,
                    7.9,
                    7.9,
                    7.9,
                    7.9,
                    7.9,
                    7.9,
                    7.9,
                    7.9,
                    7.9,
                    7.9,
                    7.9,
                    7.9,
                    7.9,
                    7.9,
                    7.9,
                    7.9,
                    7.9,
                    7.9,
                    7.9,
                    7.9,
                    7.9,
                    7.9,
                    7.9,
                    7.9,
                    7.9,
                    7.9,
                    7.9,
                    7.9,
                    7.9,
                    7.9,
                    7.9,
                    7.9,
                    7.9,
                    7.9,
                    7.9,
                    7.9,
                    7.9,
                    7.9,
                    7.9,
                    7.9,
                    7.9,
                    7.9,
                    7.9,
                    7.9,
                    7.9,
                    7.9,
                    7.9,
                    7.9,
                    7.9,
                    7.9,
                    7.9,
                    7.9,
                    7.9,
                    7.9,
                    7.9,
                    7.9,
                    7.9,
                    7.9,
                    7.9,
                    7.9,
                    7.9,
                    7.9,
                    7.9,
                    7.9,
                    7.9,
                    7.9,
                    7.9,
                    7.9,
                    7.9,
                    7.9,
                    7.9,
                    7.8,
                    7.8,
                    7.8,
                    7.8,
                    7.8,
                    7.8,
                    7.8,
                    7.8,
                    7.8,
                    7.8,
                    7.8,
                    7.8,
                    7.8,
                    7.8,
                    7.8,
                    7.8,
                    7.8,
                    7.8,
                    7.8,
                    7.8,
                    7.8,
                    7.8,
                    7.8,
                    7.8,
                    7.8,
                    7.8,
                    7.8,
                    7.8,
                    7.8,
                    7.8,
                    7.8,
                    7.8,
                    7.8,
                    7.8,
                    7.8,
                    7.8,
                    7.8,
                    7.8,
                    7.8,
                    7.8,
                    7.8,
                    7.8,
                    7.8,
                    7.8,
                    7.8,
                    7.8,
                    7.8,
                    7.8,
                    7.8,
                    7.8,
                    7.8,
                    7.8,
                    7.8,
                    7.8,
                    7.8,
                    7.8,
                    7.8,
                    7.8,
                    7.8,
                    7.8,
                    7.8,
                    7.8,
                    7.8,
                    7.8,
                    7.8,
                    7.8,
                    7.8,
                    7.8,
                    7.8,
                    7.8,
                    7.8,
                    7.8,
                    7.8,
                    7.8,
                    7.8,
                    7.8,
                    7.8,
                    7.8,
                    7.8,
                    7.8,
                    7.8,
                    7.8,
                    7.8,
                    7.8,
                    7.8,
                    7.8,
                    7.8,
                    7.8,
                    7.8,
                    7.8,
                    7.8,
                    7.8,
                    7.8,
                    7.8,
                    7.8,
                    7.8,
                    7.8,
                    7.8,
                    7.8,
                    7.8,
                    7.8,
                    7.8,
                    7.8,
                    7.8,
                    7.8,
                    7.8,
                    7.8,
                    7.8,
                    7.8,
                    7.8,
                    7.8,
                    7.8,
                    7.8,
                    7.8,
                    7.8,
                    7.8,
                    7.8,
                    7.8,
                    7.8,
                    7.8,
                    7.8,
                    7.8,
                    7.8,
                    7.8,
                    7.8,
                    7.8,
                    7.8,
                    7.8,
                    7.8,
                    7.8,
                    7.8,
                    7.8,
                    7.8,
                    7.8,
                    7.8,
                    7.8,
                    7.8,
                    7.8,
                    7.8,
                    7.8,
                    7.8,
                    7.8,
                    7.8,
                    7.8,
                    7.8,
                    7.8,
                    7.8,
                    7.8,
                    7.8,
                    7.8,
                    7.8,
                    7.7,
                    7.7,
                    7.7,
                    7.7,
                    7.7,
                    7.7,
                    7.7,
                    7.7,
                    7.7,
                    7.7,
                    7.7,
                    7.7,
                    7.7,
                    7.7,
                    7.7,
                    7.7,
                    7.7,
                    7.7,
                    7.7,
                    7.7,
                    7.7,
                    7.7,
                    7.7,
                    7.7,
                    7.7,
                    7.7,
                    7.7,
                    7.7,
                    7.7,
                    7.7,
                    7.7,
                    7.7,
                    7.7,
                    7.7,
                    7.7,
                    7.7,
                    7.7,
                    7.7,
                    7.7,
                    7.7,
                    7.7,
                    7.7,
                    7.7,
                    7.7,
                    7.7,
                    7.7,
                    7.7,
                    7.7,
                    7.7,
                    7.7,
                    7.7,
                    7.7,
                    7.7,
                    7.7,
                    7.7,
                    7.7,
                    7.7,
                    7.7,
                    7.7,
                    7.7,
                    7.7,
                    7.7,
                    7.7,
                    7.7,
                    7.7,
                    7.7,
                    7.7,
                    7.7,
                    7.7,
                    7.7,
                    7.7,
                    7.7,
                    7.7,
                    7.7,
                    7.7,
                    7.7,
                    7.7,
                    7.7,
                    7.7,
                    7.7,
                    7.7,
                    7.7,
                    7.7,
                    7.7,
                    7.7,
                    7.7,
                    7.7,
                    7.7,
                    7.7,
                    7.7,
                    7.7,
                    7.7,
                    7.7,
                    7.7,
                    7.7,
                    7.7,
                    7.7,
                    7.7,
                    7.7,
                    7.7,
                    7.7,
                    7.7,
                    7.7,
                    7.7,
                    7.7,
                    7.7,
                    7.7,
                    7.7,
                    7.7,
                    7.7,
                    7.7,
                    7.7,
                    7.7,
                    7.7,
                    7.7,
                    7.7,
                    7.7,
                    7.7,
                    7.7,
                    7.7,
                    7.7,
                    7.7,
                    7.7,
                    7.7,
                    7.7,
                    7.7,
                    7.7,
                    7.7,
                    7.7,
                    7.7,
                    7.7,
                    7.7,
                    7.7,
                    7.7,
                    7.7,
                    7.7,
                    7.7,
                    7.7,
                    7.7,
                    7.7,
                    7.7,
                    7.7,
                    7.7,
                    7.7,
                    7.7,
                    7.7,
                    7.7,
                    7.7,
                    7.7,
                    7.7,
                    7.7,
                    7.7,
                    7.7,
                    7.7,
                    7.7,
                    7.7,
                    7.7,
                    7.6,
                    7.6,
                    7.6,
                    7.6,
                    7.6,
                    7.6,
                    7.6,
                    7.6,
                    7.6,
                    7.6,
                    7.6,
                    7.6,
                    7.6,
                    7.6,
                    7.6,
                    7.6,
                    7.6,
                    7.6,
                    7.6,
                    7.6,
                    7.6,
                    7.6,
                    7.6,
                    7.6,
                    7.6,
                    7.6,
                    7.6,
                    7.6,
                    7.6,
                    7.6,
                    7.6,
                    7.6,
                    7.6,
                    7.6,
                    7.6,
                    7.6,
                    7.6,
                    7.6,
                    7.6,
                    7.6,
                    7.6,
                    7.6,
                    7.6,
                    7.6,
                    7.6,
                    7.6,
                    7.6,
                    7.6,
                    7.6,
                    7.6,
                    7.6,
                    7.6,
                    7.6,
                    7.6,
                    7.6,
                    7.6,
                    7.6,
                    7.6,
                    7.6,
                    7.6,
                    7.6,
                    7.6,
                    7.6,
                    7.6,
                    7.6,
                    7.6,
                    7.6,
                    7.6,
                    7.6,
                    7.6,
                    7.6,
                    7.6,
                    7.6,
                    7.6,
                    7.6,
                    7.6,
                    7.6,
                    7.6,
                    7.6,
                    7.6,
                    7.6,
                    7.6,
                    7.6,
                    7.6,
                    7.6,
                    7.6,
                    7.6,
                    7.6,
                    7.6,
                    7.6,
                    7.6,
                    7.6,
                    7.6,
                    7.6,
                    7.6,
                    7.6,
                    7.6,
                    7.6,
                    7.6,
                    7.6,
                    7.6,
                    7.6,
                    7.6,
                    7.6,
                    7.6,
                    7.6,
                    7.6,
                    7.6,
                    7.6,
                    7.6,
                    7.6,
                    7.6,
                    7.6,
                    7.6,
                    7.6,
                    7.6,
                    7.6,
                    7.6,
                    7.6,
                    7.6,
                    7.6,
                    7.6,
                    7.6
                  ]
                }
              ],
              "layout": {
                "template": {
                  "data": {
                    "bar": [
                      {
                        "error_x": {
                          "color": "#2a3f5f"
                        },
                        "error_y": {
                          "color": "#2a3f5f"
                        },
                        "marker": {
                          "line": {
                            "color": "#E5ECF6",
                            "width": 0.5
                          },
                          "pattern": {
                            "fillmode": "overlay",
                            "size": 10,
                            "solidity": 0.2
                          }
                        },
                        "type": "bar"
                      }
                    ],
                    "barpolar": [
                      {
                        "marker": {
                          "line": {
                            "color": "#E5ECF6",
                            "width": 0.5
                          },
                          "pattern": {
                            "fillmode": "overlay",
                            "size": 10,
                            "solidity": 0.2
                          }
                        },
                        "type": "barpolar"
                      }
                    ],
                    "carpet": [
                      {
                        "aaxis": {
                          "endlinecolor": "#2a3f5f",
                          "gridcolor": "white",
                          "linecolor": "white",
                          "minorgridcolor": "white",
                          "startlinecolor": "#2a3f5f"
                        },
                        "baxis": {
                          "endlinecolor": "#2a3f5f",
                          "gridcolor": "white",
                          "linecolor": "white",
                          "minorgridcolor": "white",
                          "startlinecolor": "#2a3f5f"
                        },
                        "type": "carpet"
                      }
                    ],
                    "choropleth": [
                      {
                        "colorbar": {
                          "outlinewidth": 0,
                          "ticks": ""
                        },
                        "type": "choropleth"
                      }
                    ],
                    "contour": [
                      {
                        "colorbar": {
                          "outlinewidth": 0,
                          "ticks": ""
                        },
                        "colorscale": [
                          [
                            0,
                            "#0d0887"
                          ],
                          [
                            0.1111111111111111,
                            "#46039f"
                          ],
                          [
                            0.2222222222222222,
                            "#7201a8"
                          ],
                          [
                            0.3333333333333333,
                            "#9c179e"
                          ],
                          [
                            0.4444444444444444,
                            "#bd3786"
                          ],
                          [
                            0.5555555555555556,
                            "#d8576b"
                          ],
                          [
                            0.6666666666666666,
                            "#ed7953"
                          ],
                          [
                            0.7777777777777778,
                            "#fb9f3a"
                          ],
                          [
                            0.8888888888888888,
                            "#fdca26"
                          ],
                          [
                            1,
                            "#f0f921"
                          ]
                        ],
                        "type": "contour"
                      }
                    ],
                    "contourcarpet": [
                      {
                        "colorbar": {
                          "outlinewidth": 0,
                          "ticks": ""
                        },
                        "type": "contourcarpet"
                      }
                    ],
                    "heatmap": [
                      {
                        "colorbar": {
                          "outlinewidth": 0,
                          "ticks": ""
                        },
                        "colorscale": [
                          [
                            0,
                            "#0d0887"
                          ],
                          [
                            0.1111111111111111,
                            "#46039f"
                          ],
                          [
                            0.2222222222222222,
                            "#7201a8"
                          ],
                          [
                            0.3333333333333333,
                            "#9c179e"
                          ],
                          [
                            0.4444444444444444,
                            "#bd3786"
                          ],
                          [
                            0.5555555555555556,
                            "#d8576b"
                          ],
                          [
                            0.6666666666666666,
                            "#ed7953"
                          ],
                          [
                            0.7777777777777778,
                            "#fb9f3a"
                          ],
                          [
                            0.8888888888888888,
                            "#fdca26"
                          ],
                          [
                            1,
                            "#f0f921"
                          ]
                        ],
                        "type": "heatmap"
                      }
                    ],
                    "heatmapgl": [
                      {
                        "colorbar": {
                          "outlinewidth": 0,
                          "ticks": ""
                        },
                        "colorscale": [
                          [
                            0,
                            "#0d0887"
                          ],
                          [
                            0.1111111111111111,
                            "#46039f"
                          ],
                          [
                            0.2222222222222222,
                            "#7201a8"
                          ],
                          [
                            0.3333333333333333,
                            "#9c179e"
                          ],
                          [
                            0.4444444444444444,
                            "#bd3786"
                          ],
                          [
                            0.5555555555555556,
                            "#d8576b"
                          ],
                          [
                            0.6666666666666666,
                            "#ed7953"
                          ],
                          [
                            0.7777777777777778,
                            "#fb9f3a"
                          ],
                          [
                            0.8888888888888888,
                            "#fdca26"
                          ],
                          [
                            1,
                            "#f0f921"
                          ]
                        ],
                        "type": "heatmapgl"
                      }
                    ],
                    "histogram": [
                      {
                        "marker": {
                          "pattern": {
                            "fillmode": "overlay",
                            "size": 10,
                            "solidity": 0.2
                          }
                        },
                        "type": "histogram"
                      }
                    ],
                    "histogram2d": [
                      {
                        "colorbar": {
                          "outlinewidth": 0,
                          "ticks": ""
                        },
                        "colorscale": [
                          [
                            0,
                            "#0d0887"
                          ],
                          [
                            0.1111111111111111,
                            "#46039f"
                          ],
                          [
                            0.2222222222222222,
                            "#7201a8"
                          ],
                          [
                            0.3333333333333333,
                            "#9c179e"
                          ],
                          [
                            0.4444444444444444,
                            "#bd3786"
                          ],
                          [
                            0.5555555555555556,
                            "#d8576b"
                          ],
                          [
                            0.6666666666666666,
                            "#ed7953"
                          ],
                          [
                            0.7777777777777778,
                            "#fb9f3a"
                          ],
                          [
                            0.8888888888888888,
                            "#fdca26"
                          ],
                          [
                            1,
                            "#f0f921"
                          ]
                        ],
                        "type": "histogram2d"
                      }
                    ],
                    "histogram2dcontour": [
                      {
                        "colorbar": {
                          "outlinewidth": 0,
                          "ticks": ""
                        },
                        "colorscale": [
                          [
                            0,
                            "#0d0887"
                          ],
                          [
                            0.1111111111111111,
                            "#46039f"
                          ],
                          [
                            0.2222222222222222,
                            "#7201a8"
                          ],
                          [
                            0.3333333333333333,
                            "#9c179e"
                          ],
                          [
                            0.4444444444444444,
                            "#bd3786"
                          ],
                          [
                            0.5555555555555556,
                            "#d8576b"
                          ],
                          [
                            0.6666666666666666,
                            "#ed7953"
                          ],
                          [
                            0.7777777777777778,
                            "#fb9f3a"
                          ],
                          [
                            0.8888888888888888,
                            "#fdca26"
                          ],
                          [
                            1,
                            "#f0f921"
                          ]
                        ],
                        "type": "histogram2dcontour"
                      }
                    ],
                    "mesh3d": [
                      {
                        "colorbar": {
                          "outlinewidth": 0,
                          "ticks": ""
                        },
                        "type": "mesh3d"
                      }
                    ],
                    "parcoords": [
                      {
                        "line": {
                          "colorbar": {
                            "outlinewidth": 0,
                            "ticks": ""
                          }
                        },
                        "type": "parcoords"
                      }
                    ],
                    "pie": [
                      {
                        "automargin": true,
                        "type": "pie"
                      }
                    ],
                    "scatter": [
                      {
                        "fillpattern": {
                          "fillmode": "overlay",
                          "size": 10,
                          "solidity": 0.2
                        },
                        "type": "scatter"
                      }
                    ],
                    "scatter3d": [
                      {
                        "line": {
                          "colorbar": {
                            "outlinewidth": 0,
                            "ticks": ""
                          }
                        },
                        "marker": {
                          "colorbar": {
                            "outlinewidth": 0,
                            "ticks": ""
                          }
                        },
                        "type": "scatter3d"
                      }
                    ],
                    "scattercarpet": [
                      {
                        "marker": {
                          "colorbar": {
                            "outlinewidth": 0,
                            "ticks": ""
                          }
                        },
                        "type": "scattercarpet"
                      }
                    ],
                    "scattergeo": [
                      {
                        "marker": {
                          "colorbar": {
                            "outlinewidth": 0,
                            "ticks": ""
                          }
                        },
                        "type": "scattergeo"
                      }
                    ],
                    "scattergl": [
                      {
                        "marker": {
                          "colorbar": {
                            "outlinewidth": 0,
                            "ticks": ""
                          }
                        },
                        "type": "scattergl"
                      }
                    ],
                    "scattermapbox": [
                      {
                        "marker": {
                          "colorbar": {
                            "outlinewidth": 0,
                            "ticks": ""
                          }
                        },
                        "type": "scattermapbox"
                      }
                    ],
                    "scatterpolar": [
                      {
                        "marker": {
                          "colorbar": {
                            "outlinewidth": 0,
                            "ticks": ""
                          }
                        },
                        "type": "scatterpolar"
                      }
                    ],
                    "scatterpolargl": [
                      {
                        "marker": {
                          "colorbar": {
                            "outlinewidth": 0,
                            "ticks": ""
                          }
                        },
                        "type": "scatterpolargl"
                      }
                    ],
                    "scatterternary": [
                      {
                        "marker": {
                          "colorbar": {
                            "outlinewidth": 0,
                            "ticks": ""
                          }
                        },
                        "type": "scatterternary"
                      }
                    ],
                    "surface": [
                      {
                        "colorbar": {
                          "outlinewidth": 0,
                          "ticks": ""
                        },
                        "colorscale": [
                          [
                            0,
                            "#0d0887"
                          ],
                          [
                            0.1111111111111111,
                            "#46039f"
                          ],
                          [
                            0.2222222222222222,
                            "#7201a8"
                          ],
                          [
                            0.3333333333333333,
                            "#9c179e"
                          ],
                          [
                            0.4444444444444444,
                            "#bd3786"
                          ],
                          [
                            0.5555555555555556,
                            "#d8576b"
                          ],
                          [
                            0.6666666666666666,
                            "#ed7953"
                          ],
                          [
                            0.7777777777777778,
                            "#fb9f3a"
                          ],
                          [
                            0.8888888888888888,
                            "#fdca26"
                          ],
                          [
                            1,
                            "#f0f921"
                          ]
                        ],
                        "type": "surface"
                      }
                    ],
                    "table": [
                      {
                        "cells": {
                          "fill": {
                            "color": "#EBF0F8"
                          },
                          "line": {
                            "color": "white"
                          }
                        },
                        "header": {
                          "fill": {
                            "color": "#C8D4E3"
                          },
                          "line": {
                            "color": "white"
                          }
                        },
                        "type": "table"
                      }
                    ]
                  },
                  "layout": {
                    "annotationdefaults": {
                      "arrowcolor": "#2a3f5f",
                      "arrowhead": 0,
                      "arrowwidth": 1
                    },
                    "autotypenumbers": "strict",
                    "coloraxis": {
                      "colorbar": {
                        "outlinewidth": 0,
                        "ticks": ""
                      }
                    },
                    "colorscale": {
                      "diverging": [
                        [
                          0,
                          "#8e0152"
                        ],
                        [
                          0.1,
                          "#c51b7d"
                        ],
                        [
                          0.2,
                          "#de77ae"
                        ],
                        [
                          0.3,
                          "#f1b6da"
                        ],
                        [
                          0.4,
                          "#fde0ef"
                        ],
                        [
                          0.5,
                          "#f7f7f7"
                        ],
                        [
                          0.6,
                          "#e6f5d0"
                        ],
                        [
                          0.7,
                          "#b8e186"
                        ],
                        [
                          0.8,
                          "#7fbc41"
                        ],
                        [
                          0.9,
                          "#4d9221"
                        ],
                        [
                          1,
                          "#276419"
                        ]
                      ],
                      "sequential": [
                        [
                          0,
                          "#0d0887"
                        ],
                        [
                          0.1111111111111111,
                          "#46039f"
                        ],
                        [
                          0.2222222222222222,
                          "#7201a8"
                        ],
                        [
                          0.3333333333333333,
                          "#9c179e"
                        ],
                        [
                          0.4444444444444444,
                          "#bd3786"
                        ],
                        [
                          0.5555555555555556,
                          "#d8576b"
                        ],
                        [
                          0.6666666666666666,
                          "#ed7953"
                        ],
                        [
                          0.7777777777777778,
                          "#fb9f3a"
                        ],
                        [
                          0.8888888888888888,
                          "#fdca26"
                        ],
                        [
                          1,
                          "#f0f921"
                        ]
                      ],
                      "sequentialminus": [
                        [
                          0,
                          "#0d0887"
                        ],
                        [
                          0.1111111111111111,
                          "#46039f"
                        ],
                        [
                          0.2222222222222222,
                          "#7201a8"
                        ],
                        [
                          0.3333333333333333,
                          "#9c179e"
                        ],
                        [
                          0.4444444444444444,
                          "#bd3786"
                        ],
                        [
                          0.5555555555555556,
                          "#d8576b"
                        ],
                        [
                          0.6666666666666666,
                          "#ed7953"
                        ],
                        [
                          0.7777777777777778,
                          "#fb9f3a"
                        ],
                        [
                          0.8888888888888888,
                          "#fdca26"
                        ],
                        [
                          1,
                          "#f0f921"
                        ]
                      ]
                    },
                    "colorway": [
                      "#636efa",
                      "#EF553B",
                      "#00cc96",
                      "#ab63fa",
                      "#FFA15A",
                      "#19d3f3",
                      "#FF6692",
                      "#B6E880",
                      "#FF97FF",
                      "#FECB52"
                    ],
                    "font": {
                      "color": "#2a3f5f"
                    },
                    "geo": {
                      "bgcolor": "white",
                      "lakecolor": "white",
                      "landcolor": "#E5ECF6",
                      "showlakes": true,
                      "showland": true,
                      "subunitcolor": "white"
                    },
                    "hoverlabel": {
                      "align": "left"
                    },
                    "hovermode": "closest",
                    "mapbox": {
                      "style": "light"
                    },
                    "paper_bgcolor": "white",
                    "plot_bgcolor": "#E5ECF6",
                    "polar": {
                      "angularaxis": {
                        "gridcolor": "white",
                        "linecolor": "white",
                        "ticks": ""
                      },
                      "bgcolor": "#E5ECF6",
                      "radialaxis": {
                        "gridcolor": "white",
                        "linecolor": "white",
                        "ticks": ""
                      }
                    },
                    "scene": {
                      "xaxis": {
                        "backgroundcolor": "#E5ECF6",
                        "gridcolor": "white",
                        "gridwidth": 2,
                        "linecolor": "white",
                        "showbackground": true,
                        "ticks": "",
                        "zerolinecolor": "white"
                      },
                      "yaxis": {
                        "backgroundcolor": "#E5ECF6",
                        "gridcolor": "white",
                        "gridwidth": 2,
                        "linecolor": "white",
                        "showbackground": true,
                        "ticks": "",
                        "zerolinecolor": "white"
                      },
                      "zaxis": {
                        "backgroundcolor": "#E5ECF6",
                        "gridcolor": "white",
                        "gridwidth": 2,
                        "linecolor": "white",
                        "showbackground": true,
                        "ticks": "",
                        "zerolinecolor": "white"
                      }
                    },
                    "shapedefaults": {
                      "line": {
                        "color": "#2a3f5f"
                      }
                    },
                    "ternary": {
                      "aaxis": {
                        "gridcolor": "white",
                        "linecolor": "white",
                        "ticks": ""
                      },
                      "baxis": {
                        "gridcolor": "white",
                        "linecolor": "white",
                        "ticks": ""
                      },
                      "bgcolor": "#E5ECF6",
                      "caxis": {
                        "gridcolor": "white",
                        "linecolor": "white",
                        "ticks": ""
                      }
                    },
                    "title": {
                      "x": 0.05
                    },
                    "xaxis": {
                      "automargin": true,
                      "gridcolor": "white",
                      "linecolor": "white",
                      "ticks": "",
                      "title": {
                        "standoff": 15
                      },
                      "zerolinecolor": "white",
                      "zerolinewidth": 2
                    },
                    "yaxis": {
                      "automargin": true,
                      "gridcolor": "white",
                      "linecolor": "white",
                      "ticks": "",
                      "title": {
                        "standoff": 15
                      },
                      "zerolinecolor": "white",
                      "zerolinewidth": 2
                    }
                  }
                },
                "title": {
                  "text": "Trend of IMDb Ratings Over the Years"
                },
                "xaxis": {
                  "title": {
                    "text": "No. of Votes"
                  }
                },
                "yaxis": {
                  "title": {
                    "text": "IMDB Rating"
                  }
                }
              }
            },
            "text/html": [
              "<div>                            <div id=\"8e55cdf8-fa77-4a0d-86a1-17995ef93ae2\" class=\"plotly-graph-div\" style=\"height:525px; width:100%;\"></div>            <script type=\"text/javascript\">                require([\"plotly\"], function(Plotly) {                    window.PLOTLYENV=window.PLOTLYENV || {};                                    if (document.getElementById(\"8e55cdf8-fa77-4a0d-86a1-17995ef93ae2\")) {                    Plotly.newPlot(                        \"8e55cdf8-fa77-4a0d-86a1-17995ef93ae2\",                        [{\"name\":\"IMDB Rating\",\"x\":[2343110,1620367,2303232,1129952,689845,1642758,1826188,1213505,2067042,1854740,1661481,1809221,688390,1485555,1676426,1020727,1159315,918088,55291,552778,54995,1512360,699256,651376,1235804,1147794,623629,1445096,1270197,1231473,42004,315744,405801,939252,717585,760360,1190259,1189773,729603,1341460,1034705,991208,1035236,942045,995506,230763,235231,1058081,302844,604211,522093,217881,167839,62635,34112,28401,194838,156479,375110,809955,834477,384171,1357682,1516346,344445,168895,999790,358685,515451,1125712,343171,311365,884112,898237,606398,787806,30273,34357,450474,108862,178092,444074,201632,203150,425844,27793,71875,30722,281623,220002,150023,33935,78925,1267869,911664,703810,782001,766870,1069738,861606,65341,887429,959181,918562,675146,59056,652719,369007,740911,950470,231855,724636,241513,757904,603517,232772,268085,164363,299198,364368,218957,68463,146427,143525,403351,143434,159992,113314,33893,43444,36680,377884,432610,31142,75348,104761,70367,60701,40382,61137,82365,42341,33237,193217,435950,1129894,935507,1187498,74129,517359,618623,757032,1032749,111937,33354,1308302,83005,331308,333915,848920,57057,535216,531967,64118,577113,466276,49300,375935,692366,26402,291180,793164,112505,321860,116945,26875,43885,51284,500875,224730,293811,111244,69458,243943,96381,164939,28810,158335,53153,152572,120539,114304,29915,101053,41985,63134,39216,47708,141516,113649,50700,50445,647884,371538,177059,159171,46547,163061,51739,707630,859695,38803,435928,616228,75721,640533,432811,291289,420316,51679,57806,67927,601149,882316,73891,720450,764493,48582,253575,164462,666773,572921,856916,43137,635975,334320,37820,236311,73992,139558,66803,1000639,949565,832846,223741,815505,38847,105036,911573,59020,939631,50862,732620,124383,634716,617444,55220,150345,63516,272291,90729,63122,867615,156842,25088,29662,425457,363401,381222,91188,150924,371271,76081,31595,57784,693827,220078,367250,311361,518546,144911,149843,40081,294230,42285,30206,81021,45434,161984,103191,46947,53089,29682,50058,33044,68827,31728,26697,27254,105291,219466,34797,42940,46678,203463,142107,54588,31568,29807,158731,30935,28450,123942,107017,290074,33829,94016,47676,30205,46865,81156,57428,27978,37556,52897,72245,52848,505918,213970,760094,434143,102972,38746,141923,31886,51069,81770,114316,685201,1043455,461823,540772,450349,705589,462252,79200,639603,428521,902669,45803,28749,211427,98575,31838,798882,699673,98097,1260806,88656,441614,448930,499439,604694,50610,738512,103284,56960,641645,582239,683900,42399,77520,77554,176151,63460,117857,1015122,415218,657047,45403,137963,33592,740086,289742,102285,82002,58192,78341,36419,172083,27721,86838,37564,578443,129231,300208,577991,28825,263918,373845,142110,417178,240266,89429,473064,164918,393899,64722,31163,150140,799795,217664,32195,65625,251823,543388,235652,143359,121627,362393,44748,42456,39491,27067,201888,193674,165167,253676,68926,205425,69903,198219,108844,28057,75067,66621,56305,59847,98431,45062,28137,81702,81980,58314,61503,51046,127256,99182,26784,34485,129783,32784,35601,42725,57259,65101,148928,85559,371379,26725,26642,57318,53054,454203,111478,62754,246644,212651,53818,139114,111483,189400,85109,587775,466134,297918,594181,860823,141457,659763,41995,230624,600004,93090,324720,93560,335152,205609,638202,289415,47720,335533,56625,577336,390334,174125,154011,107290,580708,199696,31476,57430,939644,512249,51325,419420,552493,173999,104691,44618,42897,508771,49721,465113,252586,322031,527512,239473,51943,31590,206918,89836,34529,201000,447368,68076,54670,281842,67176,187567,128812,132947,183182,131436,28223,111512,103031,37183,39897,38737,52397,70826,93741,77401,116557,29003,67804,68689,71122,124339,26542,28421,63560,80316,40313,97222,123341,52573,41625,92306,78796,33549,63550,53667,47175,30580,78991,42117,88794,237392,25344,27187,51240,555092,57168,200876,61594,27175,118035,40416,246963,35539,556608,663649,517059,143250,50778,51841,45002,81125,50523,39710,410983,303032,33618,73690,203177,108399,318789,305611,362942,35713,111252,423010,421244,62848,179264,52758,58468,601408,68715,208994,89896,33931,340584,564791,190748,110656,757377,30827,251370,571571,392449,1118998,216421,291018,439856,463466,589160,49050,45717,258924,51980,31658,283310,234207,35682,520284,96703,42673,50622,26518,129022,60684,198089,253228,89058,524235,227143,159886,82855,613941,1046089,27712,280845,345096,62428,164937,215034,126871,78963,66065,34635,267684,128171,43690,46700,55362,42376,126082,184740,125276,124193,122779,45624,481918,88214,371387,148359,321382,47834,244430,78321,357026,51585,355413,56235,88511,372490,133351,52852,65659,44917,98611,25229,37445,66009,48334,178731,101124,27733,39642,102415,86525,158029,52141,37605,27007,73251,28167,36995,31053,59556,43621,47400,55163,43542,55581,25312,65341,140375,25198,478586,205444,492851,291257,47444,157498,32798,404182,590440,344312,123210,580291,138741,32628,39379,736182,39501,112298,380195,56720,77071,388089,323982,769145,463188,73964,624982,645512,717559,630614,661871,572581,472242,479120,125317,103330,71379,239203,81446,60368,28630,115576,474141,32001,175355,466080,299524,28003,61609,405922,72643,323103,288797,419483,127250,434841,358432,138356,415074,548619,329592,197761,400049,25938,137981,40403,142863,178565,364254,246840,90842,126770,31957,516372,29210,286742,29999,192112,241575,66408,390247,169229,64082,312542,275755,434125,37424,279318,51350,189716,35991,32236,26429,33600,211450,42275,224169,50298,85819,150409,77798,95826,235388,66941,113240,125822,182009,33982,40396,94326,115677,102031,181285,47102,59635,39881,36096,112704,226541,47099,214882,27014,233106,39889,36037,26729,125993,109941,96561,98740,110075,143292,51913,31572,67183,40274,31222,48883,35999,174119,171739,26457,31354,87719,27620,44839,83363,26464,59415,34677,76315,71481,27991,88662,30683,60408,140840,551309,29765,95181,46739,99643,66346,52903,35785,569974,439406,58371,287659,250057,272784,371291,247666,49397,204175,94212,411599,57549,190531,228132,80939,334312,311822,38491,500851,315426,524081,63882,369529,138959,520041,102742,583158,293266,41544,286770,227760,255036,31779,339757,250590,82781,72863,354728,49728,474827,732876,206294,500799,294140,379020,83158,65939,67360,70925,67370,224545,62659,198677,169708,451479,376853,169091,266842,115827,658185,337651,240714,243729,508417,91557,490062,188317,172710,256906,259753,65058,187927,186734,131101,102598,364420,90442,73172,269197,64390,171640,165465,107325,27071,80487,488817,359809,195663,237696,152871,124773,236894,87745,27650,166588,93878,32802,121731,33656,73662,184966,26337,30144,45338,166409,56513,40351,166544,34075,43374,26471,51853],\"y\":[9.3,9.2,9.0,9.0,9.0,8.9,8.9,8.9,8.8,8.8,8.8,8.8,8.8,8.7,8.7,8.7,8.7,8.7,8.6,8.6,8.6,8.6,8.6,8.6,8.6,8.6,8.6,8.6,8.6,8.6,8.6,8.6,8.6,8.5,8.5,8.5,8.5,8.5,8.5,8.5,8.5,8.5,8.5,8.5,8.5,8.5,8.5,8.5,8.5,8.5,8.5,8.5,8.5,8.4,8.4,8.4,8.4,8.4,8.4,8.4,8.4,8.4,8.4,8.4,8.4,8.4,8.4,8.4,8.4,8.4,8.4,8.4,8.4,8.4,8.4,8.4,8.4,8.4,8.4,8.4,8.4,8.4,8.4,8.4,8.3,8.3,8.3,8.3,8.3,8.3,8.3,8.3,8.3,8.3,8.3,8.3,8.3,8.3,8.3,8.3,8.3,8.3,8.3,8.3,8.3,8.3,8.3,8.3,8.3,8.3,8.3,8.3,8.3,8.3,8.3,8.3,8.3,8.3,8.3,8.3,8.3,8.3,8.3,8.3,8.3,8.3,8.3,8.3,8.2,8.2,8.2,8.2,8.2,8.2,8.2,8.2,8.2,8.2,8.2,8.2,8.2,8.2,8.2,8.2,8.2,8.2,8.2,8.2,8.2,8.2,8.2,8.2,8.2,8.2,8.2,8.2,8.2,8.2,8.2,8.2,8.2,8.2,8.2,8.2,8.2,8.2,8.2,8.2,8.2,8.2,8.2,8.2,8.2,8.2,8.2,8.2,8.2,8.2,8.2,8.2,8.2,8.2,8.2,8.2,8.2,8.2,8.2,8.2,8.2,8.2,8.2,8.2,8.2,8.2,8.2,8.1,8.1,8.1,8.1,8.1,8.1,8.1,8.1,8.1,8.1,8.1,8.1,8.1,8.1,8.1,8.1,8.1,8.1,8.1,8.1,8.1,8.1,8.1,8.1,8.1,8.1,8.1,8.1,8.1,8.1,8.1,8.1,8.1,8.1,8.1,8.1,8.1,8.1,8.1,8.1,8.1,8.1,8.1,8.1,8.1,8.1,8.1,8.1,8.1,8.1,8.1,8.1,8.1,8.1,8.1,8.1,8.1,8.1,8.1,8.1,8.1,8.1,8.1,8.1,8.1,8.1,8.1,8.1,8.1,8.1,8.1,8.1,8.1,8.1,8.1,8.1,8.1,8.1,8.1,8.1,8.1,8.1,8.1,8.1,8.1,8.1,8.1,8.1,8.1,8.1,8.1,8.1,8.1,8.1,8.1,8.1,8.1,8.1,8.1,8.1,8.1,8.1,8.1,8.1,8.1,8.1,8.1,8.1,8.1,8.1,8.1,8.1,8.1,8.1,8.1,8.1,8.1,8.1,8.1,8.1,8.1,8.1,8.1,8.1,8.1,8.1,8.1,8.0,8.0,8.0,8.0,8.0,8.0,8.0,8.0,8.0,8.0,8.0,8.0,8.0,8.0,8.0,8.0,8.0,8.0,8.0,8.0,8.0,8.0,8.0,8.0,8.0,8.0,8.0,8.0,8.0,8.0,8.0,8.0,8.0,8.0,8.0,8.0,8.0,8.0,8.0,8.0,8.0,8.0,8.0,8.0,8.0,8.0,8.0,8.0,8.0,8.0,8.0,8.0,8.0,8.0,8.0,8.0,8.0,8.0,8.0,8.0,8.0,8.0,8.0,8.0,8.0,8.0,8.0,8.0,8.0,8.0,8.0,8.0,8.0,8.0,8.0,8.0,8.0,8.0,8.0,8.0,8.0,8.0,8.0,8.0,8.0,8.0,8.0,8.0,8.0,8.0,8.0,8.0,8.0,8.0,8.0,8.0,8.0,8.0,8.0,8.0,8.0,8.0,8.0,8.0,8.0,8.0,8.0,8.0,8.0,8.0,8.0,8.0,8.0,8.0,8.0,8.0,8.0,8.0,8.0,8.0,8.0,8.0,8.0,8.0,8.0,8.0,8.0,8.0,8.0,8.0,8.0,8.0,8.0,8.0,8.0,8.0,8.0,8.0,8.0,8.0,8.0,7.9,7.9,7.9,7.9,7.9,7.9,7.9,7.9,7.9,7.9,7.9,7.9,7.9,7.9,7.9,7.9,7.9,7.9,7.9,7.9,7.9,7.9,7.9,7.9,7.9,7.9,7.9,7.9,7.9,7.9,7.9,7.9,7.9,7.9,7.9,7.9,7.9,7.9,7.9,7.9,7.9,7.9,7.9,7.9,7.9,7.9,7.9,7.9,7.9,7.9,7.9,7.9,7.9,7.9,7.9,7.9,7.9,7.9,7.9,7.9,7.9,7.9,7.9,7.9,7.9,7.9,7.9,7.9,7.9,7.9,7.9,7.9,7.9,7.9,7.9,7.9,7.9,7.9,7.9,7.9,7.9,7.9,7.9,7.9,7.9,7.9,7.9,7.9,7.9,7.9,7.9,7.9,7.9,7.9,7.9,7.9,7.9,7.9,7.9,7.9,7.9,7.9,7.9,7.9,7.9,7.9,7.8,7.8,7.8,7.8,7.8,7.8,7.8,7.8,7.8,7.8,7.8,7.8,7.8,7.8,7.8,7.8,7.8,7.8,7.8,7.8,7.8,7.8,7.8,7.8,7.8,7.8,7.8,7.8,7.8,7.8,7.8,7.8,7.8,7.8,7.8,7.8,7.8,7.8,7.8,7.8,7.8,7.8,7.8,7.8,7.8,7.8,7.8,7.8,7.8,7.8,7.8,7.8,7.8,7.8,7.8,7.8,7.8,7.8,7.8,7.8,7.8,7.8,7.8,7.8,7.8,7.8,7.8,7.8,7.8,7.8,7.8,7.8,7.8,7.8,7.8,7.8,7.8,7.8,7.8,7.8,7.8,7.8,7.8,7.8,7.8,7.8,7.8,7.8,7.8,7.8,7.8,7.8,7.8,7.8,7.8,7.8,7.8,7.8,7.8,7.8,7.8,7.8,7.8,7.8,7.8,7.8,7.8,7.8,7.8,7.8,7.8,7.8,7.8,7.8,7.8,7.8,7.8,7.8,7.8,7.8,7.8,7.8,7.8,7.8,7.8,7.8,7.8,7.8,7.8,7.8,7.8,7.8,7.8,7.8,7.8,7.8,7.8,7.8,7.8,7.8,7.8,7.8,7.8,7.8,7.8,7.8,7.8,7.8,7.8,7.8,7.8,7.7,7.7,7.7,7.7,7.7,7.7,7.7,7.7,7.7,7.7,7.7,7.7,7.7,7.7,7.7,7.7,7.7,7.7,7.7,7.7,7.7,7.7,7.7,7.7,7.7,7.7,7.7,7.7,7.7,7.7,7.7,7.7,7.7,7.7,7.7,7.7,7.7,7.7,7.7,7.7,7.7,7.7,7.7,7.7,7.7,7.7,7.7,7.7,7.7,7.7,7.7,7.7,7.7,7.7,7.7,7.7,7.7,7.7,7.7,7.7,7.7,7.7,7.7,7.7,7.7,7.7,7.7,7.7,7.7,7.7,7.7,7.7,7.7,7.7,7.7,7.7,7.7,7.7,7.7,7.7,7.7,7.7,7.7,7.7,7.7,7.7,7.7,7.7,7.7,7.7,7.7,7.7,7.7,7.7,7.7,7.7,7.7,7.7,7.7,7.7,7.7,7.7,7.7,7.7,7.7,7.7,7.7,7.7,7.7,7.7,7.7,7.7,7.7,7.7,7.7,7.7,7.7,7.7,7.7,7.7,7.7,7.7,7.7,7.7,7.7,7.7,7.7,7.7,7.7,7.7,7.7,7.7,7.7,7.7,7.7,7.7,7.7,7.7,7.7,7.7,7.7,7.7,7.7,7.7,7.7,7.7,7.7,7.7,7.7,7.7,7.7,7.7,7.7,7.7,7.7,7.7,7.7,7.6,7.6,7.6,7.6,7.6,7.6,7.6,7.6,7.6,7.6,7.6,7.6,7.6,7.6,7.6,7.6,7.6,7.6,7.6,7.6,7.6,7.6,7.6,7.6,7.6,7.6,7.6,7.6,7.6,7.6,7.6,7.6,7.6,7.6,7.6,7.6,7.6,7.6,7.6,7.6,7.6,7.6,7.6,7.6,7.6,7.6,7.6,7.6,7.6,7.6,7.6,7.6,7.6,7.6,7.6,7.6,7.6,7.6,7.6,7.6,7.6,7.6,7.6,7.6,7.6,7.6,7.6,7.6,7.6,7.6,7.6,7.6,7.6,7.6,7.6,7.6,7.6,7.6,7.6,7.6,7.6,7.6,7.6,7.6,7.6,7.6,7.6,7.6,7.6,7.6,7.6,7.6,7.6,7.6,7.6,7.6,7.6,7.6,7.6,7.6,7.6,7.6,7.6,7.6,7.6,7.6,7.6,7.6,7.6,7.6,7.6,7.6,7.6,7.6,7.6,7.6,7.6,7.6,7.6,7.6,7.6,7.6,7.6],\"type\":\"scatter\"}],                        {\"template\":{\"data\":{\"histogram2dcontour\":[{\"type\":\"histogram2dcontour\",\"colorbar\":{\"outlinewidth\":0,\"ticks\":\"\"},\"colorscale\":[[0.0,\"#0d0887\"],[0.1111111111111111,\"#46039f\"],[0.2222222222222222,\"#7201a8\"],[0.3333333333333333,\"#9c179e\"],[0.4444444444444444,\"#bd3786\"],[0.5555555555555556,\"#d8576b\"],[0.6666666666666666,\"#ed7953\"],[0.7777777777777778,\"#fb9f3a\"],[0.8888888888888888,\"#fdca26\"],[1.0,\"#f0f921\"]]}],\"choropleth\":[{\"type\":\"choropleth\",\"colorbar\":{\"outlinewidth\":0,\"ticks\":\"\"}}],\"histogram2d\":[{\"type\":\"histogram2d\",\"colorbar\":{\"outlinewidth\":0,\"ticks\":\"\"},\"colorscale\":[[0.0,\"#0d0887\"],[0.1111111111111111,\"#46039f\"],[0.2222222222222222,\"#7201a8\"],[0.3333333333333333,\"#9c179e\"],[0.4444444444444444,\"#bd3786\"],[0.5555555555555556,\"#d8576b\"],[0.6666666666666666,\"#ed7953\"],[0.7777777777777778,\"#fb9f3a\"],[0.8888888888888888,\"#fdca26\"],[1.0,\"#f0f921\"]]}],\"heatmap\":[{\"type\":\"heatmap\",\"colorbar\":{\"outlinewidth\":0,\"ticks\":\"\"},\"colorscale\":[[0.0,\"#0d0887\"],[0.1111111111111111,\"#46039f\"],[0.2222222222222222,\"#7201a8\"],[0.3333333333333333,\"#9c179e\"],[0.4444444444444444,\"#bd3786\"],[0.5555555555555556,\"#d8576b\"],[0.6666666666666666,\"#ed7953\"],[0.7777777777777778,\"#fb9f3a\"],[0.8888888888888888,\"#fdca26\"],[1.0,\"#f0f921\"]]}],\"heatmapgl\":[{\"type\":\"heatmapgl\",\"colorbar\":{\"outlinewidth\":0,\"ticks\":\"\"},\"colorscale\":[[0.0,\"#0d0887\"],[0.1111111111111111,\"#46039f\"],[0.2222222222222222,\"#7201a8\"],[0.3333333333333333,\"#9c179e\"],[0.4444444444444444,\"#bd3786\"],[0.5555555555555556,\"#d8576b\"],[0.6666666666666666,\"#ed7953\"],[0.7777777777777778,\"#fb9f3a\"],[0.8888888888888888,\"#fdca26\"],[1.0,\"#f0f921\"]]}],\"contourcarpet\":[{\"type\":\"contourcarpet\",\"colorbar\":{\"outlinewidth\":0,\"ticks\":\"\"}}],\"contour\":[{\"type\":\"contour\",\"colorbar\":{\"outlinewidth\":0,\"ticks\":\"\"},\"colorscale\":[[0.0,\"#0d0887\"],[0.1111111111111111,\"#46039f\"],[0.2222222222222222,\"#7201a8\"],[0.3333333333333333,\"#9c179e\"],[0.4444444444444444,\"#bd3786\"],[0.5555555555555556,\"#d8576b\"],[0.6666666666666666,\"#ed7953\"],[0.7777777777777778,\"#fb9f3a\"],[0.8888888888888888,\"#fdca26\"],[1.0,\"#f0f921\"]]}],\"surface\":[{\"type\":\"surface\",\"colorbar\":{\"outlinewidth\":0,\"ticks\":\"\"},\"colorscale\":[[0.0,\"#0d0887\"],[0.1111111111111111,\"#46039f\"],[0.2222222222222222,\"#7201a8\"],[0.3333333333333333,\"#9c179e\"],[0.4444444444444444,\"#bd3786\"],[0.5555555555555556,\"#d8576b\"],[0.6666666666666666,\"#ed7953\"],[0.7777777777777778,\"#fb9f3a\"],[0.8888888888888888,\"#fdca26\"],[1.0,\"#f0f921\"]]}],\"mesh3d\":[{\"type\":\"mesh3d\",\"colorbar\":{\"outlinewidth\":0,\"ticks\":\"\"}}],\"scatter\":[{\"fillpattern\":{\"fillmode\":\"overlay\",\"size\":10,\"solidity\":0.2},\"type\":\"scatter\"}],\"parcoords\":[{\"type\":\"parcoords\",\"line\":{\"colorbar\":{\"outlinewidth\":0,\"ticks\":\"\"}}}],\"scatterpolargl\":[{\"type\":\"scatterpolargl\",\"marker\":{\"colorbar\":{\"outlinewidth\":0,\"ticks\":\"\"}}}],\"bar\":[{\"error_x\":{\"color\":\"#2a3f5f\"},\"error_y\":{\"color\":\"#2a3f5f\"},\"marker\":{\"line\":{\"color\":\"#E5ECF6\",\"width\":0.5},\"pattern\":{\"fillmode\":\"overlay\",\"size\":10,\"solidity\":0.2}},\"type\":\"bar\"}],\"scattergeo\":[{\"type\":\"scattergeo\",\"marker\":{\"colorbar\":{\"outlinewidth\":0,\"ticks\":\"\"}}}],\"scatterpolar\":[{\"type\":\"scatterpolar\",\"marker\":{\"colorbar\":{\"outlinewidth\":0,\"ticks\":\"\"}}}],\"histogram\":[{\"marker\":{\"pattern\":{\"fillmode\":\"overlay\",\"size\":10,\"solidity\":0.2}},\"type\":\"histogram\"}],\"scattergl\":[{\"type\":\"scattergl\",\"marker\":{\"colorbar\":{\"outlinewidth\":0,\"ticks\":\"\"}}}],\"scatter3d\":[{\"type\":\"scatter3d\",\"line\":{\"colorbar\":{\"outlinewidth\":0,\"ticks\":\"\"}},\"marker\":{\"colorbar\":{\"outlinewidth\":0,\"ticks\":\"\"}}}],\"scattermapbox\":[{\"type\":\"scattermapbox\",\"marker\":{\"colorbar\":{\"outlinewidth\":0,\"ticks\":\"\"}}}],\"scatterternary\":[{\"type\":\"scatterternary\",\"marker\":{\"colorbar\":{\"outlinewidth\":0,\"ticks\":\"\"}}}],\"scattercarpet\":[{\"type\":\"scattercarpet\",\"marker\":{\"colorbar\":{\"outlinewidth\":0,\"ticks\":\"\"}}}],\"carpet\":[{\"aaxis\":{\"endlinecolor\":\"#2a3f5f\",\"gridcolor\":\"white\",\"linecolor\":\"white\",\"minorgridcolor\":\"white\",\"startlinecolor\":\"#2a3f5f\"},\"baxis\":{\"endlinecolor\":\"#2a3f5f\",\"gridcolor\":\"white\",\"linecolor\":\"white\",\"minorgridcolor\":\"white\",\"startlinecolor\":\"#2a3f5f\"},\"type\":\"carpet\"}],\"table\":[{\"cells\":{\"fill\":{\"color\":\"#EBF0F8\"},\"line\":{\"color\":\"white\"}},\"header\":{\"fill\":{\"color\":\"#C8D4E3\"},\"line\":{\"color\":\"white\"}},\"type\":\"table\"}],\"barpolar\":[{\"marker\":{\"line\":{\"color\":\"#E5ECF6\",\"width\":0.5},\"pattern\":{\"fillmode\":\"overlay\",\"size\":10,\"solidity\":0.2}},\"type\":\"barpolar\"}],\"pie\":[{\"automargin\":true,\"type\":\"pie\"}]},\"layout\":{\"autotypenumbers\":\"strict\",\"colorway\":[\"#636efa\",\"#EF553B\",\"#00cc96\",\"#ab63fa\",\"#FFA15A\",\"#19d3f3\",\"#FF6692\",\"#B6E880\",\"#FF97FF\",\"#FECB52\"],\"font\":{\"color\":\"#2a3f5f\"},\"hovermode\":\"closest\",\"hoverlabel\":{\"align\":\"left\"},\"paper_bgcolor\":\"white\",\"plot_bgcolor\":\"#E5ECF6\",\"polar\":{\"bgcolor\":\"#E5ECF6\",\"angularaxis\":{\"gridcolor\":\"white\",\"linecolor\":\"white\",\"ticks\":\"\"},\"radialaxis\":{\"gridcolor\":\"white\",\"linecolor\":\"white\",\"ticks\":\"\"}},\"ternary\":{\"bgcolor\":\"#E5ECF6\",\"aaxis\":{\"gridcolor\":\"white\",\"linecolor\":\"white\",\"ticks\":\"\"},\"baxis\":{\"gridcolor\":\"white\",\"linecolor\":\"white\",\"ticks\":\"\"},\"caxis\":{\"gridcolor\":\"white\",\"linecolor\":\"white\",\"ticks\":\"\"}},\"coloraxis\":{\"colorbar\":{\"outlinewidth\":0,\"ticks\":\"\"}},\"colorscale\":{\"sequential\":[[0.0,\"#0d0887\"],[0.1111111111111111,\"#46039f\"],[0.2222222222222222,\"#7201a8\"],[0.3333333333333333,\"#9c179e\"],[0.4444444444444444,\"#bd3786\"],[0.5555555555555556,\"#d8576b\"],[0.6666666666666666,\"#ed7953\"],[0.7777777777777778,\"#fb9f3a\"],[0.8888888888888888,\"#fdca26\"],[1.0,\"#f0f921\"]],\"sequentialminus\":[[0.0,\"#0d0887\"],[0.1111111111111111,\"#46039f\"],[0.2222222222222222,\"#7201a8\"],[0.3333333333333333,\"#9c179e\"],[0.4444444444444444,\"#bd3786\"],[0.5555555555555556,\"#d8576b\"],[0.6666666666666666,\"#ed7953\"],[0.7777777777777778,\"#fb9f3a\"],[0.8888888888888888,\"#fdca26\"],[1.0,\"#f0f921\"]],\"diverging\":[[0,\"#8e0152\"],[0.1,\"#c51b7d\"],[0.2,\"#de77ae\"],[0.3,\"#f1b6da\"],[0.4,\"#fde0ef\"],[0.5,\"#f7f7f7\"],[0.6,\"#e6f5d0\"],[0.7,\"#b8e186\"],[0.8,\"#7fbc41\"],[0.9,\"#4d9221\"],[1,\"#276419\"]]},\"xaxis\":{\"gridcolor\":\"white\",\"linecolor\":\"white\",\"ticks\":\"\",\"title\":{\"standoff\":15},\"zerolinecolor\":\"white\",\"automargin\":true,\"zerolinewidth\":2},\"yaxis\":{\"gridcolor\":\"white\",\"linecolor\":\"white\",\"ticks\":\"\",\"title\":{\"standoff\":15},\"zerolinecolor\":\"white\",\"automargin\":true,\"zerolinewidth\":2},\"scene\":{\"xaxis\":{\"backgroundcolor\":\"#E5ECF6\",\"gridcolor\":\"white\",\"linecolor\":\"white\",\"showbackground\":true,\"ticks\":\"\",\"zerolinecolor\":\"white\",\"gridwidth\":2},\"yaxis\":{\"backgroundcolor\":\"#E5ECF6\",\"gridcolor\":\"white\",\"linecolor\":\"white\",\"showbackground\":true,\"ticks\":\"\",\"zerolinecolor\":\"white\",\"gridwidth\":2},\"zaxis\":{\"backgroundcolor\":\"#E5ECF6\",\"gridcolor\":\"white\",\"linecolor\":\"white\",\"showbackground\":true,\"ticks\":\"\",\"zerolinecolor\":\"white\",\"gridwidth\":2}},\"shapedefaults\":{\"line\":{\"color\":\"#2a3f5f\"}},\"annotationdefaults\":{\"arrowcolor\":\"#2a3f5f\",\"arrowhead\":0,\"arrowwidth\":1},\"geo\":{\"bgcolor\":\"white\",\"landcolor\":\"#E5ECF6\",\"subunitcolor\":\"white\",\"showland\":true,\"showlakes\":true,\"lakecolor\":\"white\"},\"title\":{\"x\":0.05},\"mapbox\":{\"style\":\"light\"}}},\"title\":{\"text\":\"Trend of IMDb Ratings Over the Years\"},\"xaxis\":{\"title\":{\"text\":\"No. of Votes\"}},\"yaxis\":{\"title\":{\"text\":\"IMDB Rating\"}}},                        {\"responsive\": true}                    ).then(function(){\n",
              "                            \n",
              "var gd = document.getElementById('8e55cdf8-fa77-4a0d-86a1-17995ef93ae2');\n",
              "var x = new MutationObserver(function (mutations, observer) {{\n",
              "        var display = window.getComputedStyle(gd).display;\n",
              "        if (!display || display === 'none') {{\n",
              "            console.log([gd, 'removed!']);\n",
              "            Plotly.purge(gd);\n",
              "            observer.disconnect();\n",
              "        }}\n",
              "}});\n",
              "\n",
              "// Listen for the removal of the full notebook cells\n",
              "var notebookContainer = gd.closest('#notebook-container');\n",
              "if (notebookContainer) {{\n",
              "    x.observe(notebookContainer, {childList: true});\n",
              "}}\n",
              "\n",
              "// Listen for the clearing of the current output cell\n",
              "var outputEl = gd.closest('.output');\n",
              "if (outputEl) {{\n",
              "    x.observe(outputEl, {childList: true});\n",
              "}}\n",
              "\n",
              "                        })                };                });            </script>        </div>"
            ]
          },
          "metadata": {},
          "output_type": "display_data"
        }
      ],
      "source": [
        "import plotly.graph_objects as go\n",
        "import pandas as pd\n",
        "\n",
        "fig = go.Figure()\n",
        "\n",
        "fig.add_trace(go.Scatter(\n",
        "    x=movies['No_of_Votes'],\n",
        "    y=movies['IMDB_Rating'],\n",
        "\n",
        "    name='IMDB Rating'\n",
        "))\n",
        "\n",
        "fig.update_layout(\n",
        "    title='Trend of IMDb Ratings Over the Years',\n",
        "    xaxis=dict(title='No. of Votes'),\n",
        "    yaxis=dict(title='IMDB Rating')\n",
        ")\n",
        "\n",
        "fig.show()\n",
        "\n"
      ]
    },
    {
      "cell_type": "code",
      "execution_count": null,
      "metadata": {
        "id": "p5j2S-T9TEDL",
        "outputId": "13bd6dc2-9d40-475d-822d-bdb0aef7d2d8"
      },
      "outputs": [
        {
          "data": {
            "application/vnd.plotly.v1+json": {
              "config": {
                "plotlyServerURL": "https://plot.ly"
              },
              "data": [
                {
                  "marker": {
                    "color": "cyan"
                  },
                  "type": "bar",
                  "x": [
                    " Drama",
                    "Drama",
                    "Action",
                    "Comedy",
                    " Thriller",
                    " Romance",
                    " Adventure",
                    "Crime",
                    " Crime",
                    "Biography",
                    " Mystery",
                    "Adventure",
                    " Comedy",
                    "Animation",
                    " Sci-Fi",
                    " History",
                    " Fantasy",
                    " War",
                    " Family",
                    " Music",
                    " Biography",
                    " Sport",
                    " Musical",
                    " Horror",
                    " Western",
                    " Action",
                    " Film-Noir",
                    "Mystery",
                    "Horror",
                    "Western",
                    "Film-Noir",
                    "Family",
                    "Fantasy",
                    "Thriller"
                  ],
                  "y": [
                    55683,
                    36049,
                    22196,
                    17380,
                    16283,
                    14991,
                    14942,
                    13524,
                    12275,
                    11970,
                    10564,
                    9656,
                    8632,
                    8166,
                    8094,
                    8039,
                    7405,
                    6734,
                    6177,
                    4226,
                    2818,
                    2520,
                    2385,
                    2157,
                    2099,
                    1755,
                    1602,
                    1429,
                    1123,
                    593,
                    312,
                    215,
                    170,
                    108
                  ]
                }
              ],
              "layout": {
                "template": {
                  "data": {
                    "bar": [
                      {
                        "error_x": {
                          "color": "#2a3f5f"
                        },
                        "error_y": {
                          "color": "#2a3f5f"
                        },
                        "marker": {
                          "line": {
                            "color": "#E5ECF6",
                            "width": 0.5
                          },
                          "pattern": {
                            "fillmode": "overlay",
                            "size": 10,
                            "solidity": 0.2
                          }
                        },
                        "type": "bar"
                      }
                    ],
                    "barpolar": [
                      {
                        "marker": {
                          "line": {
                            "color": "#E5ECF6",
                            "width": 0.5
                          },
                          "pattern": {
                            "fillmode": "overlay",
                            "size": 10,
                            "solidity": 0.2
                          }
                        },
                        "type": "barpolar"
                      }
                    ],
                    "carpet": [
                      {
                        "aaxis": {
                          "endlinecolor": "#2a3f5f",
                          "gridcolor": "white",
                          "linecolor": "white",
                          "minorgridcolor": "white",
                          "startlinecolor": "#2a3f5f"
                        },
                        "baxis": {
                          "endlinecolor": "#2a3f5f",
                          "gridcolor": "white",
                          "linecolor": "white",
                          "minorgridcolor": "white",
                          "startlinecolor": "#2a3f5f"
                        },
                        "type": "carpet"
                      }
                    ],
                    "choropleth": [
                      {
                        "colorbar": {
                          "outlinewidth": 0,
                          "ticks": ""
                        },
                        "type": "choropleth"
                      }
                    ],
                    "contour": [
                      {
                        "colorbar": {
                          "outlinewidth": 0,
                          "ticks": ""
                        },
                        "colorscale": [
                          [
                            0,
                            "#0d0887"
                          ],
                          [
                            0.1111111111111111,
                            "#46039f"
                          ],
                          [
                            0.2222222222222222,
                            "#7201a8"
                          ],
                          [
                            0.3333333333333333,
                            "#9c179e"
                          ],
                          [
                            0.4444444444444444,
                            "#bd3786"
                          ],
                          [
                            0.5555555555555556,
                            "#d8576b"
                          ],
                          [
                            0.6666666666666666,
                            "#ed7953"
                          ],
                          [
                            0.7777777777777778,
                            "#fb9f3a"
                          ],
                          [
                            0.8888888888888888,
                            "#fdca26"
                          ],
                          [
                            1,
                            "#f0f921"
                          ]
                        ],
                        "type": "contour"
                      }
                    ],
                    "contourcarpet": [
                      {
                        "colorbar": {
                          "outlinewidth": 0,
                          "ticks": ""
                        },
                        "type": "contourcarpet"
                      }
                    ],
                    "heatmap": [
                      {
                        "colorbar": {
                          "outlinewidth": 0,
                          "ticks": ""
                        },
                        "colorscale": [
                          [
                            0,
                            "#0d0887"
                          ],
                          [
                            0.1111111111111111,
                            "#46039f"
                          ],
                          [
                            0.2222222222222222,
                            "#7201a8"
                          ],
                          [
                            0.3333333333333333,
                            "#9c179e"
                          ],
                          [
                            0.4444444444444444,
                            "#bd3786"
                          ],
                          [
                            0.5555555555555556,
                            "#d8576b"
                          ],
                          [
                            0.6666666666666666,
                            "#ed7953"
                          ],
                          [
                            0.7777777777777778,
                            "#fb9f3a"
                          ],
                          [
                            0.8888888888888888,
                            "#fdca26"
                          ],
                          [
                            1,
                            "#f0f921"
                          ]
                        ],
                        "type": "heatmap"
                      }
                    ],
                    "heatmapgl": [
                      {
                        "colorbar": {
                          "outlinewidth": 0,
                          "ticks": ""
                        },
                        "colorscale": [
                          [
                            0,
                            "#0d0887"
                          ],
                          [
                            0.1111111111111111,
                            "#46039f"
                          ],
                          [
                            0.2222222222222222,
                            "#7201a8"
                          ],
                          [
                            0.3333333333333333,
                            "#9c179e"
                          ],
                          [
                            0.4444444444444444,
                            "#bd3786"
                          ],
                          [
                            0.5555555555555556,
                            "#d8576b"
                          ],
                          [
                            0.6666666666666666,
                            "#ed7953"
                          ],
                          [
                            0.7777777777777778,
                            "#fb9f3a"
                          ],
                          [
                            0.8888888888888888,
                            "#fdca26"
                          ],
                          [
                            1,
                            "#f0f921"
                          ]
                        ],
                        "type": "heatmapgl"
                      }
                    ],
                    "histogram": [
                      {
                        "marker": {
                          "pattern": {
                            "fillmode": "overlay",
                            "size": 10,
                            "solidity": 0.2
                          }
                        },
                        "type": "histogram"
                      }
                    ],
                    "histogram2d": [
                      {
                        "colorbar": {
                          "outlinewidth": 0,
                          "ticks": ""
                        },
                        "colorscale": [
                          [
                            0,
                            "#0d0887"
                          ],
                          [
                            0.1111111111111111,
                            "#46039f"
                          ],
                          [
                            0.2222222222222222,
                            "#7201a8"
                          ],
                          [
                            0.3333333333333333,
                            "#9c179e"
                          ],
                          [
                            0.4444444444444444,
                            "#bd3786"
                          ],
                          [
                            0.5555555555555556,
                            "#d8576b"
                          ],
                          [
                            0.6666666666666666,
                            "#ed7953"
                          ],
                          [
                            0.7777777777777778,
                            "#fb9f3a"
                          ],
                          [
                            0.8888888888888888,
                            "#fdca26"
                          ],
                          [
                            1,
                            "#f0f921"
                          ]
                        ],
                        "type": "histogram2d"
                      }
                    ],
                    "histogram2dcontour": [
                      {
                        "colorbar": {
                          "outlinewidth": 0,
                          "ticks": ""
                        },
                        "colorscale": [
                          [
                            0,
                            "#0d0887"
                          ],
                          [
                            0.1111111111111111,
                            "#46039f"
                          ],
                          [
                            0.2222222222222222,
                            "#7201a8"
                          ],
                          [
                            0.3333333333333333,
                            "#9c179e"
                          ],
                          [
                            0.4444444444444444,
                            "#bd3786"
                          ],
                          [
                            0.5555555555555556,
                            "#d8576b"
                          ],
                          [
                            0.6666666666666666,
                            "#ed7953"
                          ],
                          [
                            0.7777777777777778,
                            "#fb9f3a"
                          ],
                          [
                            0.8888888888888888,
                            "#fdca26"
                          ],
                          [
                            1,
                            "#f0f921"
                          ]
                        ],
                        "type": "histogram2dcontour"
                      }
                    ],
                    "mesh3d": [
                      {
                        "colorbar": {
                          "outlinewidth": 0,
                          "ticks": ""
                        },
                        "type": "mesh3d"
                      }
                    ],
                    "parcoords": [
                      {
                        "line": {
                          "colorbar": {
                            "outlinewidth": 0,
                            "ticks": ""
                          }
                        },
                        "type": "parcoords"
                      }
                    ],
                    "pie": [
                      {
                        "automargin": true,
                        "type": "pie"
                      }
                    ],
                    "scatter": [
                      {
                        "fillpattern": {
                          "fillmode": "overlay",
                          "size": 10,
                          "solidity": 0.2
                        },
                        "type": "scatter"
                      }
                    ],
                    "scatter3d": [
                      {
                        "line": {
                          "colorbar": {
                            "outlinewidth": 0,
                            "ticks": ""
                          }
                        },
                        "marker": {
                          "colorbar": {
                            "outlinewidth": 0,
                            "ticks": ""
                          }
                        },
                        "type": "scatter3d"
                      }
                    ],
                    "scattercarpet": [
                      {
                        "marker": {
                          "colorbar": {
                            "outlinewidth": 0,
                            "ticks": ""
                          }
                        },
                        "type": "scattercarpet"
                      }
                    ],
                    "scattergeo": [
                      {
                        "marker": {
                          "colorbar": {
                            "outlinewidth": 0,
                            "ticks": ""
                          }
                        },
                        "type": "scattergeo"
                      }
                    ],
                    "scattergl": [
                      {
                        "marker": {
                          "colorbar": {
                            "outlinewidth": 0,
                            "ticks": ""
                          }
                        },
                        "type": "scattergl"
                      }
                    ],
                    "scattermapbox": [
                      {
                        "marker": {
                          "colorbar": {
                            "outlinewidth": 0,
                            "ticks": ""
                          }
                        },
                        "type": "scattermapbox"
                      }
                    ],
                    "scatterpolar": [
                      {
                        "marker": {
                          "colorbar": {
                            "outlinewidth": 0,
                            "ticks": ""
                          }
                        },
                        "type": "scatterpolar"
                      }
                    ],
                    "scatterpolargl": [
                      {
                        "marker": {
                          "colorbar": {
                            "outlinewidth": 0,
                            "ticks": ""
                          }
                        },
                        "type": "scatterpolargl"
                      }
                    ],
                    "scatterternary": [
                      {
                        "marker": {
                          "colorbar": {
                            "outlinewidth": 0,
                            "ticks": ""
                          }
                        },
                        "type": "scatterternary"
                      }
                    ],
                    "surface": [
                      {
                        "colorbar": {
                          "outlinewidth": 0,
                          "ticks": ""
                        },
                        "colorscale": [
                          [
                            0,
                            "#0d0887"
                          ],
                          [
                            0.1111111111111111,
                            "#46039f"
                          ],
                          [
                            0.2222222222222222,
                            "#7201a8"
                          ],
                          [
                            0.3333333333333333,
                            "#9c179e"
                          ],
                          [
                            0.4444444444444444,
                            "#bd3786"
                          ],
                          [
                            0.5555555555555556,
                            "#d8576b"
                          ],
                          [
                            0.6666666666666666,
                            "#ed7953"
                          ],
                          [
                            0.7777777777777778,
                            "#fb9f3a"
                          ],
                          [
                            0.8888888888888888,
                            "#fdca26"
                          ],
                          [
                            1,
                            "#f0f921"
                          ]
                        ],
                        "type": "surface"
                      }
                    ],
                    "table": [
                      {
                        "cells": {
                          "fill": {
                            "color": "#EBF0F8"
                          },
                          "line": {
                            "color": "white"
                          }
                        },
                        "header": {
                          "fill": {
                            "color": "#C8D4E3"
                          },
                          "line": {
                            "color": "white"
                          }
                        },
                        "type": "table"
                      }
                    ]
                  },
                  "layout": {
                    "annotationdefaults": {
                      "arrowcolor": "#2a3f5f",
                      "arrowhead": 0,
                      "arrowwidth": 1
                    },
                    "autotypenumbers": "strict",
                    "coloraxis": {
                      "colorbar": {
                        "outlinewidth": 0,
                        "ticks": ""
                      }
                    },
                    "colorscale": {
                      "diverging": [
                        [
                          0,
                          "#8e0152"
                        ],
                        [
                          0.1,
                          "#c51b7d"
                        ],
                        [
                          0.2,
                          "#de77ae"
                        ],
                        [
                          0.3,
                          "#f1b6da"
                        ],
                        [
                          0.4,
                          "#fde0ef"
                        ],
                        [
                          0.5,
                          "#f7f7f7"
                        ],
                        [
                          0.6,
                          "#e6f5d0"
                        ],
                        [
                          0.7,
                          "#b8e186"
                        ],
                        [
                          0.8,
                          "#7fbc41"
                        ],
                        [
                          0.9,
                          "#4d9221"
                        ],
                        [
                          1,
                          "#276419"
                        ]
                      ],
                      "sequential": [
                        [
                          0,
                          "#0d0887"
                        ],
                        [
                          0.1111111111111111,
                          "#46039f"
                        ],
                        [
                          0.2222222222222222,
                          "#7201a8"
                        ],
                        [
                          0.3333333333333333,
                          "#9c179e"
                        ],
                        [
                          0.4444444444444444,
                          "#bd3786"
                        ],
                        [
                          0.5555555555555556,
                          "#d8576b"
                        ],
                        [
                          0.6666666666666666,
                          "#ed7953"
                        ],
                        [
                          0.7777777777777778,
                          "#fb9f3a"
                        ],
                        [
                          0.8888888888888888,
                          "#fdca26"
                        ],
                        [
                          1,
                          "#f0f921"
                        ]
                      ],
                      "sequentialminus": [
                        [
                          0,
                          "#0d0887"
                        ],
                        [
                          0.1111111111111111,
                          "#46039f"
                        ],
                        [
                          0.2222222222222222,
                          "#7201a8"
                        ],
                        [
                          0.3333333333333333,
                          "#9c179e"
                        ],
                        [
                          0.4444444444444444,
                          "#bd3786"
                        ],
                        [
                          0.5555555555555556,
                          "#d8576b"
                        ],
                        [
                          0.6666666666666666,
                          "#ed7953"
                        ],
                        [
                          0.7777777777777778,
                          "#fb9f3a"
                        ],
                        [
                          0.8888888888888888,
                          "#fdca26"
                        ],
                        [
                          1,
                          "#f0f921"
                        ]
                      ]
                    },
                    "colorway": [
                      "#636efa",
                      "#EF553B",
                      "#00cc96",
                      "#ab63fa",
                      "#FFA15A",
                      "#19d3f3",
                      "#FF6692",
                      "#B6E880",
                      "#FF97FF",
                      "#FECB52"
                    ],
                    "font": {
                      "color": "#2a3f5f"
                    },
                    "geo": {
                      "bgcolor": "white",
                      "lakecolor": "white",
                      "landcolor": "#E5ECF6",
                      "showlakes": true,
                      "showland": true,
                      "subunitcolor": "white"
                    },
                    "hoverlabel": {
                      "align": "left"
                    },
                    "hovermode": "closest",
                    "mapbox": {
                      "style": "light"
                    },
                    "paper_bgcolor": "white",
                    "plot_bgcolor": "#E5ECF6",
                    "polar": {
                      "angularaxis": {
                        "gridcolor": "white",
                        "linecolor": "white",
                        "ticks": ""
                      },
                      "bgcolor": "#E5ECF6",
                      "radialaxis": {
                        "gridcolor": "white",
                        "linecolor": "white",
                        "ticks": ""
                      }
                    },
                    "scene": {
                      "xaxis": {
                        "backgroundcolor": "#E5ECF6",
                        "gridcolor": "white",
                        "gridwidth": 2,
                        "linecolor": "white",
                        "showbackground": true,
                        "ticks": "",
                        "zerolinecolor": "white"
                      },
                      "yaxis": {
                        "backgroundcolor": "#E5ECF6",
                        "gridcolor": "white",
                        "gridwidth": 2,
                        "linecolor": "white",
                        "showbackground": true,
                        "ticks": "",
                        "zerolinecolor": "white"
                      },
                      "zaxis": {
                        "backgroundcolor": "#E5ECF6",
                        "gridcolor": "white",
                        "gridwidth": 2,
                        "linecolor": "white",
                        "showbackground": true,
                        "ticks": "",
                        "zerolinecolor": "white"
                      }
                    },
                    "shapedefaults": {
                      "line": {
                        "color": "#2a3f5f"
                      }
                    },
                    "ternary": {
                      "aaxis": {
                        "gridcolor": "white",
                        "linecolor": "white",
                        "ticks": ""
                      },
                      "baxis": {
                        "gridcolor": "white",
                        "linecolor": "white",
                        "ticks": ""
                      },
                      "bgcolor": "#E5ECF6",
                      "caxis": {
                        "gridcolor": "white",
                        "linecolor": "white",
                        "ticks": ""
                      }
                    },
                    "title": {
                      "x": 0.05
                    },
                    "xaxis": {
                      "automargin": true,
                      "gridcolor": "white",
                      "linecolor": "white",
                      "ticks": "",
                      "title": {
                        "standoff": 15
                      },
                      "zerolinecolor": "white",
                      "zerolinewidth": 2
                    },
                    "yaxis": {
                      "automargin": true,
                      "gridcolor": "white",
                      "linecolor": "white",
                      "ticks": "",
                      "title": {
                        "standoff": 15
                      },
                      "zerolinecolor": "white",
                      "zerolinewidth": 2
                    }
                  }
                },
                "title": {
                  "text": "Genre with Highest Runtime"
                },
                "xaxis": {
                  "title": {
                    "text": "Genre"
                  }
                },
                "yaxis": {
                  "title": {
                    "text": "Total Runtime"
                  }
                }
              }
            },
            "text/html": [
              "<div>                            <div id=\"9a5a6a08-40c1-4eb9-a4a0-6ec1252e7844\" class=\"plotly-graph-div\" style=\"height:525px; width:100%;\"></div>            <script type=\"text/javascript\">                require([\"plotly\"], function(Plotly) {                    window.PLOTLYENV=window.PLOTLYENV || {};                                    if (document.getElementById(\"9a5a6a08-40c1-4eb9-a4a0-6ec1252e7844\")) {                    Plotly.newPlot(                        \"9a5a6a08-40c1-4eb9-a4a0-6ec1252e7844\",                        [{\"marker\":{\"color\":\"cyan\"},\"x\":[\" Drama\",\"Drama\",\"Action\",\"Comedy\",\" Thriller\",\" Romance\",\" Adventure\",\"Crime\",\" Crime\",\"Biography\",\" Mystery\",\"Adventure\",\" Comedy\",\"Animation\",\" Sci-Fi\",\" History\",\" Fantasy\",\" War\",\" Family\",\" Music\",\" Biography\",\" Sport\",\" Musical\",\" Horror\",\" Western\",\" Action\",\" Film-Noir\",\"Mystery\",\"Horror\",\"Western\",\"Film-Noir\",\"Family\",\"Fantasy\",\"Thriller\"],\"y\":[55683.0,36049.0,22196.0,17380.0,16283.0,14991.0,14942.0,13524.0,12275.0,11970.0,10564.0,9656.0,8632.0,8166.0,8094.0,8039.0,7405.0,6734.0,6177.0,4226.0,2818.0,2520.0,2385.0,2157.0,2099.0,1755.0,1602.0,1429.0,1123.0,593.0,312.0,215.0,170.0,108.0],\"type\":\"bar\"}],                        {\"template\":{\"data\":{\"histogram2dcontour\":[{\"type\":\"histogram2dcontour\",\"colorbar\":{\"outlinewidth\":0,\"ticks\":\"\"},\"colorscale\":[[0.0,\"#0d0887\"],[0.1111111111111111,\"#46039f\"],[0.2222222222222222,\"#7201a8\"],[0.3333333333333333,\"#9c179e\"],[0.4444444444444444,\"#bd3786\"],[0.5555555555555556,\"#d8576b\"],[0.6666666666666666,\"#ed7953\"],[0.7777777777777778,\"#fb9f3a\"],[0.8888888888888888,\"#fdca26\"],[1.0,\"#f0f921\"]]}],\"choropleth\":[{\"type\":\"choropleth\",\"colorbar\":{\"outlinewidth\":0,\"ticks\":\"\"}}],\"histogram2d\":[{\"type\":\"histogram2d\",\"colorbar\":{\"outlinewidth\":0,\"ticks\":\"\"},\"colorscale\":[[0.0,\"#0d0887\"],[0.1111111111111111,\"#46039f\"],[0.2222222222222222,\"#7201a8\"],[0.3333333333333333,\"#9c179e\"],[0.4444444444444444,\"#bd3786\"],[0.5555555555555556,\"#d8576b\"],[0.6666666666666666,\"#ed7953\"],[0.7777777777777778,\"#fb9f3a\"],[0.8888888888888888,\"#fdca26\"],[1.0,\"#f0f921\"]]}],\"heatmap\":[{\"type\":\"heatmap\",\"colorbar\":{\"outlinewidth\":0,\"ticks\":\"\"},\"colorscale\":[[0.0,\"#0d0887\"],[0.1111111111111111,\"#46039f\"],[0.2222222222222222,\"#7201a8\"],[0.3333333333333333,\"#9c179e\"],[0.4444444444444444,\"#bd3786\"],[0.5555555555555556,\"#d8576b\"],[0.6666666666666666,\"#ed7953\"],[0.7777777777777778,\"#fb9f3a\"],[0.8888888888888888,\"#fdca26\"],[1.0,\"#f0f921\"]]}],\"heatmapgl\":[{\"type\":\"heatmapgl\",\"colorbar\":{\"outlinewidth\":0,\"ticks\":\"\"},\"colorscale\":[[0.0,\"#0d0887\"],[0.1111111111111111,\"#46039f\"],[0.2222222222222222,\"#7201a8\"],[0.3333333333333333,\"#9c179e\"],[0.4444444444444444,\"#bd3786\"],[0.5555555555555556,\"#d8576b\"],[0.6666666666666666,\"#ed7953\"],[0.7777777777777778,\"#fb9f3a\"],[0.8888888888888888,\"#fdca26\"],[1.0,\"#f0f921\"]]}],\"contourcarpet\":[{\"type\":\"contourcarpet\",\"colorbar\":{\"outlinewidth\":0,\"ticks\":\"\"}}],\"contour\":[{\"type\":\"contour\",\"colorbar\":{\"outlinewidth\":0,\"ticks\":\"\"},\"colorscale\":[[0.0,\"#0d0887\"],[0.1111111111111111,\"#46039f\"],[0.2222222222222222,\"#7201a8\"],[0.3333333333333333,\"#9c179e\"],[0.4444444444444444,\"#bd3786\"],[0.5555555555555556,\"#d8576b\"],[0.6666666666666666,\"#ed7953\"],[0.7777777777777778,\"#fb9f3a\"],[0.8888888888888888,\"#fdca26\"],[1.0,\"#f0f921\"]]}],\"surface\":[{\"type\":\"surface\",\"colorbar\":{\"outlinewidth\":0,\"ticks\":\"\"},\"colorscale\":[[0.0,\"#0d0887\"],[0.1111111111111111,\"#46039f\"],[0.2222222222222222,\"#7201a8\"],[0.3333333333333333,\"#9c179e\"],[0.4444444444444444,\"#bd3786\"],[0.5555555555555556,\"#d8576b\"],[0.6666666666666666,\"#ed7953\"],[0.7777777777777778,\"#fb9f3a\"],[0.8888888888888888,\"#fdca26\"],[1.0,\"#f0f921\"]]}],\"mesh3d\":[{\"type\":\"mesh3d\",\"colorbar\":{\"outlinewidth\":0,\"ticks\":\"\"}}],\"scatter\":[{\"fillpattern\":{\"fillmode\":\"overlay\",\"size\":10,\"solidity\":0.2},\"type\":\"scatter\"}],\"parcoords\":[{\"type\":\"parcoords\",\"line\":{\"colorbar\":{\"outlinewidth\":0,\"ticks\":\"\"}}}],\"scatterpolargl\":[{\"type\":\"scatterpolargl\",\"marker\":{\"colorbar\":{\"outlinewidth\":0,\"ticks\":\"\"}}}],\"bar\":[{\"error_x\":{\"color\":\"#2a3f5f\"},\"error_y\":{\"color\":\"#2a3f5f\"},\"marker\":{\"line\":{\"color\":\"#E5ECF6\",\"width\":0.5},\"pattern\":{\"fillmode\":\"overlay\",\"size\":10,\"solidity\":0.2}},\"type\":\"bar\"}],\"scattergeo\":[{\"type\":\"scattergeo\",\"marker\":{\"colorbar\":{\"outlinewidth\":0,\"ticks\":\"\"}}}],\"scatterpolar\":[{\"type\":\"scatterpolar\",\"marker\":{\"colorbar\":{\"outlinewidth\":0,\"ticks\":\"\"}}}],\"histogram\":[{\"marker\":{\"pattern\":{\"fillmode\":\"overlay\",\"size\":10,\"solidity\":0.2}},\"type\":\"histogram\"}],\"scattergl\":[{\"type\":\"scattergl\",\"marker\":{\"colorbar\":{\"outlinewidth\":0,\"ticks\":\"\"}}}],\"scatter3d\":[{\"type\":\"scatter3d\",\"line\":{\"colorbar\":{\"outlinewidth\":0,\"ticks\":\"\"}},\"marker\":{\"colorbar\":{\"outlinewidth\":0,\"ticks\":\"\"}}}],\"scattermapbox\":[{\"type\":\"scattermapbox\",\"marker\":{\"colorbar\":{\"outlinewidth\":0,\"ticks\":\"\"}}}],\"scatterternary\":[{\"type\":\"scatterternary\",\"marker\":{\"colorbar\":{\"outlinewidth\":0,\"ticks\":\"\"}}}],\"scattercarpet\":[{\"type\":\"scattercarpet\",\"marker\":{\"colorbar\":{\"outlinewidth\":0,\"ticks\":\"\"}}}],\"carpet\":[{\"aaxis\":{\"endlinecolor\":\"#2a3f5f\",\"gridcolor\":\"white\",\"linecolor\":\"white\",\"minorgridcolor\":\"white\",\"startlinecolor\":\"#2a3f5f\"},\"baxis\":{\"endlinecolor\":\"#2a3f5f\",\"gridcolor\":\"white\",\"linecolor\":\"white\",\"minorgridcolor\":\"white\",\"startlinecolor\":\"#2a3f5f\"},\"type\":\"carpet\"}],\"table\":[{\"cells\":{\"fill\":{\"color\":\"#EBF0F8\"},\"line\":{\"color\":\"white\"}},\"header\":{\"fill\":{\"color\":\"#C8D4E3\"},\"line\":{\"color\":\"white\"}},\"type\":\"table\"}],\"barpolar\":[{\"marker\":{\"line\":{\"color\":\"#E5ECF6\",\"width\":0.5},\"pattern\":{\"fillmode\":\"overlay\",\"size\":10,\"solidity\":0.2}},\"type\":\"barpolar\"}],\"pie\":[{\"automargin\":true,\"type\":\"pie\"}]},\"layout\":{\"autotypenumbers\":\"strict\",\"colorway\":[\"#636efa\",\"#EF553B\",\"#00cc96\",\"#ab63fa\",\"#FFA15A\",\"#19d3f3\",\"#FF6692\",\"#B6E880\",\"#FF97FF\",\"#FECB52\"],\"font\":{\"color\":\"#2a3f5f\"},\"hovermode\":\"closest\",\"hoverlabel\":{\"align\":\"left\"},\"paper_bgcolor\":\"white\",\"plot_bgcolor\":\"#E5ECF6\",\"polar\":{\"bgcolor\":\"#E5ECF6\",\"angularaxis\":{\"gridcolor\":\"white\",\"linecolor\":\"white\",\"ticks\":\"\"},\"radialaxis\":{\"gridcolor\":\"white\",\"linecolor\":\"white\",\"ticks\":\"\"}},\"ternary\":{\"bgcolor\":\"#E5ECF6\",\"aaxis\":{\"gridcolor\":\"white\",\"linecolor\":\"white\",\"ticks\":\"\"},\"baxis\":{\"gridcolor\":\"white\",\"linecolor\":\"white\",\"ticks\":\"\"},\"caxis\":{\"gridcolor\":\"white\",\"linecolor\":\"white\",\"ticks\":\"\"}},\"coloraxis\":{\"colorbar\":{\"outlinewidth\":0,\"ticks\":\"\"}},\"colorscale\":{\"sequential\":[[0.0,\"#0d0887\"],[0.1111111111111111,\"#46039f\"],[0.2222222222222222,\"#7201a8\"],[0.3333333333333333,\"#9c179e\"],[0.4444444444444444,\"#bd3786\"],[0.5555555555555556,\"#d8576b\"],[0.6666666666666666,\"#ed7953\"],[0.7777777777777778,\"#fb9f3a\"],[0.8888888888888888,\"#fdca26\"],[1.0,\"#f0f921\"]],\"sequentialminus\":[[0.0,\"#0d0887\"],[0.1111111111111111,\"#46039f\"],[0.2222222222222222,\"#7201a8\"],[0.3333333333333333,\"#9c179e\"],[0.4444444444444444,\"#bd3786\"],[0.5555555555555556,\"#d8576b\"],[0.6666666666666666,\"#ed7953\"],[0.7777777777777778,\"#fb9f3a\"],[0.8888888888888888,\"#fdca26\"],[1.0,\"#f0f921\"]],\"diverging\":[[0,\"#8e0152\"],[0.1,\"#c51b7d\"],[0.2,\"#de77ae\"],[0.3,\"#f1b6da\"],[0.4,\"#fde0ef\"],[0.5,\"#f7f7f7\"],[0.6,\"#e6f5d0\"],[0.7,\"#b8e186\"],[0.8,\"#7fbc41\"],[0.9,\"#4d9221\"],[1,\"#276419\"]]},\"xaxis\":{\"gridcolor\":\"white\",\"linecolor\":\"white\",\"ticks\":\"\",\"title\":{\"standoff\":15},\"zerolinecolor\":\"white\",\"automargin\":true,\"zerolinewidth\":2},\"yaxis\":{\"gridcolor\":\"white\",\"linecolor\":\"white\",\"ticks\":\"\",\"title\":{\"standoff\":15},\"zerolinecolor\":\"white\",\"automargin\":true,\"zerolinewidth\":2},\"scene\":{\"xaxis\":{\"backgroundcolor\":\"#E5ECF6\",\"gridcolor\":\"white\",\"linecolor\":\"white\",\"showbackground\":true,\"ticks\":\"\",\"zerolinecolor\":\"white\",\"gridwidth\":2},\"yaxis\":{\"backgroundcolor\":\"#E5ECF6\",\"gridcolor\":\"white\",\"linecolor\":\"white\",\"showbackground\":true,\"ticks\":\"\",\"zerolinecolor\":\"white\",\"gridwidth\":2},\"zaxis\":{\"backgroundcolor\":\"#E5ECF6\",\"gridcolor\":\"white\",\"linecolor\":\"white\",\"showbackground\":true,\"ticks\":\"\",\"zerolinecolor\":\"white\",\"gridwidth\":2}},\"shapedefaults\":{\"line\":{\"color\":\"#2a3f5f\"}},\"annotationdefaults\":{\"arrowcolor\":\"#2a3f5f\",\"arrowhead\":0,\"arrowwidth\":1},\"geo\":{\"bgcolor\":\"white\",\"landcolor\":\"#E5ECF6\",\"subunitcolor\":\"white\",\"showland\":true,\"showlakes\":true,\"lakecolor\":\"white\"},\"title\":{\"x\":0.05},\"mapbox\":{\"style\":\"light\"}}},\"title\":{\"text\":\"Genre with Highest Runtime\"},\"xaxis\":{\"title\":{\"text\":\"Genre\"}},\"yaxis\":{\"title\":{\"text\":\"Total Runtime\"}}},                        {\"responsive\": true}                    ).then(function(){\n",
              "                            \n",
              "var gd = document.getElementById('9a5a6a08-40c1-4eb9-a4a0-6ec1252e7844');\n",
              "var x = new MutationObserver(function (mutations, observer) {{\n",
              "        var display = window.getComputedStyle(gd).display;\n",
              "        if (!display || display === 'none') {{\n",
              "            console.log([gd, 'removed!']);\n",
              "            Plotly.purge(gd);\n",
              "            observer.disconnect();\n",
              "        }}\n",
              "}});\n",
              "\n",
              "// Listen for the removal of the full notebook cells\n",
              "var notebookContainer = gd.closest('#notebook-container');\n",
              "if (notebookContainer) {{\n",
              "    x.observe(notebookContainer, {childList: true});\n",
              "}}\n",
              "\n",
              "// Listen for the clearing of the current output cell\n",
              "var outputEl = gd.closest('.output');\n",
              "if (outputEl) {{\n",
              "    x.observe(outputEl, {childList: true});\n",
              "}}\n",
              "\n",
              "                        })                };                });            </script>        </div>"
            ]
          },
          "metadata": {},
          "output_type": "display_data"
        }
      ],
      "source": [
        "import plotly.graph_objects as go\n",
        "\n",
        "\n",
        "genre_runtime = {}\n",
        "for index, row in movies.iterrows():\n",
        "    genres = row['Genre']\n",
        "    runtime = row['Runtime']\n",
        "    \n",
        "    for genre in genres:\n",
        "        if genre in genre_runtime:\n",
        "            genre_runtime[genre] += runtime\n",
        "        else:\n",
        "            genre_runtime[genre] = runtime\n",
        "\n",
        "genre_runtime = pd.DataFrame(list(genre_runtime.items()), columns=['Genre', 'Runtime'])\n",
        "\n",
        "genre_runtime = genre_runtime.sort_values('Runtime', ascending=False)\n",
        "\n",
        "fig = go.Figure(data=[go.Bar(\n",
        "    x=genre_runtime['Genre'],\n",
        "    y=genre_runtime['Runtime'],\n",
        "    marker=dict(color='cyan')\n",
        ")])\n",
        "\n",
        "fig.update_layout(\n",
        "    title='Genre with Highest Runtime',\n",
        "    xaxis=dict(title='Genre'),\n",
        "    yaxis=dict(title='Total Runtime')\n",
        ")\n",
        "\n",
        "fig.show()\n",
        "\n"
      ]
    },
    {
      "cell_type": "code",
      "execution_count": null,
      "metadata": {
        "id": "wzP_RA2_TEDM"
      },
      "outputs": [],
      "source": []
    },
    {
      "cell_type": "code",
      "execution_count": null,
      "metadata": {
        "id": "w84G8hQLTEDN"
      },
      "outputs": [],
      "source": []
    }
  ],
  "metadata": {
    "colab": {
      "provenance": []
    },
    "kernelspec": {
      "display_name": "Python 3 (ipykernel)",
      "language": "python",
      "name": "python3"
    },
    "language_info": {
      "codemirror_mode": {
        "name": "ipython",
        "version": 3
      },
      "file_extension": ".py",
      "mimetype": "text/x-python",
      "name": "python",
      "nbconvert_exporter": "python",
      "pygments_lexer": "ipython3",
      "version": "3.10.9"
    }
  },
  "nbformat": 4,
  "nbformat_minor": 0
}
