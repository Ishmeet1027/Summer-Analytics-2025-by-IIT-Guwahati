{
  "nbformat": 4,
  "nbformat_minor": 0,
  "metadata": {
    "colab": {
      "provenance": []
    },
    "kernelspec": {
      "name": "python3",
      "display_name": "Python 3"
    },
    "language_info": {
      "name": "python"
    } 
  },
  "cells": [
    {
      "cell_type": "markdown",
      "source": [  
        "**Welcome to your first assignment of Summer Analytics 2023! We hope you are excited to implement and test everything you have learnt up until now.<a href = \"https://drive.google.com/file/d/1U73P58VAc4EXM98Or9feKnVx9I9FOP_L/view?usp=sharing\"> The dataset</a> which you'll use includes information about Movies.**"
      ],
      "metadata": {
        "id": "7t7O3hPJQQ1h"
      }
    },
    {
      "cell_type": "markdown",
      "source": [
        " We've got an interesting set of questions for you to get a basic understanding of pandas and data visualization libraries. GOOD LUCK!\n",
        " \n",
        "Let's get started with importing numpy, pandas, seaborn and matplotlib! "
      ],
      "metadata": {
        "id": "8yDZv8F_QiqH"
      }
    },
    {
      "cell_type": "markdown",
      "source": [
        "Note - matplotlib should be imported with the command :\n",
        "\n",
        "**import matplotlib.pyplot as plt**"
      ],
      "metadata": {
        "id": "p-nMuCNQQxx_"
      }
    },
    {
      "cell_type": "markdown",
      "source": [
        "Start by importing all important libraries"
      ],
      "metadata": {
        "id": "nz8BTfnCRC8v"
      }
    },
    {
      "cell_type": "code",
      "execution_count": 72,
      "metadata": {
        "id": "rKkyeMJiO0up"
      },
      "outputs": [],
      "source": [
        "import numpy as np \n",
        "import pandas as pd \n",
        "import matplotlib.pyplot as plt"
      ]
    },
    {
      "cell_type": "markdown",
      "source": [
        "Read the csv file and assign it to a variable ."
      ],
      "metadata": {
        "id": "2N8LabERRONN"
      }
    },
    {
      "cell_type": "code",
      "source": [
        "df=pd.read_csv('imdb_top_1000.csv')"
      ],
      "metadata": {
        "id": "vnjh3IZmRO72"
      },
      "execution_count": 73,
      "outputs": []
    },
    {
      "cell_type": "code",
      "source": [
        "df.info()"
      ],
      "metadata": {
        "colab": {
          "base_uri": "https://localhost:8080/"
        },
        "id": "U0Jl1SG7WcwC",
        "outputId": "a21c232b-e7eb-411d-f4ee-768d81e32ad8"
      },
      "execution_count": 74,
      "outputs": [
        {
          "output_type": "stream",
          "name": "stdout",
          "text": [
            "<class 'pandas.core.frame.DataFrame'>\n",
            "RangeIndex: 1000 entries, 0 to 999\n",
            "Data columns (total 16 columns):\n",
            " #   Column         Non-Null Count  Dtype  \n",
            "---  ------         --------------  -----  \n",
            " 0   Poster_Link    1000 non-null   object \n",
            " 1   Series_Title   1000 non-null   object \n",
            " 2   Released_Year  1000 non-null   object \n",
            " 3   Certificate    899 non-null    object \n",
            " 4   Runtime        1000 non-null   object \n",
            " 5   Genre          1000 non-null   object \n",
            " 6   IMDB_Rating    1000 non-null   float64\n",
            " 7   Overview       1000 non-null   object \n",
            " 8   Meta_score     843 non-null    float64\n",
            " 9   Director       1000 non-null   object \n",
            " 10  Star1          1000 non-null   object \n",
            " 11  Star2          1000 non-null   object \n",
            " 12  Star3          1000 non-null   object \n",
            " 13  Star4          1000 non-null   object \n",
            " 14  No_of_Votes    1000 non-null   int64  \n",
            " 15  Gross          831 non-null    object \n",
            "dtypes: float64(2), int64(1), object(13)\n",
            "memory usage: 125.1+ KB\n"
          ]
        }
      ]
    },
    {
      "cell_type": "code",
      "source": [
        "df.head()"
      ],
      "metadata": {
        "colab": {
          "base_uri": "https://localhost:8080/",
          "height": 721
        },
        "id": "qRsGZjuC6zcm",
        "outputId": "732e1b06-9c8e-49be-8868-63b20a6d388f"
      },
      "execution_count": 75,
      "outputs": [
        {
          "output_type": "execute_result",
          "data": {
            "text/plain": [
              "                                         Poster_Link  \\\n",
              "0  https://m.media-amazon.com/images/M/MV5BMDFkYT...   \n",
              "1  https://m.media-amazon.com/images/M/MV5BM2MyNj...   \n",
              "2  https://m.media-amazon.com/images/M/MV5BMTMxNT...   \n",
              "3  https://m.media-amazon.com/images/M/MV5BMWMwMG...   \n",
              "4  https://m.media-amazon.com/images/M/MV5BMWU4N2...   \n",
              "\n",
              "               Series_Title Released_Year Certificate  Runtime  \\\n",
              "0  The Shawshank Redemption          1994           A  142 min   \n",
              "1             The Godfather          1972           A  175 min   \n",
              "2           The Dark Knight          2008          UA  152 min   \n",
              "3    The Godfather: Part II          1974           A  202 min   \n",
              "4              12 Angry Men          1957           U   96 min   \n",
              "\n",
              "                  Genre  IMDB_Rating  \\\n",
              "0                 Drama          9.3   \n",
              "1          Crime, Drama          9.2   \n",
              "2  Action, Crime, Drama          9.0   \n",
              "3          Crime, Drama          9.0   \n",
              "4          Crime, Drama          9.0   \n",
              "\n",
              "                                            Overview  Meta_score  \\\n",
              "0  Two imprisoned men bond over a number of years...        80.0   \n",
              "1  An organized crime dynasty's aging patriarch t...       100.0   \n",
              "2  When the menace known as the Joker wreaks havo...        84.0   \n",
              "3  The early life and career of Vito Corleone in ...        90.0   \n",
              "4  A jury holdout attempts to prevent a miscarria...        96.0   \n",
              "\n",
              "               Director           Star1           Star2          Star3  \\\n",
              "0        Frank Darabont     Tim Robbins  Morgan Freeman     Bob Gunton   \n",
              "1  Francis Ford Coppola   Marlon Brando       Al Pacino     James Caan   \n",
              "2     Christopher Nolan  Christian Bale    Heath Ledger  Aaron Eckhart   \n",
              "3  Francis Ford Coppola       Al Pacino  Robert De Niro  Robert Duvall   \n",
              "4          Sidney Lumet     Henry Fonda     Lee J. Cobb  Martin Balsam   \n",
              "\n",
              "            Star4  No_of_Votes        Gross  \n",
              "0  William Sadler      2343110   28,341,469  \n",
              "1    Diane Keaton      1620367  134,966,411  \n",
              "2   Michael Caine      2303232  534,858,444  \n",
              "3    Diane Keaton      1129952   57,300,000  \n",
              "4    John Fiedler       689845    4,360,000  "
            ],
            "text/html": [
              "\n",
              "  <div id=\"df-1bd7ae79-6042-4ba2-9823-52c51c7eb4bf\">\n",
              "    <div class=\"colab-df-container\">\n",
              "      <div>\n",
              "<style scoped>\n",
              "    .dataframe tbody tr th:only-of-type {\n",
              "        vertical-align: middle;\n",
              "    }\n",
              "\n",
              "    .dataframe tbody tr th {\n",
              "        vertical-align: top;\n",
              "    }\n",
              "\n",
              "    .dataframe thead th {\n",
              "        text-align: right;\n",
              "    }\n",
              "</style>\n",
              "<table border=\"1\" class=\"dataframe\">\n",
              "  <thead>\n",
              "    <tr style=\"text-align: right;\">\n",
              "      <th></th>\n",
              "      <th>Poster_Link</th>\n",
              "      <th>Series_Title</th>\n",
              "      <th>Released_Year</th>\n",
              "      <th>Certificate</th>\n",
              "      <th>Runtime</th>\n",
              "      <th>Genre</th>\n",
              "      <th>IMDB_Rating</th>\n",
              "      <th>Overview</th>\n",
              "      <th>Meta_score</th>\n",
              "      <th>Director</th>\n",
              "      <th>Star1</th>\n",
              "      <th>Star2</th>\n",
              "      <th>Star3</th>\n",
              "      <th>Star4</th>\n",
              "      <th>No_of_Votes</th>\n",
              "      <th>Gross</th>\n",
              "    </tr>\n",
              "  </thead>\n",
              "  <tbody>\n",
              "    <tr>\n",
              "      <th>0</th>\n",
              "      <td>https://m.media-amazon.com/images/M/MV5BMDFkYT...</td>\n",
              "      <td>The Shawshank Redemption</td>\n",
              "      <td>1994</td>\n",
              "      <td>A</td>\n",
              "      <td>142 min</td>\n",
              "      <td>Drama</td>\n",
              "      <td>9.3</td>\n",
              "      <td>Two imprisoned men bond over a number of years...</td>\n",
              "      <td>80.0</td>\n",
              "      <td>Frank Darabont</td>\n",
              "      <td>Tim Robbins</td>\n",
              "      <td>Morgan Freeman</td>\n",
              "      <td>Bob Gunton</td>\n",
              "      <td>William Sadler</td>\n",
              "      <td>2343110</td>\n",
              "      <td>28,341,469</td>\n",
              "    </tr>\n",
              "    <tr>\n",
              "      <th>1</th>\n",
              "      <td>https://m.media-amazon.com/images/M/MV5BM2MyNj...</td>\n",
              "      <td>The Godfather</td>\n",
              "      <td>1972</td>\n",
              "      <td>A</td>\n",
              "      <td>175 min</td>\n",
              "      <td>Crime, Drama</td>\n",
              "      <td>9.2</td>\n",
              "      <td>An organized crime dynasty's aging patriarch t...</td>\n",
              "      <td>100.0</td>\n",
              "      <td>Francis Ford Coppola</td>\n",
              "      <td>Marlon Brando</td>\n",
              "      <td>Al Pacino</td>\n",
              "      <td>James Caan</td>\n",
              "      <td>Diane Keaton</td>\n",
              "      <td>1620367</td>\n",
              "      <td>134,966,411</td>\n",
              "    </tr>\n",
              "    <tr>\n",
              "      <th>2</th>\n",
              "      <td>https://m.media-amazon.com/images/M/MV5BMTMxNT...</td>\n",
              "      <td>The Dark Knight</td>\n",
              "      <td>2008</td>\n",
              "      <td>UA</td>\n",
              "      <td>152 min</td>\n",
              "      <td>Action, Crime, Drama</td>\n",
              "      <td>9.0</td>\n",
              "      <td>When the menace known as the Joker wreaks havo...</td>\n",
              "      <td>84.0</td>\n",
              "      <td>Christopher Nolan</td>\n",
              "      <td>Christian Bale</td>\n",
              "      <td>Heath Ledger</td>\n",
              "      <td>Aaron Eckhart</td>\n",
              "      <td>Michael Caine</td>\n",
              "      <td>2303232</td>\n",
              "      <td>534,858,444</td>\n",
              "    </tr>\n",
              "    <tr>\n",
              "      <th>3</th>\n",
              "      <td>https://m.media-amazon.com/images/M/MV5BMWMwMG...</td>\n",
              "      <td>The Godfather: Part II</td>\n",
              "      <td>1974</td>\n",
              "      <td>A</td>\n",
              "      <td>202 min</td>\n",
              "      <td>Crime, Drama</td>\n",
              "      <td>9.0</td>\n",
              "      <td>The early life and career of Vito Corleone in ...</td>\n",
              "      <td>90.0</td>\n",
              "      <td>Francis Ford Coppola</td>\n",
              "      <td>Al Pacino</td>\n",
              "      <td>Robert De Niro</td>\n",
              "      <td>Robert Duvall</td>\n",
              "      <td>Diane Keaton</td>\n",
              "      <td>1129952</td>\n",
              "      <td>57,300,000</td>\n",
              "    </tr>\n",
              "    <tr>\n",
              "      <th>4</th>\n",
              "      <td>https://m.media-amazon.com/images/M/MV5BMWU4N2...</td>\n",
              "      <td>12 Angry Men</td>\n",
              "      <td>1957</td>\n",
              "      <td>U</td>\n",
              "      <td>96 min</td>\n",
              "      <td>Crime, Drama</td>\n",
              "      <td>9.0</td>\n",
              "      <td>A jury holdout attempts to prevent a miscarria...</td>\n",
              "      <td>96.0</td>\n",
              "      <td>Sidney Lumet</td>\n",
              "      <td>Henry Fonda</td>\n",
              "      <td>Lee J. Cobb</td>\n",
              "      <td>Martin Balsam</td>\n",
              "      <td>John Fiedler</td>\n",
              "      <td>689845</td>\n",
              "      <td>4,360,000</td>\n",
              "    </tr>\n",
              "  </tbody>\n",
              "</table>\n",
              "</div>\n",
              "      <button class=\"colab-df-convert\" onclick=\"convertToInteractive('df-1bd7ae79-6042-4ba2-9823-52c51c7eb4bf')\"\n",
              "              title=\"Convert this dataframe to an interactive table.\"\n",
              "              style=\"display:none;\">\n",
              "        \n",
              "  <svg xmlns=\"http://www.w3.org/2000/svg\" height=\"24px\"viewBox=\"0 0 24 24\"\n",
              "       width=\"24px\">\n",
              "    <path d=\"M0 0h24v24H0V0z\" fill=\"none\"/>\n",
              "    <path d=\"M18.56 5.44l.94 2.06.94-2.06 2.06-.94-2.06-.94-.94-2.06-.94 2.06-2.06.94zm-11 1L8.5 8.5l.94-2.06 2.06-.94-2.06-.94L8.5 2.5l-.94 2.06-2.06.94zm10 10l.94 2.06.94-2.06 2.06-.94-2.06-.94-.94-2.06-.94 2.06-2.06.94z\"/><path d=\"M17.41 7.96l-1.37-1.37c-.4-.4-.92-.59-1.43-.59-.52 0-1.04.2-1.43.59L10.3 9.45l-7.72 7.72c-.78.78-.78 2.05 0 2.83L4 21.41c.39.39.9.59 1.41.59.51 0 1.02-.2 1.41-.59l7.78-7.78 2.81-2.81c.8-.78.8-2.07 0-2.86zM5.41 20L4 18.59l7.72-7.72 1.47 1.35L5.41 20z\"/>\n",
              "  </svg>\n",
              "      </button>\n",
              "      \n",
              "  <style>\n",
              "    .colab-df-container {\n",
              "      display:flex;\n",
              "      flex-wrap:wrap;\n",
              "      gap: 12px;\n",
              "    }\n",
              "\n",
              "    .colab-df-convert {\n",
              "      background-color: #E8F0FE;\n",
              "      border: none;\n",
              "      border-radius: 50%;\n",
              "      cursor: pointer;\n",
              "      display: none;\n",
              "      fill: #1967D2;\n",
              "      height: 32px;\n",
              "      padding: 0 0 0 0;\n",
              "      width: 32px;\n",
              "    }\n",
              "\n",
              "    .colab-df-convert:hover {\n",
              "      background-color: #E2EBFA;\n",
              "      box-shadow: 0px 1px 2px rgba(60, 64, 67, 0.3), 0px 1px 3px 1px rgba(60, 64, 67, 0.15);\n",
              "      fill: #174EA6;\n",
              "    }\n",
              "\n",
              "    [theme=dark] .colab-df-convert {\n",
              "      background-color: #3B4455;\n",
              "      fill: #D2E3FC;\n",
              "    }\n",
              "\n",
              "    [theme=dark] .colab-df-convert:hover {\n",
              "      background-color: #434B5C;\n",
              "      box-shadow: 0px 1px 3px 1px rgba(0, 0, 0, 0.15);\n",
              "      filter: drop-shadow(0px 1px 2px rgba(0, 0, 0, 0.3));\n",
              "      fill: #FFFFFF;\n",
              "    }\n",
              "  </style>\n",
              "\n",
              "      <script>\n",
              "        const buttonEl =\n",
              "          document.querySelector('#df-1bd7ae79-6042-4ba2-9823-52c51c7eb4bf button.colab-df-convert');\n",
              "        buttonEl.style.display =\n",
              "          google.colab.kernel.accessAllowed ? 'block' : 'none';\n",
              "\n",
              "        async function convertToInteractive(key) {\n",
              "          const element = document.querySelector('#df-1bd7ae79-6042-4ba2-9823-52c51c7eb4bf');\n",
              "          const dataTable =\n",
              "            await google.colab.kernel.invokeFunction('convertToInteractive',\n",
              "                                                     [key], {});\n",
              "          if (!dataTable) return;\n",
              "\n",
              "          const docLinkHtml = 'Like what you see? Visit the ' +\n",
              "            '<a target=\"_blank\" href=https://colab.research.google.com/notebooks/data_table.ipynb>data table notebook</a>'\n",
              "            + ' to learn more about interactive tables.';\n",
              "          element.innerHTML = '';\n",
              "          dataTable['output_type'] = 'display_data';\n",
              "          await google.colab.output.renderOutput(dataTable, element);\n",
              "          const docLink = document.createElement('div');\n",
              "          docLink.innerHTML = docLinkHtml;\n",
              "          element.appendChild(docLink);\n",
              "        }\n",
              "      </script>\n",
              "    </div>\n",
              "  </div>\n",
              "  "
            ]
          },
          "metadata": {},
          "execution_count": 75
        }
      ]
    },
    {
      "cell_type": "markdown",
      "source": [
        "Display shape of dataframe"
      ],
      "metadata": {
        "id": "EifdwomBRPxy"
      }
    },
    {
      "cell_type": "code",
      "source": [
        "df.shape"
      ],
      "metadata": {
        "id": "lM8S9INfRSt3",
        "colab": {
          "base_uri": "https://localhost:8080/"
        },
        "outputId": "8b174f07-afef-4697-aa5b-ae3224a7a9eb"
      },
      "execution_count": 76,
      "outputs": [
        {
          "output_type": "execute_result",
          "data": {
            "text/plain": [
              "(1000, 16)"
            ]
          },
          "metadata": {},
          "execution_count": 76
        }
      ]
    },
    {
      "cell_type": "markdown",
      "source": [
        "Print all columns of dataframe"
      ],
      "metadata": {
        "id": "Q9xTIt54RVTY"
      }
    },
    {
      "cell_type": "code",
      "source": [
        "df.columns"
      ],
      "metadata": {
        "id": "kn3VPvn6RV4_",
        "colab": {
          "base_uri": "https://localhost:8080/"
        },
        "outputId": "b6c56462-550a-4e43-c6e0-31b56add4699"
      },
      "execution_count": 77,
      "outputs": [
        {
          "output_type": "execute_result",
          "data": {
            "text/plain": [
              "Index(['Poster_Link', 'Series_Title', 'Released_Year', 'Certificate',\n",
              "       'Runtime', 'Genre', 'IMDB_Rating', 'Overview', 'Meta_score', 'Director',\n",
              "       'Star1', 'Star2', 'Star3', 'Star4', 'No_of_Votes', 'Gross'],\n",
              "      dtype='object')"
            ]
          },
          "metadata": {},
          "execution_count": 77
        }
      ]
    },
    {
      "cell_type": "markdown",
      "source": [
        "Remove the column 'Poster_Link' and update the dataframe."
      ],
      "metadata": {
        "id": "3jtm084KRleN"
      }
    },
    {
      "cell_type": "code",
      "source": [
        "df=df.drop('Poster_Link', axis=1)"
      ],
      "metadata": {
        "id": "zYIz3q0ARnuU"
      },
      "execution_count": 78,
      "outputs": []
    },
    {
      "cell_type": "markdown",
      "source": [
        "Set the 'Series_Title' column as the index of dataframe"
      ],
      "metadata": {
        "id": "ss6QYp4YRrfY"
      }
    },
    {
      "cell_type": "code",
      "source": [
        "df = df.set_index('Series_Title')"
      ],
      "metadata": {
        "id": "iXNaEmTkR3tB"
      },
      "execution_count": 79,
      "outputs": []
    },
    {
      "cell_type": "markdown",
      "source": [
        "Print a list of all the unique Genre"
      ],
      "metadata": {
        "id": "f6cj49w0R4PS"
      }
    },
    {
      "cell_type": "code",
      "source": [
        "df['Genre'].unique()"
      ],
      "metadata": {
        "id": "CO4kbBsySVjr",
        "colab": {
          "base_uri": "https://localhost:8080/"
        },
        "outputId": "2d9ab962-0aa9-41ca-eb3e-9b4dd469e0f7"
      },
      "execution_count": 80,
      "outputs": [
        {
          "output_type": "execute_result",
          "data": {
            "text/plain": [
              "array(['Drama', 'Crime, Drama', 'Action, Crime, Drama',\n",
              "       'Action, Adventure, Drama', 'Biography, Drama, History',\n",
              "       'Action, Adventure, Sci-Fi', 'Drama, Romance', 'Western',\n",
              "       'Action, Sci-Fi', 'Biography, Crime, Drama',\n",
              "       'Action, Adventure, Fantasy', 'Comedy, Drama, Thriller',\n",
              "       'Adventure, Drama, Sci-Fi', 'Animation, Adventure, Family',\n",
              "       'Drama, War', 'Crime, Drama, Fantasy', 'Comedy, Drama, Romance',\n",
              "       'Crime, Drama, Mystery', 'Crime, Drama, Thriller',\n",
              "       'Action, Drama, Mystery', 'Drama, Family, Fantasy', 'Drama, Music',\n",
              "       'Biography, Comedy, Drama', 'Drama, Mystery, Sci-Fi',\n",
              "       'Biography, Drama, Music', 'Crime, Mystery, Thriller',\n",
              "       'Animation, Adventure, Drama', 'Animation, Drama, War',\n",
              "       'Adventure, Comedy, Sci-Fi', 'Horror, Mystery, Thriller',\n",
              "       'Drama, Romance, War', 'Comedy, Drama, Family',\n",
              "       'Animation, Drama, Fantasy', 'Action, Biography, Drama',\n",
              "       'Animation, Action, Adventure', 'Drama, Western',\n",
              "       'Action, Adventure', 'Comedy, Drama', 'Drama, Family',\n",
              "       'Drama, Mystery, Thriller', 'Mystery, Thriller', 'Drama, Horror',\n",
              "       'Drama, Mystery, War', 'Horror, Sci-Fi', 'Drama, Musical',\n",
              "       'Comedy', 'Drama, Film-Noir', 'Comedy, Drama, War',\n",
              "       'Drama, Thriller, War', 'Drama, Fantasy, Horror',\n",
              "       'Crime, Drama, Music', 'Adventure, Drama, War',\n",
              "       'Drama, Romance, Sci-Fi', 'Comedy, Romance', 'Comedy, Crime',\n",
              "       'Drama, Family, Sport', 'Animation, Adventure, Comedy',\n",
              "       'Adventure, Drama, Thriller', 'Comedy, Crime, Drama',\n",
              "       'Crime, Drama, Sci-Fi', 'Adventure, Sci-Fi',\n",
              "       'Adventure, Biography, Drama', 'Adventure, Mystery, Thriller',\n",
              "       'Mystery, Romance, Thriller', 'Comedy, Musical, Romance',\n",
              "       'Crime, Drama, Film-Noir', 'Drama, Mystery', 'Drama, Sci-Fi',\n",
              "       'Action, Drama, War', 'Action, Drama', 'Adventure, Comedy, Drama',\n",
              "       'Biography, Drama, Sport', 'Action, Comedy, Crime',\n",
              "       'Action, Biography, Crime', 'Drama, Mystery, Romance',\n",
              "       'Action, Drama, Sport', 'Drama, Fantasy, War',\n",
              "       'Action, Drama, Sci-Fi', 'Biography, Drama',\n",
              "       'Action, Comedy, Romance', 'Animation, Family, Fantasy',\n",
              "       'Action, Thriller', 'Action, Adventure, Comedy',\n",
              "       'Adventure, Comedy, Fantasy', 'Adventure, Drama, History',\n",
              "       'Action, Drama, Thriller', 'Comedy, Music, Romance',\n",
              "       'Drama, Fantasy, History', 'Crime, Thriller',\n",
              "       'Adventure, Drama, Western', 'Comedy, War', 'Drama, Thriller',\n",
              "       'Animation, Drama, Family', 'Drama, Romance, Thriller',\n",
              "       'Comedy, Drama, Musical', 'Comedy, Drama, Fantasy',\n",
              "       'Adventure, Comedy, Crime', 'Adventure, Drama, Fantasy',\n",
              "       'Biography, Drama, Family', 'Animation, Comedy, Drama',\n",
              "       'Drama, Sport', 'Animation, Action, Drama',\n",
              "       'Adventure, Drama, Musical', 'Drama, Music, Romance',\n",
              "       'Comedy, Crime, Romance', 'Comedy, Crime, Sport',\n",
              "       'Drama, History, Romance', 'Adventure, Drama',\n",
              "       'Animation, Adventure, Fantasy', 'Horror, Mystery, Sci-Fi',\n",
              "       'Drama, Fantasy, Music', 'Action, Sci-Fi, Thriller',\n",
              "       'Drama, Fantasy', 'Drama, Horror, Thriller', 'Drama, History',\n",
              "       'Film-Noir, Mystery, Thriller', 'Fantasy, Horror, Mystery',\n",
              "       'Action, Crime, Thriller', 'Comedy, Drama, Music',\n",
              "       'Biography, Drama, Thriller', 'Animation, Biography, Drama',\n",
              "       'Action, Mystery, Thriller', 'Crime, Drama, Romance',\n",
              "       'Action, Adventure, Thriller', 'Crime, Drama, Musical',\n",
              "       'Animation, Crime, Mystery', 'Action, Crime, Comedy',\n",
              "       'Mystery, Sci-Fi, Thriller', 'Animation, Action, Crime',\n",
              "       'Comedy, Fantasy, Romance', 'Drama, History, Thriller',\n",
              "       'Animation, Action, Sci-Fi', 'Adventure, Family, Fantasy',\n",
              "       'Drama, Fantasy, Romance', 'Drama, History, War',\n",
              "       'Adventure, Thriller', 'Horror', 'Drama, Family, Musical',\n",
              "       'Action, Drama, Western', 'Crime, Drama, Horror',\n",
              "       'Drama, Film-Noir, Mystery', 'Comedy, Crime, Thriller',\n",
              "       'Film-Noir, Mystery', 'Comedy, Crime, Mystery',\n",
              "       'Drama, Fantasy, Mystery', 'Comedy, Horror',\n",
              "       'Action, Adventure, History', 'Drama, Music, Mystery',\n",
              "       'Comedy, Music', 'Comedy, Family', 'Drama, Music, Musical',\n",
              "       'Action, Adventure, Horror', 'Action, Adventure, Biography',\n",
              "       'Biography, Drama, War', 'Action, Adventure, Western',\n",
              "       'Horror, Thriller', 'Comedy, Mystery, Romance',\n",
              "       'Drama, Thriller, Western', 'Crime, Film-Noir, Thriller',\n",
              "       'Drama, Film-Noir, Romance', 'Crime, Film-Noir, Mystery',\n",
              "       'Action, Adventure, Romance', 'Comedy, Music, Musical',\n",
              "       'Adventure, Horror, Sci-Fi', 'Fantasy, Horror',\n",
              "       'Action, Drama, History', 'Adventure, Comedy, Family',\n",
              "       'Animation, Biography, Crime', 'Adventure, Biography, Crime',\n",
              "       'Adventure, Fantasy', 'Drama, History, Mystery',\n",
              "       'Action, Comedy, Mystery', 'Adventure, Drama, Romance',\n",
              "       'Drama, Sci-Fi, Thriller', 'Crime, Drama, History',\n",
              "       'Action, Comedy, Fantasy', 'Family, Sci-Fi',\n",
              "       'Adventure, History, War', 'Animation, Sci-Fi',\n",
              "       'Family, Fantasy, Musical', 'Thriller', 'Comedy, Family, Fantasy',\n",
              "       'Adventure, Comedy, Film-Noir', 'Film-Noir, Thriller',\n",
              "       'Comedy, Family, Romance', 'Drama, Horror, Sci-Fi',\n",
              "       'Comedy, Musical, War', 'Biography, Drama, Romance',\n",
              "       'Drama, History, Music', 'Animation, Action, Fantasy',\n",
              "       'Animation, Comedy, Fantasy', 'Comedy, Western',\n",
              "       'Action, Adventure, War', 'Drama, Horror, Mystery',\n",
              "       'Animation, Comedy, Crime', 'Action, Adventure, Crime',\n",
              "       'Action, Adventure, Mystery', 'Action, Adventure, Family',\n",
              "       'Action, Crime, Mystery', 'Animation, Drama, Romance',\n",
              "       'Drama, War, Western', 'Adventure, Comedy, War'], dtype=object)"
            ]
          },
          "metadata": {},
          "execution_count": 80
        }
      ]
    },
    {
      "cell_type": "markdown",
      "source": [
        "1. What is the Number of Directors in the given dataset ? "
      ],
      "metadata": {
        "id": "Dfj_ZoVBS97W"
      }
    },
    {
      "cell_type": "code",
      "source": [
        "df['Director'].unique()"
      ],
      "metadata": {
        "id": "92f8NLciTIU_",
        "colab": {
          "base_uri": "https://localhost:8080/"
        },
        "outputId": "18de7444-a9ee-4dbf-b6e1-435ca9014b3c"
      },
      "execution_count": 81,
      "outputs": [
        {
          "output_type": "execute_result",
          "data": {
            "text/plain": [
              "array(['Frank Darabont', 'Francis Ford Coppola', 'Christopher Nolan',\n",
              "       'Sidney Lumet', 'Peter Jackson', 'Quentin Tarantino',\n",
              "       'Steven Spielberg', 'David Fincher', 'Robert Zemeckis',\n",
              "       'Sergio Leone', 'Lana Wachowski', 'Martin Scorsese',\n",
              "       'Irvin Kershner', 'Milos Forman', 'Thomas Kail', 'Bong Joon Ho',\n",
              "       'Sudha Kongara', 'Fernando Meirelles', 'Hayao Miyazaki',\n",
              "       'Roberto Benigni', 'Jonathan Demme', 'George Lucas',\n",
              "       'Masaki Kobayashi', 'Akira Kurosawa', 'Frank Capra',\n",
              "       'Todd Phillips', 'Damien Chazelle', 'Olivier Nakache',\n",
              "       'Roman Polanski', 'Ridley Scott', 'Tony Kaye', 'Bryan Singer',\n",
              "       'Luc Besson', 'Roger Allers', 'James Cameron',\n",
              "       'Giuseppe Tornatore', 'Isao Takahata', 'Alfred Hitchcock',\n",
              "       'Michael Curtiz', 'Charles Chaplin', 'Nadine Labaki', 'Can Ulkay',\n",
              "       'Gayatri', 'Makoto Shinkai', 'Nitesh Tiwari', 'Bob Persichetti',\n",
              "       'Anthony Russo', 'Lee Unkrich', 'Rajkumar Hirani', 'Aamir Khan',\n",
              "       'Andrew Stanton', 'Florian Henckel von Donnersmarck',\n",
              "       'Chan-wook Park', 'Stanley Kubrick', 'Hrishikesh Mukherjee',\n",
              "       'Billy Wilder', 'Sam Mendes', 'Rahi Anil Barve', 'Sriram Raghavan',\n",
              "       'Jeethu Joseph', 'Thomas Vinterberg', 'Asghar Farhadi',\n",
              "       'Denis Villeneuve', 'Mehmet Ada Öztekin', 'Çagan Irmak',\n",
              "       'Michel Gondry', 'Jean-Pierre Jeunet', 'Guy Ritchie',\n",
              "       'Darren Aronofsky', 'Gus Van Sant', 'Majid Majidi',\n",
              "       'John Lasseter', 'Mel Gibson', 'Elem Klimov', 'Brian De Palma',\n",
              "       'Richard Marquand', 'Wolfgang Petersen', 'George Roy Hill',\n",
              "       'David Lean', 'Stanley Donen', 'Vittorio De Sica', 'Orson Welles',\n",
              "       'Fritz Lang', 'Aditya Dhar', 'Prashanth Neel', 'Peter Farrelly',\n",
              "       'Martin McDonagh', 'Meghna Gulzar', 'S.S. Rajamouli',\n",
              "       'Sergio Pablos', 'Nishikant Kamat', 'Vikas Bahl', 'Zaza Urushadze',\n",
              "       'Rakeysh Omprakash Mehra', 'Anurag Kashyap',\n",
              "       'Vikramaditya Motwane', 'Tigmanshu Dhulia', 'Juan José Campanella',\n",
              "       \"Gavin O'Connor\", 'Pete Docter', 'Shimit Amin',\n",
              "       'Paul Thomas Anderson', 'Guillermo del Toro', 'James McTeigue',\n",
              "       'Sanjay Leela Bhansali', 'Ashutosh Gowariker',\n",
              "       'Oliver Hirschbiegel', 'Ron Howard', 'Priyadarshan',\n",
              "       'Curtis Hanson', 'Yavuz Turgul', 'Michael Mann',\n",
              "       'Rajkumar Santoshi', 'Clint Eastwood', 'Emir Kusturica',\n",
              "       'John McTiernan', 'Andrei Tarkovsky', 'Ingmar Bergman',\n",
              "       'Moustapha Akkad', 'Ramesh Sippy', 'Terry Gilliam', 'John Sturges',\n",
              "       'Robert Mulligan', 'Stanley Kramer', 'Jules Dassin',\n",
              "       'Yasujirô Ozu', 'Joseph L. Mankiewicz', 'John Huston',\n",
              "       'Ernst Lubitsch', 'Buster Keaton', 'Céline Sciamma',\n",
              "       'Aniruddha Roy Chowdhury', 'Naoko Yamada', 'Oriol Paulo',\n",
              "       'Xavier Dolan', 'Vishal Bhardwaj', 'James Mangold',\n",
              "       'Lenny Abrahamson', 'Damián Szifron', 'Nuri Bilge Ceylan',\n",
              "       'Umesh Shukla', 'Wes Anderson', 'Mamoru Hosoda', 'Anurag Basu',\n",
              "       'Steve McQueen', 'Tom McCarthy', 'Tomm Moore', 'Sujoy Ghosh',\n",
              "       'Zoya Akhtar', 'George Miller', 'Neeraj Pandey', 'David Yates',\n",
              "       'Yôjirô Takita', 'Lasse Hallström', 'Adam Elliot', 'Dean DeBlois',\n",
              "       'Sean Penn', 'Ethan Coen', 'Terry George', 'Je-kyu Kang',\n",
              "       'Richard Linklater', 'Farhan Akhtar', 'Alejandro G. Iñárritu',\n",
              "       'Hideaki Anno', 'M. Night Shyamalan', 'Peter Weir', 'Joel Coen',\n",
              "       'Kar-Wai Wong', 'Danny Boyle', 'Mathieu Kassovitz',\n",
              "       'Aditya Chopra', 'Krzysztof Kieslowski', 'Jim Sheridan',\n",
              "       'Kaige Chen', 'Yimou Zhang', 'Rob Reiner', 'Oliver Stone',\n",
              "       'Wim Wenders', 'John Carpenter', 'Alan Parker', 'Werner Herzog',\n",
              "       'David Lynch', 'Terry Jones', 'Michael Cimino', 'John G. Avildsen',\n",
              "       'Peter Bogdanovich', 'Jean-Pierre Melville', 'Stuart Rosenberg',\n",
              "       'Gillo Pontecorvo', 'Luis Buñuel', 'Robert Aldrich', 'John Ford',\n",
              "       'François Truffaut', 'William Wyler', 'Federico Fellini',\n",
              "       'Elia Kazan', 'Henri-Georges Clouzot', 'Raoul Walsh', 'Carol Reed',\n",
              "       'Michael Powell', 'Victor Fleming', 'Jean Renoir',\n",
              "       'Carl Theodor Dreyer', 'F.W. Murnau', 'Clyde Bruckman',\n",
              "       'Robert Wiene', 'Amit Ravindernath Sharma', 'Ericson Core',\n",
              "       'Raja Menon', 'Kabir Khan', 'Garth Davis', 'Byron Howard',\n",
              "       'Stephen Chbosky', 'Destin Daniel Cretton', 'Gareth Evans',\n",
              "       'Morten Tyldum', 'James Gunn', 'Spike Jonze', 'José Padilha',\n",
              "       'Tom Hooper', 'Tate Taylor', 'Tim Miller', 'Wilson Yip',\n",
              "       'Karan Johar', 'Levent Semerci', 'Joss Whedon',\n",
              "       'Vincent Paronnaud', 'Jean-Marc Vallée', 'Gabriele Muccino',\n",
              "       'Edward Zwick', 'Paul Greengrass', 'Ki-duk Kim', 'Frank Miller',\n",
              "       'Julian Schnabel', 'Ömer Faruk Sorak', 'Brad Bird',\n",
              "       'Martin Campbell', 'Andrey Zvyagintsev', 'Alejandro Amenábar',\n",
              "       'Nikkhil Advani', 'Andrew Lau', 'Gore Verbinski', 'Tim Burton',\n",
              "       'Jae-young Kwak', 'Lars von Trier', 'Yilmaz Erdogan',\n",
              "       'Richard Kelly', 'Satoshi Kon', 'Walter Salles', 'Thomas Jahn',\n",
              "       'Billy Bob Thornton', 'Mike Leigh', 'Mamoru Oshii', 'Henry Selick',\n",
              "       'Harold Ramis', 'Taylor Hackford', 'Martin Brest', 'Ron Clements',\n",
              "       'Gary Trousdale', 'Kevin Costner', 'Spike Lee', 'Barry Levinson',\n",
              "       'Katsuhiro Ôtomo', 'Louis Malle', 'Richard Attenborough',\n",
              "       'Hal Ashby', 'Woody Allen', 'Mel Brooks', 'Franklin J. Schaffner',\n",
              "       'William Friedkin', 'Norman Jewison', 'Bernardo Bertolucci',\n",
              "       'Mike Nichols', 'Robert Wise', 'Jean-Luc Godard', 'Robert Rossen',\n",
              "       'Howard Hawks', 'Otto Preminger', 'Richard Brooks',\n",
              "       'Alexander Mackendrick', 'Charles Laughton', 'Nicholas Ray',\n",
              "       'Robert Hamer', 'Jacques Tourneur', 'W.S. Van Dyke',\n",
              "       'Lewis Milestone', 'Sergei M. Eisenstein', 'Rian Johnson',\n",
              "       'Mukesh Chhabra', 'Hirokazu Koreeda', 'Noah Baumbach',\n",
              "       'Luca Guadagnino', 'Ken Loach', 'Taika Waititi', 'Matt Ross',\n",
              "       'John Carney', 'Dan Gilroy', 'J.J. Abrams', 'Michel Hazanavicius',\n",
              "       'Doug Liman', 'Michael Haneke', 'Jacques Audiard', 'Duncan Jones',\n",
              "       'Tomas Alfredson', 'Neill Blomkamp', 'Imtiaz Ali',\n",
              "       'Cristian Mungiu', 'Richard Schenkman', 'Tarsem Singh', 'Ang Lee',\n",
              "       'Christophe Barratier', 'Jon Favreau', 'Edgar Wright',\n",
              "       'Fatih Akin', 'Alfonso Cuarón', 'Pedro Almodóvar', 'Danis Tanovic',\n",
              "       \"Shin'ichirô Watanabe\", 'Fabián Bielinsky', 'Cameron Crowe',\n",
              "       'Yoshifumi Kondô', 'Lee Tamahori', 'Tony Scott',\n",
              "       'Yoshiaki Kawajiri', 'Bob Clark', 'John Landis', 'Bob Fosse',\n",
              "       'George A. Romero', 'Alan J. Pakula', 'Alejandro Jodorowsky',\n",
              "       'Sam Peckinpah', 'Anthony Harvey', 'John Frankenheimer',\n",
              "       'Michelangelo Antonioni', 'Alain Resnais', 'Cecil B. DeMille',\n",
              "       'Fred Zinnemann', 'Henry Koster', 'George Seaton', 'George Cukor',\n",
              "       'Sam Wood', 'Merian C. Cooper', 'Tod Browning', 'Darius Marder',\n",
              "       'Paolo Genovese', 'Theodore Melfi', 'Paul King',\n",
              "       'Abhishek Chaubey', 'Travis Knight', 'Kenneth Lonergan',\n",
              "       'Martin Zandvliet', 'Gareth Edwards', 'Greta Gerwig',\n",
              "       'Dorota Kobiela', 'Matthew Warchus', 'Paolo Sorrentino',\n",
              "       'Ritesh Batra', 'Shoojit Sircar', 'Don Hall', 'Richard Curtis',\n",
              "       'Gauri Shinde', 'Josh Cooley', 'Adam McKay', 'Tetsuya Nakashima',\n",
              "       'Jee-woon Kim', 'Jeong-beom Lee', 'F. Gary Gray', 'Hong-jin Na',\n",
              "       'Niels Arden Oplev', 'Aaron Sorkin', 'David O. Russell',\n",
              "       'Pierre Morel', 'Mark Herman', 'Joe Wright',\n",
              "       'Nicolas Winding Refn', 'Jaco Van Dormael', 'Jonathan Dayton',\n",
              "       'Yash Chopra', 'Anders Thomas Jensen', 'Roger Donaldson',\n",
              "       'Mikael Håfström', 'Nick Cassavetes', 'Lukas Moodysson',\n",
              "       'Sylvain Chomet', 'Kevin Reynolds', 'Boaz Yakin', 'Troy Duffy',\n",
              "       'Joe Johnston', 'Andrew Adamson', 'Takeshi Kitano',\n",
              "       'Andrew Niccol', 'George P. Cosmatos', 'David Mickey Evans',\n",
              "       'James Ivory', 'Andrew Davis', 'Robert De Niro', 'Kevin Altieri',\n",
              "       'John Woo', 'Jim Jarmusch', 'John Singleton', 'Penny Marshall',\n",
              "       'Sam Raimi', 'John Hughes', 'Richard Donner', 'Roland Joffé',\n",
              "       'Ivan Reitman', 'Philip Kaufman', 'Robert Benton',\n",
              "       'Terrence Malick', 'René Laloux', 'Mel Stuart', 'John Schlesinger',\n",
              "       'Terence Young', 'Arthur Penn', 'Robert Stevenson', 'Ken Annakin',\n",
              "       'Jack Clayton', 'James Whale', 'Leo McCarey', 'Francis Lee',\n",
              "       'David Leitch', 'Taylor Sheridan', 'Jordan Peele',\n",
              "       'Christopher McQuarrie', 'Hannes Holm', 'Jemaine Clement',\n",
              "       'James Simone', 'James Marsh', 'Matthew Vaughn', 'Josh Boone',\n",
              "       'Alfonso Gomez-Rejon', 'Abdellatif Kechiche', 'Abhishek Kapoor',\n",
              "       'Felix van Groeningen', 'Alexander Payne', 'Rich Moore',\n",
              "       'Mark Osborne', 'Christopher Miller', 'Cary Joji Fukunaga',\n",
              "       'Ben Affleck', 'Marc Webb', 'Shûsuke Kaneko', 'Shane Meadows',\n",
              "       'Alex Garland', 'Susanne Bier', 'Kevin Macdonald', 'Paul McGuigan',\n",
              "       'Christian Carion', 'Anton Corbijn', 'Nathan Greno',\n",
              "       'Paul Verhoeven', 'Paul Haggis', 'Stephen Chow', 'Brad Anderson',\n",
              "       'Sofia Coppola', 'Mike Newell', 'Peter Mullan', 'Wolfgang Becker',\n",
              "       'Jessie Nelson', 'Stephen Daldry', 'John Cameron Mitchell',\n",
              "       'Steven Soderbergh', 'Bob Gale', 'Trey Parker', 'Mike Judge',\n",
              "       'Todd Solondz', 'Antoine Fuqua', 'James L. Brooks',\n",
              "       'Francis Veber', 'Scott Hicks', 'Gregory Hoblit',\n",
              "       'Kenneth Branagh', 'Michael Radford', 'Kevin Smith',\n",
              "       'Robert Altman', 'Brian Henson', 'James Foley', 'Jon Avnet',\n",
              "       'George Sluizer', 'Bruce Robinson', 'Jean-Jacques Annaud',\n",
              "       'Nicholas Meyer', 'Ted Kotcheff', 'Robert Redford', 'Jim Abrahams',\n",
              "       'Joseph Sargent', 'Robert Clouse', 'John Boorman', 'Don Siegel',\n",
              "       'Brian G. Hutton', 'Gene Saks', 'Cy Endfield', 'Guy Hamilton',\n",
              "       'J. Lee Thompson', 'Georges Franju', 'Charles Vidor',\n",
              "       'James Algar', 'Todd Haynes', 'Aneesh Chaganty', 'Sean Baker',\n",
              "       'Tyler Nilson', 'Sebastian Schipper', 'Deniz Gamze Ergüven',\n",
              "       'Joseph Kosinski', 'Ryan Coogler', 'David Mackenzie',\n",
              "       'Stephen Frears', 'Matt Reeves', 'David Ayer',\n",
              "       'Hiromasa Yonebayashi', 'Bradley Cooper', 'Pierre Coffin',\n",
              "       'Jonathan Levine', 'Daniel Monzón', 'Bennett Miller',\n",
              "       'Ruben Fleischer', 'Dennis Gansel', 'John Lee Hancock',\n",
              "       'David Cronenberg', 'Olivier Dahan', 'Ronny Yu', 'Neil Burger',\n",
              "       'Zack Snyder', 'James Wan', 'Charlie Kaufman', 'Gregg Araki',\n",
              "       'Yann Samuell', 'Marc Forster', 'Eric Bress', 'Kinji Fukasaku',\n",
              "       'Chris Columbus', 'Ted Demme', 'Mary Harron', 'Tom Tykwer',\n",
              "       'Tony Bancroft', 'Alex Proyas', 'Joel Schumacher', 'Jonathan Lynn',\n",
              "       'Marc Caro', 'David Zucker', 'Mark Rydell', 'Walter Hill',\n",
              "       'James Frawley', 'Martin Rosen', 'Wolfgang Reitherman',\n",
              "       'Richard Lester', 'Blake Edwards', 'George Stevens'], dtype=object)"
            ]
          },
          "metadata": {},
          "execution_count": 81
        }
      ]
    },
    {
      "cell_type": "markdown",
      "source": [
        "2. What is the mean, median and standard deviation of IMDB rating in the dataset ?"
      ],
      "metadata": {
        "id": "5UnvBViyTOc9"
      }
    },
    {
      "cell_type": "code",
      "source": [
        "df['IMDB_Rating'].describe()"
      ],
      "metadata": {
        "id": "sOL7O83LTg30",
        "colab": {
          "base_uri": "https://localhost:8080/"
        },
        "outputId": "0f965817-48b9-4566-c2d3-30ea9cde60ac"
      },
      "execution_count": 82,
      "outputs": [
        {
          "output_type": "execute_result",
          "data": {
            "text/plain": [
              "count    1000.000000\n",
              "mean        7.949300\n",
              "std         0.275491\n",
              "min         7.600000\n",
              "25%         7.700000\n",
              "50%         7.900000\n",
              "75%         8.100000\n",
              "max         9.300000\n",
              "Name: IMDB_Rating, dtype: float64"
            ]
          },
          "metadata": {},
          "execution_count": 82
        }
      ]
    },
    {
      "cell_type": "code",
      "source": [
        "df['IMDB_Rating'].median()"
      ],
      "metadata": {
        "id": "jJ6Kb4q4zpc5",
        "outputId": "784eae80-b848-40ac-c70e-4222992d1712",
        "colab": {
          "base_uri": "https://localhost:8080/"
        }
      },
      "execution_count": 83,
      "outputs": [
        {
          "output_type": "execute_result",
          "data": {
            "text/plain": [
              "7.9"
            ]
          },
          "metadata": {},
          "execution_count": 83
        }
      ]
    },
    {
      "cell_type": "code",
      "source": [
        "# mean = 7.949300\n",
        "# median = 7.9\n",
        "# standard deviation = 0.275491"
      ],
      "metadata": {
        "id": "p0vzFoFXziCh"
      },
      "execution_count": 84,
      "outputs": []
    },
    {
      "cell_type": "markdown",
      "source": [
        "3. Which director has directed the most number of movies?"
      ],
      "metadata": {
        "id": "d_k1zoajTxyx"
      }
    },
    {
      "cell_type": "code",
      "source": [
        "df['Director'].value_counts().index[0]"
      ],
      "metadata": {
        "id": "-gvnNqSsT88L",
        "colab": {
          "base_uri": "https://localhost:8080/",
          "height": 35
        },
        "outputId": "7faae062-b034-41b6-b4cb-5b92c0621411"
      },
      "execution_count": 85,
      "outputs": [
        {
          "output_type": "execute_result",
          "data": {
            "text/plain": [
              "'Alfred Hitchcock'"
            ],
            "application/vnd.google.colaboratory.intrinsic+json": {
              "type": "string"
            }
          },
          "metadata": {},
          "execution_count": 85
        }
      ]
    },
    {
      "cell_type": "markdown",
      "source": [
        "4. Name the Movie which has the highest Runtime ?"
      ],
      "metadata": {
        "id": "zGHeeFZnT-yx"
      }
    },
    {
      "cell_type": "code",
      "source": [
        "df.Runtime.sort_values(ascending=True) #.index[0]"
      ],
      "metadata": {
        "id": "-1BAOzXoUKL1",
        "colab": {
          "base_uri": "https://localhost:8080/"
        },
        "outputId": "42491349-7761-40d3-f662-2dd33d80d8e3"
      },
      "execution_count": 86,
      "outputs": [
        {
          "output_type": "execute_result",
          "data": {
            "text/plain": [
              "Series_Title\n",
              "The Maltese Falcon          100 min\n",
              "To Have and Have Not        100 min\n",
              "Coraline                    100 min\n",
              "Key Largo                   100 min\n",
              "50/50                       100 min\n",
              "                             ...   \n",
              "Blood Simple                 99 min\n",
              "To Be or Not to Be           99 min\n",
              "Trois couleurs: Rouge        99 min\n",
              "The Grand Budapest Hotel     99 min\n",
              "Waking Life                  99 min\n",
              "Name: Runtime, Length: 1000, dtype: object"
            ]
          },
          "metadata": {},
          "execution_count": 86
        }
      ]
    },
    {
      "cell_type": "code",
      "source": [
        "df.index[df['Runtime'] == '100 min'].tolist()"
      ],
      "metadata": {
        "colab": {
          "base_uri": "https://localhost:8080/"
        },
        "id": "iC0TM1v3QCGG",
        "outputId": "e3142306-ea6e-4745-bd68-e8079c623d5b"
      },
      "execution_count": 87,
      "outputs": [
        {
          "output_type": "execute_result",
          "data": {
            "text/plain": [
              "['Soul',\n",
              " 'Finding Nemo',\n",
              " 'The Maltese Falcon',\n",
              " 'I, Daniel Blake',\n",
              " 'The Artist',\n",
              " 'King Kong',\n",
              " 'Under sandet',\n",
              " 'Toy Story 4',\n",
              " 'Drive',\n",
              " 'Willy Wonka & the Chocolate Factory',\n",
              " 'The Innocents',\n",
              " 'Key Largo',\n",
              " 'To Have and Have Not',\n",
              " 'The Lego Movie',\n",
              " 'The Hangover',\n",
              " 'Tangled',\n",
              " 'Coraline',\n",
              " 'Glengarry Glen Ross',\n",
              " 'Rupan sansei: Kariosutoro no shiro',\n",
              " 'Belle de jour',\n",
              " '50/50',\n",
              " 'Eastern Promises',\n",
              " 'Dark City']"
            ]
          },
          "metadata": {},
          "execution_count": 87
        }
      ]
    },
    {
      "cell_type": "markdown",
      "source": [
        "5. How many movies are released after year 2000 and have IMDB rating > 8.5 ?"
      ],
      "metadata": {
        "id": "ast-zD1gULUS"
      }
    },
    {
      "cell_type": "code",
      "source": [
        "index = (df['Released_Year'] == 'PG').idxmax()\n",
        "index"
      ],
      "metadata": {
        "id": "GUV0WZh83Pra",
        "outputId": "64462969-a91c-4e1e-d219-4e0408b3d7b2",
        "colab": {
          "base_uri": "https://localhost:8080/",
          "height": 35
        }
      },
      "execution_count": 88,
      "outputs": [
        {
          "output_type": "execute_result",
          "data": {
            "text/plain": [
              "'Apollo 13'"
            ],
            "application/vnd.google.colaboratory.intrinsic+json": {
              "type": "string"
            }
          },
          "metadata": {},
          "execution_count": 88
        }
      ]
    },
    {
      "cell_type": "code",
      "source": [
        "df.at['Apollo 13', 'Released_Year'] = 1995"
      ],
      "metadata": {
        "id": "TiohKpaVR9Sg"
      },
      "execution_count": 89,
      "outputs": []
    },
    {
      "cell_type": "code",
      "source": [
        "df['Released_Year'] = df['Released_Year'].astype('int64')"
      ],
      "metadata": {
        "id": "GwJVWQWn68ZN"
      },
      "execution_count": 93,
      "outputs": []
    },
    {
      "cell_type": "code",
      "source": [
        "df[(df['Released_Year'] > 2000) & (df['IMDB_Rating'] > 8.5)] #.shape[0]\n"
      ],
      "metadata": {
        "colab": {
          "base_uri": "https://localhost:8080/",
          "height": 1000
        },
        "id": "dmqYRKya___z",
        "outputId": "77be270f-a46f-4efd-edcc-5293592015c6"
      },
      "execution_count": 101,
      "outputs": [
        {
          "output_type": "execute_result",
          "data": {
            "text/plain": [
              "                                                   Released_Year Certificate  \\\n",
              "Series_Title                                                                   \n",
              "The Dark Knight                                             2008          UA   \n",
              "The Lord of the Rings: The Return of the King               2003           U   \n",
              "Inception                                                   2010          UA   \n",
              "The Lord of the Rings: The Fellowship of the Ring           2001           U   \n",
              "The Lord of the Rings: The Two Towers                       2002          UA   \n",
              "Hamilton                                                    2020       PG-13   \n",
              "Gisaengchung                                                2019           A   \n",
              "Soorarai Pottru                                             2020           U   \n",
              "Interstellar                                                2014          UA   \n",
              "Cidade de Deus                                              2002           A   \n",
              "Sen to Chihiro no kamikakushi                               2001           U   \n",
              "\n",
              "                                                   Runtime  \\\n",
              "Series_Title                                                 \n",
              "The Dark Knight                                    152 min   \n",
              "The Lord of the Rings: The Return of the King      201 min   \n",
              "Inception                                          148 min   \n",
              "The Lord of the Rings: The Fellowship of the Ring  178 min   \n",
              "The Lord of the Rings: The Two Towers              179 min   \n",
              "Hamilton                                           160 min   \n",
              "Gisaengchung                                       132 min   \n",
              "Soorarai Pottru                                    153 min   \n",
              "Interstellar                                       169 min   \n",
              "Cidade de Deus                                     130 min   \n",
              "Sen to Chihiro no kamikakushi                      125 min   \n",
              "\n",
              "                                                                          Genre  \\\n",
              "Series_Title                                                                      \n",
              "The Dark Knight                                            Action, Crime, Drama   \n",
              "The Lord of the Rings: The Return of the King          Action, Adventure, Drama   \n",
              "Inception                                             Action, Adventure, Sci-Fi   \n",
              "The Lord of the Rings: The Fellowship of the Ring      Action, Adventure, Drama   \n",
              "The Lord of the Rings: The Two Towers                  Action, Adventure, Drama   \n",
              "Hamilton                                              Biography, Drama, History   \n",
              "Gisaengchung                                            Comedy, Drama, Thriller   \n",
              "Soorarai Pottru                                                           Drama   \n",
              "Interstellar                                           Adventure, Drama, Sci-Fi   \n",
              "Cidade de Deus                                                     Crime, Drama   \n",
              "Sen to Chihiro no kamikakushi                      Animation, Adventure, Family   \n",
              "\n",
              "                                                   IMDB_Rating  \\\n",
              "Series_Title                                                     \n",
              "The Dark Knight                                            9.0   \n",
              "The Lord of the Rings: The Return of the King              8.9   \n",
              "Inception                                                  8.8   \n",
              "The Lord of the Rings: The Fellowship of the Ring          8.8   \n",
              "The Lord of the Rings: The Two Towers                      8.7   \n",
              "Hamilton                                                   8.6   \n",
              "Gisaengchung                                               8.6   \n",
              "Soorarai Pottru                                            8.6   \n",
              "Interstellar                                               8.6   \n",
              "Cidade de Deus                                             8.6   \n",
              "Sen to Chihiro no kamikakushi                              8.6   \n",
              "\n",
              "                                                                                            Overview  \\\n",
              "Series_Title                                                                                           \n",
              "The Dark Knight                                    When the menace known as the Joker wreaks havo...   \n",
              "The Lord of the Rings: The Return of the King      Gandalf and Aragorn lead the World of Men agai...   \n",
              "Inception                                          A thief who steals corporate secrets through t...   \n",
              "The Lord of the Rings: The Fellowship of the Ring  A meek Hobbit from the Shire and eight compani...   \n",
              "The Lord of the Rings: The Two Towers              While Frodo and Sam edge closer to Mordor with...   \n",
              "Hamilton                                           The real life of one of America's foremost fou...   \n",
              "Gisaengchung                                       Greed and class discrimination threaten the ne...   \n",
              "Soorarai Pottru                                    Nedumaaran Rajangam \"Maara\" sets out to make t...   \n",
              "Interstellar                                       A team of explorers travel through a wormhole ...   \n",
              "Cidade de Deus                                     In the slums of Rio, two kids' paths diverge a...   \n",
              "Sen to Chihiro no kamikakushi                      During her family's move to the suburbs, a sul...   \n",
              "\n",
              "                                                   Meta_score  \\\n",
              "Series_Title                                                    \n",
              "The Dark Knight                                          84.0   \n",
              "The Lord of the Rings: The Return of the King            94.0   \n",
              "Inception                                                74.0   \n",
              "The Lord of the Rings: The Fellowship of the Ring        92.0   \n",
              "The Lord of the Rings: The Two Towers                    87.0   \n",
              "Hamilton                                                 90.0   \n",
              "Gisaengchung                                             96.0   \n",
              "Soorarai Pottru                                           NaN   \n",
              "Interstellar                                             74.0   \n",
              "Cidade de Deus                                           79.0   \n",
              "Sen to Chihiro no kamikakushi                            96.0   \n",
              "\n",
              "                                                             Director  \\\n",
              "Series_Title                                                            \n",
              "The Dark Knight                                     Christopher Nolan   \n",
              "The Lord of the Rings: The Return of the King           Peter Jackson   \n",
              "Inception                                           Christopher Nolan   \n",
              "The Lord of the Rings: The Fellowship of the Ring       Peter Jackson   \n",
              "The Lord of the Rings: The Two Towers                   Peter Jackson   \n",
              "Hamilton                                                  Thomas Kail   \n",
              "Gisaengchung                                             Bong Joon Ho   \n",
              "Soorarai Pottru                                         Sudha Kongara   \n",
              "Interstellar                                        Christopher Nolan   \n",
              "Cidade de Deus                                     Fernando Meirelles   \n",
              "Sen to Chihiro no kamikakushi                          Hayao Miyazaki   \n",
              "\n",
              "                                                                 Star1  \\\n",
              "Series_Title                                                             \n",
              "The Dark Knight                                         Christian Bale   \n",
              "The Lord of the Rings: The Return of the King              Elijah Wood   \n",
              "Inception                                            Leonardo DiCaprio   \n",
              "The Lord of the Rings: The Fellowship of the Ring          Elijah Wood   \n",
              "The Lord of the Rings: The Two Towers                      Elijah Wood   \n",
              "Hamilton                                            Lin-Manuel Miranda   \n",
              "Gisaengchung                                              Kang-ho Song   \n",
              "Soorarai Pottru                                                 Suriya   \n",
              "Interstellar                                       Matthew McConaughey   \n",
              "Cidade de Deus                                              Kátia Lund   \n",
              "Sen to Chihiro no kamikakushi                            Daveigh Chase   \n",
              "\n",
              "                                                                  Star2  \\\n",
              "Series_Title                                                              \n",
              "The Dark Knight                                            Heath Ledger   \n",
              "The Lord of the Rings: The Return of the King           Viggo Mortensen   \n",
              "Inception                                          Joseph Gordon-Levitt   \n",
              "The Lord of the Rings: The Fellowship of the Ring          Ian McKellen   \n",
              "The Lord of the Rings: The Two Towers                      Ian McKellen   \n",
              "Hamilton                                                   Phillipa Soo   \n",
              "Gisaengchung                                               Lee Sun-kyun   \n",
              "Soorarai Pottru                                                Madhavan   \n",
              "Interstellar                                              Anne Hathaway   \n",
              "Cidade de Deus                                      Alexandre Rodrigues   \n",
              "Sen to Chihiro no kamikakushi                         Suzanne Pleshette   \n",
              "\n",
              "                                                              Star3  \\\n",
              "Series_Title                                                          \n",
              "The Dark Knight                                       Aaron Eckhart   \n",
              "The Lord of the Rings: The Return of the King          Ian McKellen   \n",
              "Inception                                               Elliot Page   \n",
              "The Lord of the Rings: The Fellowship of the Ring     Orlando Bloom   \n",
              "The Lord of the Rings: The Two Towers               Viggo Mortensen   \n",
              "Hamilton                                            Leslie Odom Jr.   \n",
              "Gisaengchung                                          Cho Yeo-jeong   \n",
              "Soorarai Pottru                                        Paresh Rawal   \n",
              "Interstellar                                       Jessica Chastain   \n",
              "Cidade de Deus                                      Leandro Firmino   \n",
              "Sen to Chihiro no kamikakushi                            Miyu Irino   \n",
              "\n",
              "                                                                    Star4  \\\n",
              "Series_Title                                                                \n",
              "The Dark Knight                                             Michael Caine   \n",
              "The Lord of the Rings: The Return of the King               Orlando Bloom   \n",
              "Inception                                                    Ken Watanabe   \n",
              "The Lord of the Rings: The Fellowship of the Ring               Sean Bean   \n",
              "The Lord of the Rings: The Two Towers                       Orlando Bloom   \n",
              "Hamilton                                           Renée Elise Goldsberry   \n",
              "Gisaengchung                                                 Choi Woo-sik   \n",
              "Soorarai Pottru                                         Aparna Balamurali   \n",
              "Interstellar                                                Mackenzie Foy   \n",
              "Cidade de Deus                                       Matheus Nachtergaele   \n",
              "Sen to Chihiro no kamikakushi                                Rumi Hiiragi   \n",
              "\n",
              "                                                   No_of_Votes        Gross  \n",
              "Series_Title                                                                 \n",
              "The Dark Knight                                        2303232  534,858,444  \n",
              "The Lord of the Rings: The Return of the King          1642758  377,845,905  \n",
              "Inception                                              2067042  292,576,195  \n",
              "The Lord of the Rings: The Fellowship of the Ring      1661481  315,544,750  \n",
              "The Lord of the Rings: The Two Towers                  1485555  342,551,365  \n",
              "Hamilton                                                 55291          NaN  \n",
              "Gisaengchung                                            552778   53,367,844  \n",
              "Soorarai Pottru                                          54995          NaN  \n",
              "Interstellar                                           1512360  188,020,017  \n",
              "Cidade de Deus                                          699256    7,563,397  \n",
              "Sen to Chihiro no kamikakushi                           651376   10,055,859  "
            ],
            "text/html": [
              "\n",
              "  <div id=\"df-72095aed-9b19-4ecd-bb7b-21a1901024dd\">\n",
              "    <div class=\"colab-df-container\">\n",
              "      <div>\n",
              "<style scoped>\n",
              "    .dataframe tbody tr th:only-of-type {\n",
              "        vertical-align: middle;\n",
              "    }\n",
              "\n",
              "    .dataframe tbody tr th {\n",
              "        vertical-align: top;\n",
              "    }\n",
              "\n",
              "    .dataframe thead th {\n",
              "        text-align: right;\n",
              "    }\n",
              "</style>\n",
              "<table border=\"1\" class=\"dataframe\">\n",
              "  <thead>\n",
              "    <tr style=\"text-align: right;\">\n",
              "      <th></th>\n",
              "      <th>Released_Year</th>\n",
              "      <th>Certificate</th>\n",
              "      <th>Runtime</th>\n",
              "      <th>Genre</th>\n",
              "      <th>IMDB_Rating</th>\n",
              "      <th>Overview</th>\n",
              "      <th>Meta_score</th>\n",
              "      <th>Director</th>\n",
              "      <th>Star1</th>\n",
              "      <th>Star2</th>\n",
              "      <th>Star3</th>\n",
              "      <th>Star4</th>\n",
              "      <th>No_of_Votes</th>\n",
              "      <th>Gross</th>\n",
              "    </tr>\n",
              "    <tr>\n",
              "      <th>Series_Title</th>\n",
              "      <th></th>\n",
              "      <th></th>\n",
              "      <th></th>\n",
              "      <th></th>\n",
              "      <th></th>\n",
              "      <th></th>\n",
              "      <th></th>\n",
              "      <th></th>\n",
              "      <th></th>\n",
              "      <th></th>\n",
              "      <th></th>\n",
              "      <th></th>\n",
              "      <th></th>\n",
              "      <th></th>\n",
              "    </tr>\n",
              "  </thead>\n",
              "  <tbody>\n",
              "    <tr>\n",
              "      <th>The Dark Knight</th>\n",
              "      <td>2008</td>\n",
              "      <td>UA</td>\n",
              "      <td>152 min</td>\n",
              "      <td>Action, Crime, Drama</td>\n",
              "      <td>9.0</td>\n",
              "      <td>When the menace known as the Joker wreaks havo...</td>\n",
              "      <td>84.0</td>\n",
              "      <td>Christopher Nolan</td>\n",
              "      <td>Christian Bale</td>\n",
              "      <td>Heath Ledger</td>\n",
              "      <td>Aaron Eckhart</td>\n",
              "      <td>Michael Caine</td>\n",
              "      <td>2303232</td>\n",
              "      <td>534,858,444</td>\n",
              "    </tr>\n",
              "    <tr>\n",
              "      <th>The Lord of the Rings: The Return of the King</th>\n",
              "      <td>2003</td>\n",
              "      <td>U</td>\n",
              "      <td>201 min</td>\n",
              "      <td>Action, Adventure, Drama</td>\n",
              "      <td>8.9</td>\n",
              "      <td>Gandalf and Aragorn lead the World of Men agai...</td>\n",
              "      <td>94.0</td>\n",
              "      <td>Peter Jackson</td>\n",
              "      <td>Elijah Wood</td>\n",
              "      <td>Viggo Mortensen</td>\n",
              "      <td>Ian McKellen</td>\n",
              "      <td>Orlando Bloom</td>\n",
              "      <td>1642758</td>\n",
              "      <td>377,845,905</td>\n",
              "    </tr>\n",
              "    <tr>\n",
              "      <th>Inception</th>\n",
              "      <td>2010</td>\n",
              "      <td>UA</td>\n",
              "      <td>148 min</td>\n",
              "      <td>Action, Adventure, Sci-Fi</td>\n",
              "      <td>8.8</td>\n",
              "      <td>A thief who steals corporate secrets through t...</td>\n",
              "      <td>74.0</td>\n",
              "      <td>Christopher Nolan</td>\n",
              "      <td>Leonardo DiCaprio</td>\n",
              "      <td>Joseph Gordon-Levitt</td>\n",
              "      <td>Elliot Page</td>\n",
              "      <td>Ken Watanabe</td>\n",
              "      <td>2067042</td>\n",
              "      <td>292,576,195</td>\n",
              "    </tr>\n",
              "    <tr>\n",
              "      <th>The Lord of the Rings: The Fellowship of the Ring</th>\n",
              "      <td>2001</td>\n",
              "      <td>U</td>\n",
              "      <td>178 min</td>\n",
              "      <td>Action, Adventure, Drama</td>\n",
              "      <td>8.8</td>\n",
              "      <td>A meek Hobbit from the Shire and eight compani...</td>\n",
              "      <td>92.0</td>\n",
              "      <td>Peter Jackson</td>\n",
              "      <td>Elijah Wood</td>\n",
              "      <td>Ian McKellen</td>\n",
              "      <td>Orlando Bloom</td>\n",
              "      <td>Sean Bean</td>\n",
              "      <td>1661481</td>\n",
              "      <td>315,544,750</td>\n",
              "    </tr>\n",
              "    <tr>\n",
              "      <th>The Lord of the Rings: The Two Towers</th>\n",
              "      <td>2002</td>\n",
              "      <td>UA</td>\n",
              "      <td>179 min</td>\n",
              "      <td>Action, Adventure, Drama</td>\n",
              "      <td>8.7</td>\n",
              "      <td>While Frodo and Sam edge closer to Mordor with...</td>\n",
              "      <td>87.0</td>\n",
              "      <td>Peter Jackson</td>\n",
              "      <td>Elijah Wood</td>\n",
              "      <td>Ian McKellen</td>\n",
              "      <td>Viggo Mortensen</td>\n",
              "      <td>Orlando Bloom</td>\n",
              "      <td>1485555</td>\n",
              "      <td>342,551,365</td>\n",
              "    </tr>\n",
              "    <tr>\n",
              "      <th>Hamilton</th>\n",
              "      <td>2020</td>\n",
              "      <td>PG-13</td>\n",
              "      <td>160 min</td>\n",
              "      <td>Biography, Drama, History</td>\n",
              "      <td>8.6</td>\n",
              "      <td>The real life of one of America's foremost fou...</td>\n",
              "      <td>90.0</td>\n",
              "      <td>Thomas Kail</td>\n",
              "      <td>Lin-Manuel Miranda</td>\n",
              "      <td>Phillipa Soo</td>\n",
              "      <td>Leslie Odom Jr.</td>\n",
              "      <td>Renée Elise Goldsberry</td>\n",
              "      <td>55291</td>\n",
              "      <td>NaN</td>\n",
              "    </tr>\n",
              "    <tr>\n",
              "      <th>Gisaengchung</th>\n",
              "      <td>2019</td>\n",
              "      <td>A</td>\n",
              "      <td>132 min</td>\n",
              "      <td>Comedy, Drama, Thriller</td>\n",
              "      <td>8.6</td>\n",
              "      <td>Greed and class discrimination threaten the ne...</td>\n",
              "      <td>96.0</td>\n",
              "      <td>Bong Joon Ho</td>\n",
              "      <td>Kang-ho Song</td>\n",
              "      <td>Lee Sun-kyun</td>\n",
              "      <td>Cho Yeo-jeong</td>\n",
              "      <td>Choi Woo-sik</td>\n",
              "      <td>552778</td>\n",
              "      <td>53,367,844</td>\n",
              "    </tr>\n",
              "    <tr>\n",
              "      <th>Soorarai Pottru</th>\n",
              "      <td>2020</td>\n",
              "      <td>U</td>\n",
              "      <td>153 min</td>\n",
              "      <td>Drama</td>\n",
              "      <td>8.6</td>\n",
              "      <td>Nedumaaran Rajangam \"Maara\" sets out to make t...</td>\n",
              "      <td>NaN</td>\n",
              "      <td>Sudha Kongara</td>\n",
              "      <td>Suriya</td>\n",
              "      <td>Madhavan</td>\n",
              "      <td>Paresh Rawal</td>\n",
              "      <td>Aparna Balamurali</td>\n",
              "      <td>54995</td>\n",
              "      <td>NaN</td>\n",
              "    </tr>\n",
              "    <tr>\n",
              "      <th>Interstellar</th>\n",
              "      <td>2014</td>\n",
              "      <td>UA</td>\n",
              "      <td>169 min</td>\n",
              "      <td>Adventure, Drama, Sci-Fi</td>\n",
              "      <td>8.6</td>\n",
              "      <td>A team of explorers travel through a wormhole ...</td>\n",
              "      <td>74.0</td>\n",
              "      <td>Christopher Nolan</td>\n",
              "      <td>Matthew McConaughey</td>\n",
              "      <td>Anne Hathaway</td>\n",
              "      <td>Jessica Chastain</td>\n",
              "      <td>Mackenzie Foy</td>\n",
              "      <td>1512360</td>\n",
              "      <td>188,020,017</td>\n",
              "    </tr>\n",
              "    <tr>\n",
              "      <th>Cidade de Deus</th>\n",
              "      <td>2002</td>\n",
              "      <td>A</td>\n",
              "      <td>130 min</td>\n",
              "      <td>Crime, Drama</td>\n",
              "      <td>8.6</td>\n",
              "      <td>In the slums of Rio, two kids' paths diverge a...</td>\n",
              "      <td>79.0</td>\n",
              "      <td>Fernando Meirelles</td>\n",
              "      <td>Kátia Lund</td>\n",
              "      <td>Alexandre Rodrigues</td>\n",
              "      <td>Leandro Firmino</td>\n",
              "      <td>Matheus Nachtergaele</td>\n",
              "      <td>699256</td>\n",
              "      <td>7,563,397</td>\n",
              "    </tr>\n",
              "    <tr>\n",
              "      <th>Sen to Chihiro no kamikakushi</th>\n",
              "      <td>2001</td>\n",
              "      <td>U</td>\n",
              "      <td>125 min</td>\n",
              "      <td>Animation, Adventure, Family</td>\n",
              "      <td>8.6</td>\n",
              "      <td>During her family's move to the suburbs, a sul...</td>\n",
              "      <td>96.0</td>\n",
              "      <td>Hayao Miyazaki</td>\n",
              "      <td>Daveigh Chase</td>\n",
              "      <td>Suzanne Pleshette</td>\n",
              "      <td>Miyu Irino</td>\n",
              "      <td>Rumi Hiiragi</td>\n",
              "      <td>651376</td>\n",
              "      <td>10,055,859</td>\n",
              "    </tr>\n",
              "  </tbody>\n",
              "</table>\n",
              "</div>\n",
              "      <button class=\"colab-df-convert\" onclick=\"convertToInteractive('df-72095aed-9b19-4ecd-bb7b-21a1901024dd')\"\n",
              "              title=\"Convert this dataframe to an interactive table.\"\n",
              "              style=\"display:none;\">\n",
              "        \n",
              "  <svg xmlns=\"http://www.w3.org/2000/svg\" height=\"24px\"viewBox=\"0 0 24 24\"\n",
              "       width=\"24px\">\n",
              "    <path d=\"M0 0h24v24H0V0z\" fill=\"none\"/>\n",
              "    <path d=\"M18.56 5.44l.94 2.06.94-2.06 2.06-.94-2.06-.94-.94-2.06-.94 2.06-2.06.94zm-11 1L8.5 8.5l.94-2.06 2.06-.94-2.06-.94L8.5 2.5l-.94 2.06-2.06.94zm10 10l.94 2.06.94-2.06 2.06-.94-2.06-.94-.94-2.06-.94 2.06-2.06.94z\"/><path d=\"M17.41 7.96l-1.37-1.37c-.4-.4-.92-.59-1.43-.59-.52 0-1.04.2-1.43.59L10.3 9.45l-7.72 7.72c-.78.78-.78 2.05 0 2.83L4 21.41c.39.39.9.59 1.41.59.51 0 1.02-.2 1.41-.59l7.78-7.78 2.81-2.81c.8-.78.8-2.07 0-2.86zM5.41 20L4 18.59l7.72-7.72 1.47 1.35L5.41 20z\"/>\n",
              "  </svg>\n",
              "      </button>\n",
              "      \n",
              "  <style>\n",
              "    .colab-df-container {\n",
              "      display:flex;\n",
              "      flex-wrap:wrap;\n",
              "      gap: 12px;\n",
              "    }\n",
              "\n",
              "    .colab-df-convert {\n",
              "      background-color: #E8F0FE;\n",
              "      border: none;\n",
              "      border-radius: 50%;\n",
              "      cursor: pointer;\n",
              "      display: none;\n",
              "      fill: #1967D2;\n",
              "      height: 32px;\n",
              "      padding: 0 0 0 0;\n",
              "      width: 32px;\n",
              "    }\n",
              "\n",
              "    .colab-df-convert:hover {\n",
              "      background-color: #E2EBFA;\n",
              "      box-shadow: 0px 1px 2px rgba(60, 64, 67, 0.3), 0px 1px 3px 1px rgba(60, 64, 67, 0.15);\n",
              "      fill: #174EA6;\n",
              "    }\n",
              "\n",
              "    [theme=dark] .colab-df-convert {\n",
              "      background-color: #3B4455;\n",
              "      fill: #D2E3FC;\n",
              "    }\n",
              "\n",
              "    [theme=dark] .colab-df-convert:hover {\n",
              "      background-color: #434B5C;\n",
              "      box-shadow: 0px 1px 3px 1px rgba(0, 0, 0, 0.15);\n",
              "      filter: drop-shadow(0px 1px 2px rgba(0, 0, 0, 0.3));\n",
              "      fill: #FFFFFF;\n",
              "    }\n",
              "  </style>\n",
              "\n",
              "      <script>\n",
              "        const buttonEl =\n",
              "          document.querySelector('#df-72095aed-9b19-4ecd-bb7b-21a1901024dd button.colab-df-convert');\n",
              "        buttonEl.style.display =\n",
              "          google.colab.kernel.accessAllowed ? 'block' : 'none';\n",
              "\n",
              "        async function convertToInteractive(key) {\n",
              "          const element = document.querySelector('#df-72095aed-9b19-4ecd-bb7b-21a1901024dd');\n",
              "          const dataTable =\n",
              "            await google.colab.kernel.invokeFunction('convertToInteractive',\n",
              "                                                     [key], {});\n",
              "          if (!dataTable) return;\n",
              "\n",
              "          const docLinkHtml = 'Like what you see? Visit the ' +\n",
              "            '<a target=\"_blank\" href=https://colab.research.google.com/notebooks/data_table.ipynb>data table notebook</a>'\n",
              "            + ' to learn more about interactive tables.';\n",
              "          element.innerHTML = '';\n",
              "          dataTable['output_type'] = 'display_data';\n",
              "          await google.colab.output.renderOutput(dataTable, element);\n",
              "          const docLink = document.createElement('div');\n",
              "          docLink.innerHTML = docLinkHtml;\n",
              "          element.appendChild(docLink);\n",
              "        }\n",
              "      </script>\n",
              "    </div>\n",
              "  </div>\n",
              "  "
            ]
          },
          "metadata": {},
          "execution_count": 101
        }
      ]
    },
    {
      "cell_type": "markdown",
      "source": [
        "Using seaborn make different types of plots, observe the trend and answer the questions.\n",
        "6. Make a countplot of Movies directed by top 5 directors."
      ],
      "metadata": {
        "id": "jYq9gv3aUl1u"
      }
    },
    {
      "cell_type": "code",
      "source": [
        "import seaborn as sns\n",
        "import matplotlib.pyplot as plt\n",
        "plt.figure(figsize=(8, 3))\n",
        "top_5_directors = df['Director'].value_counts().head(5).index\n",
        "df_top_5_directors = df[df['Director'].isin(top_5_directors)]\n",
        "\n",
        "sns.countplot(data=df_top_5_directors, x='Director')"
      ],
      "metadata": {
        "id": "WOYH5X29ViUR",
        "colab": {
          "base_uri": "https://localhost:8080/",
          "height": 329
        },
        "outputId": "9e41d05d-13a7-4e9b-b953-eb4f298cbc42"
      },
      "execution_count": 95,
      "outputs": [
        {
          "output_type": "execute_result",
          "data": {
            "text/plain": [
              "<Axes: xlabel='Director', ylabel='count'>"
            ]
          },
          "metadata": {},
          "execution_count": 95
        },
        {
          "output_type": "display_data",
          "data": {
            "text/plain": [
              "<Figure size 800x300 with 1 Axes>"
            ],
            "image/png": "[encoded data removed]"
          },
          "metadata": {}
        }
      ]
    },
    {
      "cell_type": "markdown",
      "source": [
        "7. Make a plot to analyze distribution of IMDB rating?"
      ],
      "metadata": {
        "id": "caUYiLeHVjIf"
      }
    },
    {
      "cell_type": "code",
      "source": [
        "sns.histplot(data=df, x='IMDB_Rating', bins=10)\n"
      ],
      "metadata": {
        "id": "c12iHvlLV9PR",
        "colab": {
          "base_uri": "https://localhost:8080/",
          "height": 468
        },
        "outputId": "098bf886-a147-49bc-90ba-79642edcec15"
      },
      "execution_count": 96,
      "outputs": [
        {
          "output_type": "execute_result",
          "data": {
            "text/plain": [
              "<Axes: xlabel='IMDB_Rating', ylabel='Count'>"
            ]
          },
          "metadata": {},
          "execution_count": 96
        },
        {
          "output_type": "display_data",
          "data": {
            "text/plain": [
              "<Figure size 640x480 with 1 Axes>"
            ],
            "image/png": "[encoded data removed]"
          },
          "metadata": {}
        }
      ]
    },
    {
      "cell_type": "markdown",
      "source": [
        "8. What type of Genre has the highest IMDB rating?"
      ],
      "metadata": {
        "id": "dXCoPuYlWISU"
      }
    },
    {
      "cell_type": "code",
      "source": [
        "genre_ratings = df.groupby('Genre')['IMDB_Rating'].mean()\n",
        "highest_rated_genre = genre_ratings.idxmax()\n",
        "highest_rated_genre"
      ],
      "metadata": {
        "id": "0r9cKE7fWjBU",
        "colab": {
          "base_uri": "https://localhost:8080/",
          "height": 35
        },
        "outputId": "92be6b0e-1e37-403a-f461-54203b8832b5"
      },
      "execution_count": 97,
      "outputs": [
        {
          "output_type": "execute_result",
          "data": {
            "text/plain": [
              "'Animation, Drama, War'"
            ],
            "application/vnd.google.colaboratory.intrinsic+json": {
              "type": "string"
            }
          },
          "metadata": {},
          "execution_count": 97
        }
      ]
    },
    {
      "cell_type": "markdown",
      "source": [
        "9. Name the top 5 movies that have earned highest Meta score. "
      ],
      "metadata": {
        "id": "Ff2urhAhWrHO"
      }
    },
    {
      "cell_type": "code",
      "source": [
        "# Sort the DataFrame by the 'Meta_score' column in descending order\n",
        "df_sorted = df.sort_values(by='Meta_score', ascending=False)\n",
        "\n",
        "# Get the first 5 rows of the sorted DataFrame\n",
        "top_5_movies = df_sorted.head(5)\n",
        "\n",
        "# Get the titles of the top 5 movies\n",
        "top_5_movies.index.tolist()"
      ],
      "metadata": {
        "id": "lta342_iWxLd",
        "colab": {
          "base_uri": "https://localhost:8080/"
        },
        "outputId": "c04ac899-a7a8-4f35-c61e-fa7f11d4da89"
      },
      "execution_count": 98,
      "outputs": [
        {
          "output_type": "execute_result",
          "data": {
            "text/plain": [
              "['Sweet Smell of Success',\n",
              " 'Rear Window',\n",
              " 'Casablanca',\n",
              " 'Trois couleurs: Rouge',\n",
              " 'Notorious']"
            ]
          },
          "metadata": {},
          "execution_count": 98
        }
      ]
    },
    {
      "cell_type": "markdown",
      "source": [
        "10. Of which Genre movie has the highest Runtime?"
      ],
      "metadata": {
        "id": "FPmZIOiwW5Jo"
      }
    },
    {
      "cell_type": "code",
      "source": [
        "df['Runtime'].value_counts()"
      ],
      "metadata": {
        "id": "gzN0lxZa6ga2",
        "outputId": "66fd070a-41bf-497b-ecfb-674ef1babb18",
        "colab": {
          "base_uri": "https://localhost:8080/"
        }
      },
      "execution_count": 110,
      "outputs": [
        {
          "output_type": "execute_result",
          "data": {
            "text/plain": [
              "100 min    23\n",
              "130 min    23\n",
              "129 min    22\n",
              "101 min    22\n",
              "113 min    22\n",
              "           ..\n",
              "185 min     1\n",
              "205 min     1\n",
              "212 min     1\n",
              "238 min     1\n",
              "78 min      1\n",
              "Name: Runtime, Length: 140, dtype: int64"
            ]
          },
          "metadata": {},
          "execution_count": 110
        }
      ]
    },
    {
      "cell_type": "code",
      "source": [
        "# Find the maximum runtime\n",
        "max_runtime = df['Runtime'].max()\n",
        "\n",
        "# Filter the DataFrame to only include rows with the maximum runtime\n",
        "max_runtime_df = df[df['Runtime'] == max_runtime]\n",
        "\n",
        "# Get the genre of the movie with the highest runtime\n",
        "genre = max_runtime_df['Genre'].iloc[0]\n",
        "\n",
        "print(f'The genre of the movie with the highest runtime is: {genre}')"
      ],
      "metadata": {
        "id": "EwyfXmGv7vIq",
        "outputId": "ebc909db-dfe6-412b-fa77-ba7e8b84a08d",
        "colab": {
          "base_uri": "https://localhost:8080/"
        }
      },
      "execution_count": 111,
      "outputs": [
        {
          "output_type": "stream",
          "name": "stdout",
          "text": [
            "The genre of the movie with the highest runtime is: Crime, Drama, Thriller\n"
          ]
        }
      ]
    },
    {
      "cell_type": "markdown",
      "source": [
        "**Using the knowledge about Plotly that you have  try making plots and analyse the data .Whenever you come across an interesting analysis please show the corresponding plot(using Plotly) and comment down your analysis for the same**"
      ],
      "metadata": {
        "id": "B_NatnajpeBE"
      }
    },
    {
      "cell_type": "code",
      "source": [],
      "metadata": {
        "id": "eGoTOAWvpfIu"
      },
      "execution_count": null,
      "outputs": []
    }
  ]
}
